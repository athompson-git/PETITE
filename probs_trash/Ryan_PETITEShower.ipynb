{
 "cells": [
  {
   "cell_type": "code",
   "execution_count": null,
   "metadata": {},
   "outputs": [],
   "source": [
    "%matplotlib inline\n",
    "\n",
    "#import sys\n",
    "#sys.path.insert(0,'../PETITE/')\n",
    "#import os.path\n",
    "#from AllProcesses import *\n",
    "\n",
    "import matplotlib\n",
    "from matplotlib.font_manager import FontProperties\n",
    "matplotlib.rcParams['text.latex.preamble'] = r'\\usepackage{amsmath} \\usepackage{amssymb}'\n",
    "from matplotlib import rc\n",
    "rc('text', usetex=True)\n",
    "\n",
    "from tqdm import tqdm\n",
    "\n",
    "from PETITE import ryan_shower \n",
    "\n",
    "import matplotlib.pyplot as plt\n",
    "import numpy as np\n",
    "from matplotlib.font_manager import FontProperties\n",
    "from matplotlib.ticker import FixedLocator\n",
    "\n",
    "font0 = FontProperties()\n",
    "font = font0.copy()\n",
    "font.set_size(24)\n",
    "font.set_family('serif')\n",
    "labelfont=font0.copy()\n",
    "labelfont.set_size(20)\n",
    "labelfont.set_weight('bold')\n",
    "legfontBig=font0.copy()\n",
    "legfontBig.set_size(18)\n",
    "legfontBig.set_weight('bold')\n",
    "\n",
    "def set_size(w,h, ax=None):\n",
    "    \"\"\" w, h: width, height in inches \"\"\"\n",
    "    if not ax: ax=plt.gca()\n",
    "    l = ax.figure.subplotpars.left\n",
    "    r = ax.figure.subplotpars.right\n",
    "    t = ax.figure.subplotpars.top\n",
    "    b = ax.figure.subplotpars.bottom\n",
    "    figw = float(w)/(r-l)\n",
    "    figh = float(h)/(t-b)\n",
    "    ax.figure.set_size_inches(figw, figh)"
   ]
  },
  {
   "cell_type": "code",
   "execution_count": 11,
   "metadata": {},
   "outputs": [],
   "source": [
    "pre_made_shower = np.load(\"./RyanOutputs/AllParticles_GeVShower_Lead.npy\", allow_pickle=True)"
   ]
  },
  {
   "cell_type": "code",
   "execution_count": 8,
   "metadata": {},
   "outputs": [],
   "source": [
    "LDet0, RDet0 = 574.0, 2.5\n",
    "def RFront(partV, LDet):\n",
    "    RF = []\n",
    "    for part in partV:\n",
    "        x, y, z = part.get_r0()\n",
    "        E, px, py, pz = part.get_p0()\n",
    "        RF.append(np.sqrt((x + px/pz*(LDet-z))**2 + (y + py/pz*(LDet-z))**2))\n",
    "    return np.array(RF)"
   ]
  },
  {
   "cell_type": "code",
   "execution_count": 10,
   "metadata": {},
   "outputs": [
    {
     "ename": "AttributeError",
     "evalue": "'numpy.ndarray' object has no attribute 'get_IDs'",
     "output_type": "error",
     "traceback": [
      "\u001b[0;31m---------------------------------------------------------------------------\u001b[0m",
      "\u001b[0;31mAttributeError\u001b[0m                            Traceback (most recent call last)",
      "Cell \u001b[0;32mIn [10], line 1\u001b[0m\n\u001b[0;32m----> 1\u001b[0m SMPhotonShower \u001b[38;5;241m=\u001b[39m pre_made_shower[[ps\u001b[38;5;241m.\u001b[39mget_IDs()[\u001b[38;5;241m0\u001b[39m] \u001b[38;5;241m==\u001b[39m \u001b[38;5;241m22\u001b[39m \u001b[38;5;28;01mfor\u001b[39;00m ps \u001b[38;5;129;01min\u001b[39;00m PionShower]]\n\u001b[1;32m      2\u001b[0m SMPhotonShowerPass \u001b[38;5;241m=\u001b[39m pre_made_shower[RFront(SMPhotonShower, LDet0) \u001b[38;5;241m<\u001b[39m RDet0]\n",
      "Cell \u001b[0;32mIn [10], line 1\u001b[0m, in \u001b[0;36m<listcomp>\u001b[0;34m(.0)\u001b[0m\n\u001b[0;32m----> 1\u001b[0m SMPhotonShower \u001b[38;5;241m=\u001b[39m pre_made_shower[[\u001b[43mps\u001b[49m\u001b[38;5;241;43m.\u001b[39;49m\u001b[43mget_IDs\u001b[49m()[\u001b[38;5;241m0\u001b[39m] \u001b[38;5;241m==\u001b[39m \u001b[38;5;241m22\u001b[39m \u001b[38;5;28;01mfor\u001b[39;00m ps \u001b[38;5;129;01min\u001b[39;00m PionShower]]\n\u001b[1;32m      2\u001b[0m SMPhotonShowerPass \u001b[38;5;241m=\u001b[39m pre_made_shower[RFront(SMPhotonShower, LDet0) \u001b[38;5;241m<\u001b[39m RDet0]\n",
      "\u001b[0;31mAttributeError\u001b[0m: 'numpy.ndarray' object has no attribute 'get_IDs'"
     ]
    }
   ],
   "source": [
    "SMPhotonShower = pre_made_shower[[ps.get_IDs()[0] == 22 for ps in PionShower]]\n",
    "SMPhotonShowerPass = pre_made_shower[RFront(SMPhotonShower, LDet0) < RDet0]"
   ]
  },
  {
   "cell_type": "code",
   "execution_count": null,
   "metadata": {},
   "outputs": [],
   "source": [
    "print(np.sum([pds.get_IDs()[-1] for pds in SMPhotonShowerPass])/np.sum([pds.get_IDs()[-1] for pds in SMPhotonShower]), np.sum([pds.get_IDs()[-1] for pds in PionDarkBremPass])/np.sum([pds.get_IDs()[-1] for pds in PionDarkBrem]))"
   ]
  },
  {
   "cell_type": "code",
   "execution_count": null,
   "metadata": {},
   "outputs": [],
   "source": [
    "PhotonsPerPOT = 2.9 * 2.0 * 0.98823\n",
    "RWFactor = PhotonsPerPOT/NSamp"
   ]
  },
  {
   "cell_type": "code",
   "execution_count": null,
   "metadata": {},
   "outputs": [],
   "source": [
    "def FF(Eg, mV):\n",
    "    xT = mV/(1.0773*Eg + 0.013716)\n",
    "    expterm = 1154.0*np.exp(-24.42*xT**0.3174)\n",
    "    if expterm > 1.0:\n",
    "        expterm = 1.0\n",
    "    return expterm"
   ]
  },
  {
   "cell_type": "code",
   "execution_count": null,
   "metadata": {},
   "outputs": [],
   "source": [
    "b0 = np.logspace(-2, 2, 41)\n",
    "SME = [[p0.get_p0()[0], p0.get_IDs()[-1]] for p0 in SMPhotonShower]\n",
    "SMPE = [[p0.get_p0()[0], p0.get_IDs()[-1]] for p0 in SMPhotonShowerPass]\n",
    "\n",
    "BSME = [[p0.get_p0()[0], p0.get_IDs()[-1]] for p0 in PionDarkBrem]\n",
    "BSMPE = [[p0.get_p0()[0], p0.get_IDs()[-1]] for p0 in PionDarkBremPass]\n",
    "\n",
    "plt.hist(np.transpose(SME)[0], bins=b0, weights=RWFactor*np.transpose(SME)[1], histtype='step', lw=3, color='C0', ls='-', label=r\"$\\mathrm{SM}$\")\n",
    "plt.hist(np.transpose(SMPE)[0], bins=b0, weights=RWFactor*np.transpose(SMPE)[1], histtype='step', lw=3, color='C0', ls='--', label=r\"$\\mathrm{SM,\\ forward{-}going}$\")\n",
    "plt.hist(np.transpose(BSME)[0], bins=b0, weights=RWFactor*np.transpose(BSME)[1], histtype='step', lw=3, color='C1', ls='-', label=r\"$m_V = 10\\ \\mathrm{MeV}$\")\n",
    "plt.hist(np.transpose(BSMPE)[0], bins=b0, weights=RWFactor*np.transpose(BSMPE)[1], histtype='step', lw=3, color='C1', ls='--', label=r\"$\\mathrm{BSM,\\ forward{-}going}$\")\n",
    "\n",
    "plt.gca().legend(loc=1, fontsize=16)\n",
    "plt.gca().set_xscale('log')\n",
    "plt.gca().set_yscale('log')\n",
    "plt.gca().set_xlabel(r\"$E_\\gamma\\ [\\mathrm{GeV}]$\", fontsize=24)\n",
    "plt.gca().set_ylabel(r\"$\\mathrm{photons/bin/POT}$\", fontsize=24)\n",
    "#plt.gca().axis([1e-3,100,1e-11,1e-3])\n",
    "[l.set_size(16) for l in plt.gca().get_xticklabels()]\n",
    "[l.set_size(16) for l in plt.gca().get_yticklabels()]\n",
    "\n",
    "set_size(12.0, 5.0)\n"
   ]
  },
  {
   "cell_type": "code",
   "execution_count": null,
   "metadata": {},
   "outputs": [],
   "source": [
    "b0 = np.logspace(-2, 2, 41)\n",
    "SMR = [[sm[0], FF(sm[0], 0.010)*sm[1]] for sm in SMPE]\n",
    "\n",
    "plt.hist(np.transpose(SMPE)[0], bins=b0, weights=RWFactor*np.transpose(SMPE)[1], histtype='step', lw=3, color='#999999', ls='-', label=r\"$\\mathrm{SM,\\ (3.38)}$\")\n",
    "plt.hist(np.transpose(SMR)[0], bins=b0, weights=RWFactor*np.transpose(SMR)[1], histtype='step', lw=3, color='C6', ls='-', label=r\"$\\mathrm{BSM,\\ reweighting,\\ (0.93)}$\")\n",
    "plt.hist(np.transpose(BSMPE)[0], bins=b0, weights=RWFactor*np.transpose(BSMPE)[1], histtype='step', lw=3, color='C4', ls='-', label=r\"$\\mathrm{BSM,\\ resampling,\\ (3.5\\times 10^{-3})}$\")\n",
    "\n",
    "plt.gca().legend(loc=1, fontsize=16)\n",
    "plt.gca().set_xscale('log')\n",
    "plt.gca().set_yscale('log')\n",
    "plt.gca().set_xlabel(r\"$E_\\gamma\\ [\\mathrm{GeV}]$\", fontsize=24)\n",
    "plt.gca().set_ylabel(r\"$\\mathrm{photons/bin/POT}$\", fontsize=24)\n",
    "#plt.gca().axis([1e-3,100,1e-11,1e-3])\n",
    "[l.set_size(16) for l in plt.gca().get_xticklabels()]\n",
    "[l.set_size(16) for l in plt.gca().get_yticklabels()]\n",
    "\n",
    "set_size(12.0, 5.0)\n"
   ]
  },
  {
   "cell_type": "code",
   "execution_count": null,
   "metadata": {},
   "outputs": [],
   "source": [
    "print(np.sum(RWFactor*np.transpose(SMPE)[1]), np.sum(RWFactor*np.transpose(SMR)[1]), np.sum(RWFactor*np.transpose(BSMPE)[1]))"
   ]
  },
  {
   "cell_type": "code",
   "execution_count": null,
   "metadata": {},
   "outputs": [],
   "source": [
    "from ipywidgets import IntProgress\n",
    "from IPython.display import display"
   ]
  },
  {
   "cell_type": "code",
   "execution_count": null,
   "metadata": {},
   "outputs": [],
   "source": [
    "BSM3D = [[p0.get_p0()[0], np.sqrt(p0.get_p0()[1]**2 + p0.get_p0()[2]**2)/p0.get_p0()[3], p0.get_IDs()[-1]] for p0 in PionDarkBrem]\n",
    "SM3D = [[p0.get_p0()[0], np.sqrt(p0.get_p0()[1]**2 + p0.get_p0()[2]**2)/p0.get_p0()[3], p0.get_IDs()[-1]] for p0 in SMPhotonShower]\n",
    "SM3DRW = [[p0.get_p0()[0], np.sqrt(p0.get_p0()[1]**2 + p0.get_p0()[2]**2)/p0.get_p0()[3], FF(p0.get_p0()[0], 0.010)*p0.get_IDs()[-1]] for p0 in SMPhotonShower]\n"
   ]
  },
  {
   "cell_type": "code",
   "execution_count": null,
   "metadata": {},
   "outputs": [],
   "source": [
    "figwid = 6.0\n",
    "fighei = 6.0\n",
    "lside = 3.0\n",
    "rside = 3.5\n",
    "wwspace = 0.5\n",
    "\n",
    "ncol = 3\n",
    "nrow = 1\n",
    "\n",
    "wid = lside + ncol*figwid + (ncol-1)*wwspace + rside\n",
    "\n",
    "bot = 3.77\n",
    "top = 3.5\n",
    "hhspace = 0.5\n",
    "\n",
    "hei = bot + nrow*fighei + (nrow-1)*hhspace + top\n",
    "\n",
    "lfactor = lside/wid\n",
    "rfactor = rside/wid\n",
    "bfactor = bot/hei\n",
    "tfactor = top/hei\n",
    "wfactor = wwspace/figwid\n",
    "hfactor = hhspace/fighei\n",
    "\n",
    "matplotlib.rcParams['axes.linewidth'] = 2.0\n",
    "fig, axes = plt.subplots(nrow, ncol, figsize=(wid, hei), facecolor='1.0');\n",
    "fig.subplots_adjust(left = lfactor, bottom=bfactor, right=(1.0-rfactor), top=(1.0-tfactor), wspace=wfactor, hspace=hfactor);\n",
    "\n",
    "ax = axes[0]\n",
    "ax.hist2d(np.transpose(SM3D)[0], np.transpose(SM3D)[1], bins=[np.logspace(-2, 2,41), np.logspace(-4,-1,31)], weights=RWFactor*np.transpose(SM3D)[2], norm=matplotlib.colors.LogNorm())\n",
    "\n",
    "[l.set_size(16) for l in ax.get_xticklabels()]\n",
    "[l.set_size(16) for l in ax.get_yticklabels()]\n",
    "\n",
    "#plt.gca().legend(loc=2, fontsize=16)\n",
    "\n",
    "ax.set_yscale('log')\n",
    "ax.set_xscale('log')\n",
    "ax.set_ylabel(r\"$p_T/p_Z$\", fontsize=24)\n",
    "ax.set_xlabel(r\"$E_\\gamma\\ [\\mathrm{GeV}]$\", fontsize=24)\n",
    "\n",
    "ax = axes[1]\n",
    "ax.hist2d(np.transpose(SM3DRW)[0], np.transpose(SM3DRW)[1], bins=[np.logspace(-2, 2,41), np.logspace(-4,-1,31)], weights=RWFactor*np.transpose(SM3DRW)[2], norm=matplotlib.colors.LogNorm())\n",
    "\n",
    "[l.set_size(16) for l in ax.get_xticklabels()]\n",
    "[l.set_size(-1) for l in ax.get_yticklabels()]\n",
    "\n",
    "#plt.gca().legend(loc=2, fontsize=16)\n",
    "\n",
    "ax.set_yscale('log')\n",
    "ax.set_xscale('log')\n",
    "ax.set_ylabel(r\"\", fontsize=24)\n",
    "ax.set_xlabel(r\"$E_V\\ [\\mathrm{GeV}]$\", fontsize=24)\n",
    "\n",
    "ax = axes[2]\n",
    "ax.hist2d(np.transpose(BSM3D)[0], np.transpose(BSM3D)[1], bins=[np.logspace(-2, 2,41), np.logspace(-4,-1,31)], weights=RWFactor*np.transpose(BSM3D)[2], norm=matplotlib.colors.LogNorm())\n",
    "\n",
    "[l.set_size(16) for l in ax.get_xticklabels()]\n",
    "[l.set_size(-1) for l in ax.get_yticklabels()]\n",
    "\n",
    "#plt.gca().legend(loc=2, fontsize=16)\n",
    "\n",
    "ax.set_yscale('log')\n",
    "ax.set_xscale('log')\n",
    "ax.set_ylabel(r\"\", fontsize=24)\n",
    "ax.set_xlabel(r\"$E_V\\ [\\mathrm{GeV}]$\", fontsize=24)"
   ]
  },
  {
   "cell_type": "code",
   "execution_count": null,
   "metadata": {},
   "outputs": [],
   "source": [
    "figwid = 6.0*16.0/9.0\n",
    "fighei = 6.0\n",
    "lside = 3.0\n",
    "rside = 3.5\n",
    "wwspace = 0.5\n",
    "\n",
    "ncol = 1\n",
    "nrow = 1\n",
    "\n",
    "wid = lside + ncol*figwid + (ncol-1)*wwspace + rside\n",
    "\n",
    "bot = 3.77\n",
    "top = 3.5\n",
    "hhspace = 0.5\n",
    "\n",
    "hei = bot + nrow*fighei + (nrow-1)*hhspace + top\n",
    "\n",
    "lfactor = lside/wid\n",
    "rfactor = rside/wid\n",
    "bfactor = bot/hei\n",
    "tfactor = top/hei\n",
    "wfactor = wwspace/figwid\n",
    "hfactor = hhspace/fighei\n",
    "\n",
    "matplotlib.rcParams['axes.linewidth'] = 2.0\n",
    "fig, axes = plt.subplots(nrow, ncol, figsize=(wid, hei), facecolor='1.0');\n",
    "fig.subplots_adjust(left = lfactor, bottom=bfactor, right=(1.0-rfactor), top=(1.0-tfactor), wspace=wfactor, hspace=hfactor);\n",
    "\n",
    "\n",
    "\n",
    "ax = axes\n",
    "#ax.hist(np.transpose(SM3D)[1], bins=np.logspace(-5,5,101), weights=RWFactor*np.transpose(SM3D)[2], histtype='step', lw=3, color='#999999')\n",
    "ax.hist(np.transpose(SM3DRW)[1], bins=np.logspace(-5,5,26), weights=RWFactor*np.transpose(SM3DRW)[2], histtype='step', lw=3, color='C6', label=r\"$\\mathrm{Reweighted\\ SM\\ Photons}$\")\n",
    "ax.hist(np.transpose(BSM3D)[1], bins=np.logspace(-5,5,26), weights=np.sum(RWFactor*np.transpose(SM3DRW)[2])/np.sum(RWFactor*np.transpose(BSM3D)[2])*RWFactor*np.transpose(BSM3D)[2], histtype='step', lw=3, color='C4', label=r\"$\\mathrm{Resampled\\ SM\\ Shower}$\")\n",
    "\n",
    "[l.set_size(16) for l in ax.get_xticklabels()]\n",
    "[l.set_size(16) for l in ax.get_yticklabels()]\n",
    "\n",
    "ax.legend(loc='best', fontsize=16, framealpha=1.0)\n",
    "ax.set_yscale('log')\n",
    "ax.set_xscale('log')\n",
    "ax.set_xlabel(r\"$p_T/p_Z$\", fontsize=24)\n",
    "ax.set_ylabel(r\"$\\mathrm{photons/bin\\ (arb.\\ norm.)}$\", fontsize=24)\n"
   ]
  },
  {
   "cell_type": "code",
   "execution_count": null,
   "metadata": {},
   "outputs": [],
   "source": []
  }
 ],
 "metadata": {
  "kernelspec": {
   "display_name": "Python 3 (ipykernel)",
   "language": "python",
   "name": "python3"
  },
  "language_info": {
   "codemirror_mode": {
    "name": "ipython",
    "version": 3
   },
   "file_extension": ".py",
   "mimetype": "text/x-python",
   "name": "python",
   "nbconvert_exporter": "python",
   "pygments_lexer": "ipython3",
   "version": "3.10.9"
  },
  "vscode": {
   "interpreter": {
    "hash": "aee8b7b246df8f9039afb4144a1f6fd8d2ca17a180786b69acc140d282b71a49"
   }
  }
 },
 "nbformat": 4,
 "nbformat_minor": 4
}
