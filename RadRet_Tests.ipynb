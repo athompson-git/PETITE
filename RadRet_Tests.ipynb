{
 "cells": [
  {
   "cell_type": "code",
   "execution_count": 1,
   "metadata": {},
   "outputs": [],
   "source": [
    "from PETITE.all_processes import *\n",
    "from tqdm import tqdm"
   ]
  },
  {
   "cell_type": "code",
   "execution_count": 3,
   "metadata": {},
   "outputs": [
    {
     "name": "stderr",
     "output_type": "stream",
     "text": [
      "100%|██████████| 41/41 [00:26<00:00,  1.56it/s]\n"
     ]
    }
   ],
   "source": [
    "event_info = {\"E_inc\":1.0, \"mV\":0.030}\n",
    "energies = np.logspace(-2.0, 1.0, 41)\n",
    "xsec = []\n",
    "for energy in tqdm(energies):\n",
    "    event_info.update({\"E_inc\":energy})\n",
    "    p0 = vegas_integration(event_info, process=\"DarkAnn\", verbose=False, mode=\"XSec\")\n",
    "    xsec.append([energy, p0])\n",
    "xsec = np.array(xsec)"
   ]
  },
  {
   "cell_type": "code",
   "execution_count": 4,
   "metadata": {},
   "outputs": [
    {
     "name": "stderr",
     "output_type": "stream",
     "text": [
      "100%|██████████| 41/41 [00:44<00:00,  1.08s/it]\n"
     ]
    }
   ],
   "source": [
    "event_info = {\"E_inc\":1.0, \"mV\":0.010}\n",
    "energies = np.logspace(-2.0, 1.0, 41)\n",
    "xsec2 = []\n",
    "for energy in tqdm(energies):\n",
    "    event_info.update({\"E_inc\":energy})\n",
    "    p0 = vegas_integration(event_info, process=\"DarkAnn\", verbose=False, mode=\"XSec\")\n",
    "    xsec2.append([energy, p0])\n",
    "xsec2 = np.array(xsec2)"
   ]
  },
  {
   "cell_type": "code",
   "execution_count": 3,
   "metadata": {},
   "outputs": [
    {
     "data": {
      "text/plain": [
       "(array([0.72473511, 0.72473122]), [0.06098263466715228, 0.1413429845441949])"
      ]
     },
     "execution_count": 3,
     "metadata": {},
     "output_type": "execute_result"
    }
   ],
   "source": [
    "(dsigma_radiative_return_du(event_info, [[0.5, 0.8]]), dsigma_compton_dCT(event_info, [[0.5], [0.8]]))"
   ]
  },
  {
   "cell_type": "code",
   "execution_count": 5,
   "metadata": {},
   "outputs": [
    {
     "data": {
      "text/plain": [
       "0.7261492184916477"
      ]
     },
     "execution_count": 5,
     "metadata": {},
     "output_type": "execute_result"
    }
   ],
   "source": [
    "xsec[-1][1]"
   ]
  },
  {
   "cell_type": "code",
   "execution_count": 12,
   "metadata": {},
   "outputs": [],
   "source": [
    "event_info = {\"E_inc\":1.0, \"mV\":0.030}\n",
    "p0 = vegas_integration(event_info, process=\"RadRet\", verbose=False, mode=\"Pickle\")"
   ]
  },
  {
   "cell_type": "code",
   "execution_count": 5,
   "metadata": {},
   "outputs": [],
   "source": [
    "import matplotlib.pyplot as plt"
   ]
  },
  {
   "cell_type": "code",
   "execution_count": 7,
   "metadata": {},
   "outputs": [
    {
     "data": {
      "image/png": "[encoded data removed]",
      "text/plain": [
       "<Figure size 640x480 with 1 Axes>"
      ]
     },
     "metadata": {},
     "output_type": "display_data"
    },
    {
     "data": {
      "text/plain": [
       "(None, None, None)"
      ]
     },
     "execution_count": 7,
     "metadata": {},
     "output_type": "execute_result"
    }
   ],
   "source": [
    "plt.plot(np.transpose(xsec)[0], np.transpose(xsec)[1], lw=2, color='dodgerblue', ls='-')\n",
    "plt.plot(np.transpose(xsec2)[0], np.transpose(xsec2)[1], lw=2, color='coral', ls='-')\n",
    "plt.xscale(\"log\"), plt.yscale(\"log\"), plt.show()"
   ]
  },
  {
   "cell_type": "code",
   "execution_count": null,
   "metadata": {},
   "outputs": [],
   "source": []
  }
 ],
 "metadata": {
  "kernelspec": {
   "display_name": "kjk",
   "language": "python",
   "name": "python3"
  },
  "language_info": {
   "codemirror_mode": {
    "name": "ipython",
    "version": 3
   },
   "file_extension": ".py",
   "mimetype": "text/x-python",
   "name": "python",
   "nbconvert_exporter": "python",
   "pygments_lexer": "ipython3",
   "version": "3.10.6"
  },
  "orig_nbformat": 4
 },
 "nbformat": 4,
 "nbformat_minor": 2
}
