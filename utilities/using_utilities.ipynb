{
 "cells": [
  {
   "cell_type": "markdown",
   "metadata": {},
   "source": [
    "# Using the PETITE utilities to generate new integrator maps\n",
    "Authors: Kevin J. Kelly (Texas A&M), Nikita Blinov (U. Victoria), Ryan Plestid (Caltech), Patrick J. Fox (Fermilab), and Pedro A.M. Machado (Fermilab)\n",
    "\n",
    "! Warning: running this can be time consuming !\n",
    "\n",
    "* First we will generate all the Standard Model processes ('Brem', 'PairProd', 'Comp', 'Ann', 'Moller', 'Bhabha') for a range of energies.\n",
    "* Second we will generate integrators for dark Bremsstrahlung for a range of dark vector masses\n",
    "\n"
   ]
  },
  {
   "cell_type": "code",
   "execution_count": 2,
   "metadata": {},
   "outputs": [
    {
     "name": "stdout",
     "output_type": "stream",
     "text": [
      "/home/pedro/projects/PETITE\n"
     ]
    }
   ],
   "source": [
    "# import necessary functions\n",
    "from generate_integrators import *\n",
    "from find_maxes import *\n",
    "import numpy as np\n",
    "import sys, os\n",
    "path = os.getcwd()\n",
    "path = os.path.split(path)[0]\n",
    "print(path)"
   ]
  },
  {
   "cell_type": "code",
   "execution_count": 4,
   "metadata": {},
   "outputs": [
    {
     "name": "stdout",
     "output_type": "stream",
     "text": [
      "Parameters:\n",
      "{'verbosity': True, 'initial_energy_list': array([1.e-02, 1.e+02]), 'save_location': '/Users/pjfox/Dropbox/Physics/Current_Projects/DarkShowers/PETITE/user_test', 'run_find_maxes': True, 'process_targets': ['graphite', 'lead'], 'A_T': 1, 'Z_T': 1, 'mT': 1.0, 'm_e': 0.0005109989499999999, 'alpha_FS': 0.007297352573756914}\n",
      "Doing process:  Bhabha\n",
      "Starting VEGAS for energy index  0\n",
      "Integrator set up Bhabha {'verbosity': True, 'initial_energy_list': array([1.e-02, 1.e+02]), 'save_location': '/Users/pjfox/Dropbox/Physics/Current_Projects/DarkShowers/PETITE/user_test', 'run_find_maxes': True, 'process_targets': ['graphite', 'lead'], 'A_T': 1, 'Z_T': 1, 'mT': 1.0, 'm_e': 0.0005109989499999999, 'alpha_FS': 0.007297352573756914, 'E_inc': 0.01, 'mV': 0.0, 'Eg_min': 0.001, 'Ee_min': 0.005}\n",
      "Starting VEGAS for energy index  1\n",
      "Integrator set up Bhabha {'verbosity': True, 'initial_energy_list': array([1.e-02, 1.e+02]), 'save_location': '/Users/pjfox/Dropbox/Physics/Current_Projects/DarkShowers/PETITE/user_test', 'run_find_maxes': True, 'process_targets': ['graphite', 'lead'], 'A_T': 1, 'Z_T': 1, 'mT': 1.0, 'm_e': 0.0005109989499999999, 'alpha_FS': 0.007297352573756914, 'E_inc': 100.0, 'mV': 0.0, 'Eg_min': 0.001, 'Ee_min': 0.005}\n",
      "Burn-in complete {'verbosity': True, 'initial_energy_list': array([1.e-02, 1.e+02]), 'save_location': '/Users/pjfox/Dropbox/Physics/Current_Projects/DarkShowers/PETITE/user_test', 'run_find_maxes': True, 'process_targets': ['graphite', 'lead'], 'A_T': 1, 'Z_T': 1, 'mT': 1.0, 'm_e': 0.0005109989499999999, 'alpha_FS': 0.007297352573756914, 'E_inc': 0.01, 'mV': 0.0, 'Eg_min': 0.001, 'Ee_min': 0.005}\n",
      "Fully Integrated {'verbosity': True, 'initial_energy_list': array([1.e-02, 1.e+02]), 'save_location': '/Users/pjfox/Dropbox/Physics/Current_Projects/DarkShowers/PETITE/user_test', 'run_find_maxes': True, 'process_targets': ['graphite', 'lead'], 'A_T': 1, 'Z_T': 1, 'mT': 1.0, 'm_e': 0.0005109989499999999, 'alpha_FS': 0.007297352573756914, 'E_inc': 0.01, 'mV': 0.0, 'Eg_min': 0.001, 'Ee_min': 0.005} 0.0\n",
      "Done VEGAS for energy index  0\n",
      "File created: /Users/pjfox/Dropbox/Physics/Current_Projects/DarkShowers/PETITE/user_test/Bhabha/Bhabha_0.p\n",
      "Burn-in complete {'verbosity': True, 'initial_energy_list': array([1.e-02, 1.e+02]), 'save_location': '/Users/pjfox/Dropbox/Physics/Current_Projects/DarkShowers/PETITE/user_test', 'run_find_maxes': True, 'process_targets': ['graphite', 'lead'], 'A_T': 1, 'Z_T': 1, 'mT': 1.0, 'm_e': 0.0005109989499999999, 'alpha_FS': 0.007297352573756914, 'E_inc': 100.0, 'mV': 0.0, 'Eg_min': 0.001, 'Ee_min': 0.005}\n",
      "Fully Integrated {'verbosity': True, 'initial_energy_list': array([1.e-02, 1.e+02]), 'save_location': '/Users/pjfox/Dropbox/Physics/Current_Projects/DarkShowers/PETITE/user_test', 'run_find_maxes': True, 'process_targets': ['graphite', 'lead'], 'A_T': 1, 'Z_T': 1, 'mT': 1.0, 'm_e': 0.0005109989499999999, 'alpha_FS': 0.007297352573756914, 'E_inc': 100.0, 'mV': 0.0, 'Eg_min': 0.001, 'Ee_min': 0.005} 130.28243276746363\n",
      "Done VEGAS for energy index  1\n",
      "File created: /Users/pjfox/Dropbox/Physics/Current_Projects/DarkShowers/PETITE/user_test/Bhabha/Bhabha_1.p\n",
      "make_integrators is complete, readme files created in /Users/pjfox/Dropbox/Physics/Current_Projects/DarkShowers/PETITE/user_test/Bhabha/ for convenience\n",
      "Stitched integrator saved as /Users/pjfox/Dropbox/Physics/Current_Projects/DarkShowers/PETITE/user_test/Bhabha//Bhabha_AdaptiveMaps.npy\n",
      "Cleaning up files in /Users/pjfox/Dropbox/Physics/Current_Projects/DarkShowers/PETITE/user_test/Bhabha/\n",
      "Now running find_maxes....please wait\n",
      "Parameters used in find_maxes:  {'process_targets': ['graphite', 'lead'], 'save_location': '/Users/pjfox/Dropbox/Physics/Current_Projects/DarkShowers/PETITE/user_test', 'process': ['Bhabha'], 'neval': 300, 'n_trials': 100}\n",
      "List of processes:  ['Bhabha']\n",
      "List of target materials:  ['graphite', 'lead']\n",
      "File being processed:  /Users/pjfox/Dropbox/Physics/Current_Projects/DarkShowers/PETITE/user_test/Bhabha/Bhabha_AdaptiveMaps.npy\n",
      "Saved cross sections to /Users/pjfox/Dropbox/Physics/Current_Projects/DarkShowers/PETITE/user_test/sm_xsecs.pkl\n",
      "Saved samples to /Users/pjfox/Dropbox/Physics/Current_Projects/DarkShowers/PETITE/user_test/sm_maps.pkl\n"
     ]
    }
   ],
   "source": [
    "##################################\n",
    "##         SM processes         ##\n",
    "##################################\n",
    "# List of incoming particle energies at which to calculate integrators for each process\n",
    "initial_energy_list = np.logspace(np.log10(0.01), np.log10(100), 2)\n",
    "# Necessary parameters for generating the integrators, note save_location should be altered as preferred\n",
    "training_params = {'verbosity':True, 'initial_energy_list':initial_energy_list,\n",
    "                   'save_location':path + '/user_test',\n",
    "                   'run_find_maxes':True}\n",
    "# Necessary parameters for processing the integrators to determine cross sections\n",
    "processing_params = {'process_targets':['graphite','lead'], 'save_location':path + '/user_test'}\n",
    "#args = training_params.update(processing_params)\n",
    "# List of processes to do\n",
    "processes_to_do = ['Brem', 'PairProd', 'Comp', 'Ann', 'Moller', 'Bhabha']\n",
    "# Loop over processes, carrying out each step of the calculation, they can also be called in one command generate_integrators\n",
    "for process in processes_to_do:\n",
    "    make_integrators(training_params, process)\n",
    "    stitch_integrators(training_params['save_location'] + '/' + process + '/')\n",
    "    cleanup(training_params['save_location'] + \"/\" + process + \"/\")\n",
    "# List of processes to run find_maxes on, need not be the same as list above\n",
    "find_maxes_processes_to_do = ['Brem', 'PairProd', 'Comp', 'Ann', 'Moller', 'Bhabha']\n",
    "call_find_maxes(processing_params, find_maxes_processes_to_do)\n"
   ]
  },
  {
   "cell_type": "code",
   "execution_count": 23,
   "metadata": {},
   "outputs": [],
   "source": [
    "##################################\n",
    "##         Dark processes       ##\n",
    "##################################\n",
    "initial_energy_list = np.logspace(np.log10(0.01), np.log10(100), 2)\n",
    "# Dark vector masses in GeV\n",
    "mV_list = [0.001, 0.003, 0.010, 0.030, 0.100, 0.300, 1.00]\n",
    "save_location = path + '/user_test'\n",
    "training_params = {'verbosity':True, 'initial_energy_list':initial_energy_list,\n",
    "                   'save_location':save_location,\n",
    "                   'run_find_maxes':True, 'mV_list':mV_list, 'training_target':'hydrogen', 'mT':200.0}\n",
    "processes_to_do = ['DarkBrem']\n",
    "\n",
    "for mV in mV_list:\n",
    "    process = 'DarkBrem'\n",
    "    if mV > initial_energy_list[0]:\n",
    "        initial_energy_list = np.logspace(np.log10(1.01*mV), np.log10(initial_energy_list[-1]), len(initial_energy_list))\n",
    "        training_params.update({'initial_energy_list':initial_energy_list})\n",
    "    training_params.update({\"mV\":mV})\n",
    "    make_integrators(training_params, process)\n",
    "    stitch_integrators(training_params['save_location'] + '/DarkBrem/mV_' + str(int(np.floor(mV*1000.))) + \"MeV/\")\n",
    "    cleanup(training_params['save_location'] + '/DarkBrem/mV_' + str(int(np.floor(mV*1000.))) + \"MeV/\")\n",
    "\n",
    "processing_params = {'process_targets':['graphite','lead'], 'save_location':save_location}\n",
    "call_find_maxes(processing_params, processes_to_do)"
   ]
  },
  {
   "cell_type": "markdown",
   "metadata": {},
   "source": [
    "# OLD BELOW, CLEANUP!?"
   ]
  },
  {
   "cell_type": "code",
   "execution_count": 24,
   "metadata": {},
   "outputs": [
    {
     "name": "stdout",
     "output_type": "stream",
     "text": [
      "Now running find_maxes....please wait\n",
      "Parameters used in find_maxes:  {'process_targets': ['graphite', 'lead'], 'save_location': '/Users/kjkelly/Dropbox/GitHub/PETITE/pfpm_test', 'process': ['Brem', 'PairProd', 'Comp', 'Ann', 'Moller', 'Bhabha'], 'neval': 300, 'n_trials': 100}\n",
      "List of processes:  ['Brem', 'PairProd', 'Comp', 'Ann', 'Moller', 'Bhabha']\n",
      "List of target materials:  ['graphite', 'lead']\n",
      "File being processed:  /Users/kjkelly/Dropbox/GitHub/PETITE/pfpm_test/Brem/Brem_AdaptiveMaps.npy\n",
      "File being processed:  /Users/kjkelly/Dropbox/GitHub/PETITE/pfpm_test/PairProd/PairProd_AdaptiveMaps.npy\n",
      "File being processed:  /Users/kjkelly/Dropbox/GitHub/PETITE/pfpm_test/Comp/Comp_AdaptiveMaps.npy\n",
      "File being processed:  /Users/kjkelly/Dropbox/GitHub/PETITE/pfpm_test/Ann/Ann_AdaptiveMaps.npy\n",
      "File being processed:  /Users/kjkelly/Dropbox/GitHub/PETITE/pfpm_test/Moller/Moller_AdaptiveMaps.npy\n",
      "File being processed:  /Users/kjkelly/Dropbox/GitHub/PETITE/pfpm_test/Bhabha/Bhabha_AdaptiveMaps.npy\n",
      "Saved cross sections to /Users/kjkelly/Dropbox/GitHub/PETITE/pfpm_test/sm_xsecs.pkl\n",
      "Saved samples to /Users/kjkelly/Dropbox/GitHub/PETITE/pfpm_test/sm_maps.pkl\n"
     ]
    }
   ],
   "source": [
    "processing_params = {'process_targets':['graphite','lead'], 'save_location':\"/Users/kjkelly/Dropbox/GitHub/PETITE/pfpm_test\"}\n",
    "call_find_maxes(processing_params, processes_to_do)"
   ]
  },
  {
   "cell_type": "code",
   "execution_count": 25,
   "metadata": {},
   "outputs": [
    {
     "name": "stdout",
     "output_type": "stream",
     "text": [
      "Cross section keys:  dict_keys(['verbosity', 'initial_energy_list', 'save_location', 'run_find_maxes', 'A_T', 'Z_T', 'mT', 'm_e', 'alpha_FS', 'E_inc', 'mV', 'Eg_min', 'Ee_min', 'process'])\n",
      "Adaptive map: <vegas._vegas.AdaptiveMap object at 0x104e9b400>\n"
     ]
    }
   ],
   "source": [
    "## Checking the output\n",
    "# load in the cross sections that were generated\n",
    "cross_sections = np.load(\"/Users/kjkelly/Dropbox/GitHub/PETITE/pfpm_test/Comp/Comp_0.p\", allow_pickle=True)\n",
    "print('Cross section keys: ', cross_sections[0].keys())\n",
    "print('Adaptive map:', cross_sections[1])\n",
    "# # load processed maps\n",
    "# sm_maps = np.load(\"/Users/pmachado/projects/PETITE/paddy_test/sm_maps.pkl\", allow_pickle=True)\n",
    "# print('sm_map shape: ', sm_maps)\n",
    "# print('sm_maps energies for Compton: ', sm_maps['Comp'][:,0], ' GeV')\n",
    "# # load processed xsecs\n",
    "# sm_xsecs = np.load(\"/Users/pmachado/projects/PETITE/paddy_test/sm_xsecs.pkl\", allow_pickle=True)\n",
    "# print('sm_xsecs: ', sm_xsecs)"
   ]
  },
  {
   "cell_type": "code",
   "execution_count": 26,
   "metadata": {},
   "outputs": [
    {
     "name": "stdout",
     "output_type": "stream",
     "text": [
      "file structure:  [{'verbosity': True, 'initial_energy_list': array([1.00000000e-02, 1.84784980e-02, 3.41454887e-02, 6.30957344e-02,\n",
      "        1.16591440e-01, 2.15443469e-01, 3.98107171e-01, 7.35642254e-01,\n",
      "        1.35935639e+00, 2.51188643e+00, 4.64158883e+00, 8.57695899e+00,\n",
      "        1.58489319e+01, 2.92864456e+01, 5.41169527e+01, 1.00000000e+02]), 'save_location': '/Users/kjkelly/Dropbox/GitHub/PETITE/pfpm_test', 'run_find_maxes': True, 'A_T': 1, 'Z_T': 1, 'mT': 1.0, 'm_e': 0.0005109989499999999, 'alpha_FS': 0.007297352573756914, 'E_inc': 0.018478497974222907, 'mV': 0.0, 'Eg_min': 0.001, 'Ee_min': 0.005, 'process': 'Comp'}\n",
      " <vegas._vegas.AdaptiveMap object at 0x103173600>]\n"
     ]
    }
   ],
   "source": [
    "# load /home/pedro/projects/PETITE/pfpm_test/Comp/Comp_AdaptiveMaps.npy\n",
    "adaptive_maps = np.load(\"/Users/kjkelly/Dropbox/GitHub/PETITE/pfpm_test/Comp/Comp_AdaptiveMaps.npy\", allow_pickle=True)\n",
    "print('file structure: ', adaptive_maps[1])"
   ]
  },
  {
   "cell_type": "code",
   "execution_count": 27,
   "metadata": {},
   "outputs": [
    {
     "name": "stdout",
     "output_type": "stream",
     "text": [
      "[0.01, {'neval': 300, 'max_F': 0.47166033413477204, 'adaptive_map': <vegas._vegas.AdaptiveMap object at 0x12055bc00>, 'Eg_min': 0.001, 'Ee_min': 0.005}]\n",
      "[0.018478497974222907, {'neval': 300, 'max_F': 0.3001587989959389, 'adaptive_map': <vegas._vegas.AdaptiveMap object at 0x12035b200>, 'Eg_min': 0.001, 'Ee_min': 0.005}]\n"
     ]
    }
   ],
   "source": [
    "# load /home/pedro/projects/PETITE/pfpm_test/sm_maps.pkl\n",
    "sm_maps = np.load(\"/Users/kjkelly/Dropbox/GitHub/PETITE/pfpm_test/sm_maps.pkl\", allow_pickle=True)\n",
    "sm_xsec = np.load(\"/Users/kjkelly/Dropbox/GitHub/PETITE/pfpm_test/sm_xsec.pkl\", allow_pickle=True)\n",
    "print(sm_maps['Comp'][0])\n",
    "print(sm_maps['Comp'][1])"
   ]
  },
  {
   "cell_type": "code",
   "execution_count": 28,
   "metadata": {},
   "outputs": [
    {
     "data": {
      "text/plain": [
       "dict_keys(['Brem', 'PairProd', 'Comp', 'Ann', 'Moller', 'Bhabha'])"
      ]
     },
     "execution_count": 28,
     "metadata": {},
     "output_type": "execute_result"
    }
   ],
   "source": [
    "sm_maps.keys()"
   ]
  },
  {
   "cell_type": "code",
   "execution_count": 29,
   "metadata": {},
   "outputs": [
    {
     "data": {
      "image/png": "[encoded data removed]",
      "text/plain": [
       "<Figure size 640x480 with 1 Axes>"
      ]
     },
     "metadata": {},
     "output_type": "display_data"
    }
   ],
   "source": [
    "import matplotlib.pyplot as plt\n",
    "\n",
    "x0, y0 = np.transpose(sm_xsec['Brem']['graphite'])\n",
    "plt.plot(x0, y0)\n",
    "x0, y0 = np.transpose(sm_xsec['Brem']['lead'])\n",
    "plt.plot(x0, y0)\n",
    "\n",
    "plt.gca().set_xscale('log')\n",
    "plt.gca().set_yscale('log')\n"
   ]
  },
  {
   "cell_type": "code",
   "execution_count": null,
   "metadata": {},
   "outputs": [],
   "source": []
  }
 ],
 "metadata": {
  "kernelspec": {
   "display_name": "Python 3",
   "language": "python",
   "name": "python3"
  },
  "language_info": {
   "codemirror_mode": {
    "name": "ipython",
    "version": 3
   },
   "file_extension": ".py",
   "mimetype": "text/x-python",
   "name": "python",
   "nbconvert_exporter": "python",
   "pygments_lexer": "ipython3",
   "version": "3.8.10"
  },
  "orig_nbformat": 4
 },
 "nbformat": 4,
 "nbformat_minor": 2
}
