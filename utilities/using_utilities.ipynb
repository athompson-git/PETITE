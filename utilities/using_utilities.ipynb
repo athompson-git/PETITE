{
 "cells": [
  {
   "cell_type": "code",
   "execution_count": 1,
   "metadata": {},
   "outputs": [],
   "source": [
    "# import necessary functions\n",
    "from generate_integrators import *\n",
    "from find_maxes import *"
   ]
  },
  {
   "cell_type": "code",
   "execution_count": 2,
   "metadata": {},
   "outputs": [
    {
     "name": "stdout",
     "output_type": "stream",
     "text": [
      "Parameters:\n",
      "{'verbosity': True, 'initial_energy_list': array([1.00000000e-02, 1.84784980e-02, 3.41454887e-02, 6.30957344e-02,\n",
      "       1.16591440e-01, 2.15443469e-01, 3.98107171e-01, 7.35642254e-01,\n",
      "       1.35935639e+00, 2.51188643e+00, 4.64158883e+00, 8.57695899e+00,\n",
      "       1.58489319e+01, 2.92864456e+01, 5.41169527e+01, 1.00000000e+02]), 'save_location': '/Users/kjkelly/Dropbox/GitHub/PETITE/pfpm_test', 'run_find_maxes': True, 'A_T': 1, 'Z_T': 1, 'mT': 1.0, 'm_e': 0.0005109989499999999, 'alpha_FS': 0.007297352573756914}\n",
      "Doing process:  Brem\n"
     ]
    },
    {
     "name": "stdout",
     "output_type": "stream",
     "text": [
      "Already generated integrator for this point\n",
      "\n",
      "Already generated integrator for this point\n",
      "\n",
      "Already generated integrator for this point\n",
      "\n",
      "Already generated integrator for this point\n",
      "\n",
      "Already generated integrator for this point\n",
      "\n",
      "Already generated integrator for this point\n",
      "\n",
      "Already generated integrator for this point\n",
      "\n",
      "Already generated integrator for this point\n",
      "\n",
      "Already generated integrator for this point\n",
      "\n",
      "Already generated integrator for this point\n",
      "\n",
      "Already generated integrator for this point\n",
      "\n",
      "Already generated integrator for this point\n",
      "\n",
      "Already generated integrator for this point\n",
      "\n",
      "Already generated integrator for this point\n",
      "\n",
      "Already generated integrator for this point\n",
      "\n",
      "Already generated integrator for this point\n",
      "\n",
      "make_integrators is complete, readme files created in /Users/kjkelly/Dropbox/GitHub/PETITE/pfpm_test/Brem/ for convenience\n",
      "Stitched integrator saved as /Users/kjkelly/Dropbox/GitHub/PETITE/pfpm_test/Brem//Brem_AdaptiveMaps.npy\n",
      "Parameters:\n",
      "{'verbosity': True, 'initial_energy_list': array([1.00000000e-02, 1.84784980e-02, 3.41454887e-02, 6.30957344e-02,\n",
      "       1.16591440e-01, 2.15443469e-01, 3.98107171e-01, 7.35642254e-01,\n",
      "       1.35935639e+00, 2.51188643e+00, 4.64158883e+00, 8.57695899e+00,\n",
      "       1.58489319e+01, 2.92864456e+01, 5.41169527e+01, 1.00000000e+02]), 'save_location': '/Users/kjkelly/Dropbox/GitHub/PETITE/pfpm_test', 'run_find_maxes': True, 'A_T': 1, 'Z_T': 1, 'mT': 1.0, 'm_e': 0.0005109989499999999, 'alpha_FS': 0.007297352573756914}\n",
      "Doing process:  PairProd\n",
      "Already generated integrator for this point\n",
      "\n",
      "Already generated integrator for this point\n",
      "\n",
      "Already generated integrator for this point\n",
      "\n",
      "Already generated integrator for this point\n",
      "\n",
      "Already generated integrator for this point\n",
      "\n",
      "Already generated integrator for this point\n",
      "\n",
      "Already generated integrator for this point\n",
      "\n",
      "Already generated integrator for this point\n",
      "\n",
      "Already generated integrator for this point\n",
      "\n",
      "Already generated integrator for this point\n",
      "\n",
      "Already generated integrator for this point\n",
      "\n",
      "Already generated integrator for this point\n",
      "\n",
      "Already generated integrator for this point\n",
      "\n",
      "Already generated integrator for this point\n",
      "\n",
      "Already generated integrator for this point\n",
      "\n",
      "Already generated integrator for this point\n",
      "\n",
      "make_integrators is complete, readme files created in /Users/kjkelly/Dropbox/GitHub/PETITE/pfpm_test/PairProd/ for convenience\n",
      "Stitched integrator saved as /Users/kjkelly/Dropbox/GitHub/PETITE/pfpm_test/PairProd//PairProd_AdaptiveMaps.npy\n",
      "Parameters:\n",
      "{'verbosity': True, 'initial_energy_list': array([1.00000000e-02, 1.84784980e-02, 3.41454887e-02, 6.30957344e-02,\n",
      "       1.16591440e-01, 2.15443469e-01, 3.98107171e-01, 7.35642254e-01,\n",
      "       1.35935639e+00, 2.51188643e+00, 4.64158883e+00, 8.57695899e+00,\n",
      "       1.58489319e+01, 2.92864456e+01, 5.41169527e+01, 1.00000000e+02]), 'save_location': '/Users/kjkelly/Dropbox/GitHub/PETITE/pfpm_test', 'run_find_maxes': True, 'A_T': 1, 'Z_T': 1, 'mT': 1.0, 'm_e': 0.0005109989499999999, 'alpha_FS': 0.007297352573756914}\n",
      "Doing process:  Comp\n",
      "Already generated integrator for this point\n",
      "\n",
      "Already generated integrator for this point\n",
      "\n",
      "Already generated integrator for this point\n",
      "\n",
      "Already generated integrator for this point\n",
      "\n",
      "Already generated integrator for this point\n",
      "\n",
      "Already generated integrator for this point\n",
      "\n",
      "Already generated integrator for this point\n",
      "\n",
      "Already generated integrator for this point\n",
      "\n",
      "Already generated integrator for this point\n",
      "\n",
      "Already generated integrator for this point\n",
      "\n",
      "Already generated integrator for this point\n",
      "\n",
      "Already generated integrator for this point\n",
      "\n",
      "Already generated integrator for this point\n",
      "\n",
      "Already generated integrator for this point\n",
      "\n",
      "Already generated integrator for this point\n",
      "\n",
      "Already generated integrator for this point\n",
      "\n",
      "make_integrators is complete, readme files created in /Users/kjkelly/Dropbox/GitHub/PETITE/pfpm_test/Comp/ for convenience\n",
      "Stitched integrator saved as /Users/kjkelly/Dropbox/GitHub/PETITE/pfpm_test/Comp//Comp_AdaptiveMaps.npy\n",
      "Parameters:\n",
      "{'verbosity': True, 'initial_energy_list': array([1.00000000e-02, 1.84784980e-02, 3.41454887e-02, 6.30957344e-02,\n",
      "       1.16591440e-01, 2.15443469e-01, 3.98107171e-01, 7.35642254e-01,\n",
      "       1.35935639e+00, 2.51188643e+00, 4.64158883e+00, 8.57695899e+00,\n",
      "       1.58489319e+01, 2.92864456e+01, 5.41169527e+01, 1.00000000e+02]), 'save_location': '/Users/kjkelly/Dropbox/GitHub/PETITE/pfpm_test', 'run_find_maxes': True, 'A_T': 1, 'Z_T': 1, 'mT': 1.0, 'm_e': 0.0005109989499999999, 'alpha_FS': 0.007297352573756914}\n",
      "Doing process:  Ann\n",
      "Already generated integrator for this point\n",
      "\n",
      "Already generated integrator for this point\n",
      "\n",
      "Already generated integrator for this point\n",
      "\n",
      "Already generated integrator for this point\n",
      "\n",
      "Already generated integrator for this point\n",
      "\n",
      "Already generated integrator for this point\n",
      "\n",
      "Already generated integrator for this point\n",
      "\n",
      "Already generated integrator for this point\n",
      "\n",
      "Already generated integrator for this point\n",
      "\n",
      "Already generated integrator for this point\n",
      "\n",
      "Already generated integrator for this point\n",
      "\n",
      "Already generated integrator for this point\n",
      "\n",
      "Already generated integrator for this point\n",
      "\n",
      "Already generated integrator for this point\n",
      "\n",
      "Already generated integrator for this point\n",
      "\n",
      "Already generated integrator for this point\n",
      "\n",
      "make_integrators is complete, readme files created in /Users/kjkelly/Dropbox/GitHub/PETITE/pfpm_test/Ann/ for convenience\n",
      "Stitched integrator saved as /Users/kjkelly/Dropbox/GitHub/PETITE/pfpm_test/Ann//Ann_AdaptiveMaps.npy\n",
      "Parameters:\n",
      "{'verbosity': True, 'initial_energy_list': array([1.00000000e-02, 1.84784980e-02, 3.41454887e-02, 6.30957344e-02,\n",
      "       1.16591440e-01, 2.15443469e-01, 3.98107171e-01, 7.35642254e-01,\n",
      "       1.35935639e+00, 2.51188643e+00, 4.64158883e+00, 8.57695899e+00,\n",
      "       1.58489319e+01, 2.92864456e+01, 5.41169527e+01, 1.00000000e+02]), 'save_location': '/Users/kjkelly/Dropbox/GitHub/PETITE/pfpm_test', 'run_find_maxes': True, 'A_T': 1, 'Z_T': 1, 'mT': 1.0, 'm_e': 0.0005109989499999999, 'alpha_FS': 0.007297352573756914}\n",
      "Doing process:  Moller\n",
      "Already generated integrator for this point\n",
      "\n",
      "Already generated integrator for this point\n",
      "\n",
      "Already generated integrator for this point\n",
      "\n",
      "Already generated integrator for this point\n",
      "\n",
      "Already generated integrator for this point\n",
      "\n",
      "Already generated integrator for this point\n",
      "\n",
      "Already generated integrator for this point\n",
      "\n",
      "Already generated integrator for this point\n",
      "\n",
      "Already generated integrator for this point\n",
      "\n",
      "Already generated integrator for this point\n",
      "\n",
      "Already generated integrator for this point\n",
      "\n",
      "Already generated integrator for this point\n",
      "\n",
      "Already generated integrator for this point\n",
      "\n",
      "Already generated integrator for this point\n",
      "\n",
      "Already generated integrator for this point\n",
      "\n",
      "Already generated integrator for this point\n",
      "\n",
      "make_integrators is complete, readme files created in /Users/kjkelly/Dropbox/GitHub/PETITE/pfpm_test/Moller/ for convenience\n",
      "Stitched integrator saved as /Users/kjkelly/Dropbox/GitHub/PETITE/pfpm_test/Moller//Moller_AdaptiveMaps.npy\n",
      "Parameters:\n",
      "{'verbosity': True, 'initial_energy_list': array([1.00000000e-02, 1.84784980e-02, 3.41454887e-02, 6.30957344e-02,\n",
      "       1.16591440e-01, 2.15443469e-01, 3.98107171e-01, 7.35642254e-01,\n",
      "       1.35935639e+00, 2.51188643e+00, 4.64158883e+00, 8.57695899e+00,\n",
      "       1.58489319e+01, 2.92864456e+01, 5.41169527e+01, 1.00000000e+02]), 'save_location': '/Users/kjkelly/Dropbox/GitHub/PETITE/pfpm_test', 'run_find_maxes': True, 'A_T': 1, 'Z_T': 1, 'mT': 1.0, 'm_e': 0.0005109989499999999, 'alpha_FS': 0.007297352573756914}\n",
      "Doing process:  Bhabha\n",
      "Already generated integrator for this point\n",
      "\n",
      "Already generated integrator for this point\n",
      "\n",
      "Already generated integrator for this point\n",
      "\n",
      "Already generated integrator for this point\n",
      "\n",
      "Already generated integrator for this point\n",
      "\n",
      "Already generated integrator for this point\n",
      "\n",
      "Already generated integrator for this point\n",
      "\n",
      "Already generated integrator for this point\n",
      "\n",
      "Already generated integrator for this point\n",
      "\n",
      "Already generated integrator for this point\n",
      "\n",
      "Already generated integrator for this point\n",
      "\n",
      "Already generated integrator for this point\n",
      "\n",
      "Already generated integrator for this point\n",
      "\n",
      "Already generated integrator for this point\n",
      "\n",
      "Already generated integrator for this point\n",
      "\n",
      "Already generated integrator for this point\n",
      "\n",
      "make_integrators is complete, readme files created in /Users/kjkelly/Dropbox/GitHub/PETITE/pfpm_test/Bhabha/ for convenience\n",
      "Stitched integrator saved as /Users/kjkelly/Dropbox/GitHub/PETITE/pfpm_test/Bhabha//Bhabha_AdaptiveMaps.npy\n"
     ]
    }
   ],
   "source": [
    "initial_energy_list = np.logspace(np.log10(0.01), np.log10(100), 16)\n",
    "training_params = {'verbosity':True, 'initial_energy_list':initial_energy_list,\n",
    "                   'save_location':'/Users/kjkelly/Dropbox/GitHub/PETITE/pfpm_test',\n",
    "                   'run_find_maxes':True}\n",
    "processes_to_do = ['Brem', 'PairProd', 'Comp', 'Ann', 'Moller', 'Bhabha']\n",
    "for process in processes_to_do:\n",
    "    make_integrators(training_params, process)\n",
    "    stitch_integrators(training_params['save_location'] + '/' + process + '/')"
   ]
  },
  {
   "cell_type": "code",
   "execution_count": 3,
   "metadata": {},
   "outputs": [
    {
     "name": "stdout",
     "output_type": "stream",
     "text": [
      "Now running find_maxes....please wait\n",
      "Parameters used in find_maxes:  {'process_targets': ['graphite', 'lead'], 'save_location': '/Users/kjkelly/Dropbox/GitHub/PETITE/pfpm_test', 'process': ['Brem', 'PairProd', 'Comp', 'Ann', 'Moller', 'Bhabha'], 'neval': 300, 'n_trials': 100}\n",
      "List of processes:  ['Brem', 'PairProd', 'Comp', 'Ann', 'Moller', 'Bhabha']\n",
      "List of target materials:  ['graphite', 'lead']\n",
      "File being processed:  /Users/kjkelly/Dropbox/GitHub/PETITE/pfpm_test/Brem/Brem_AdaptiveMaps.npy\n",
      "File being processed:  /Users/kjkelly/Dropbox/GitHub/PETITE/pfpm_test/PairProd/PairProd_AdaptiveMaps.npy\n",
      "File being processed:  /Users/kjkelly/Dropbox/GitHub/PETITE/pfpm_test/Comp/Comp_AdaptiveMaps.npy\n",
      "File being processed:  /Users/kjkelly/Dropbox/GitHub/PETITE/pfpm_test/Ann/Ann_AdaptiveMaps.npy\n",
      "File being processed:  /Users/kjkelly/Dropbox/GitHub/PETITE/pfpm_test/Moller/Moller_AdaptiveMaps.npy\n",
      "File being processed:  /Users/kjkelly/Dropbox/GitHub/PETITE/pfpm_test/Bhabha/Bhabha_AdaptiveMaps.npy\n",
      "Saved cross sections to /Users/kjkelly/Dropbox/GitHub/PETITE/pfpm_test/sm_xsecs.pkl\n",
      "Saved samples to /Users/kjkelly/Dropbox/GitHub/PETITE/pfpm_test/sm_maps.pkl\n"
     ]
    }
   ],
   "source": [
    "processing_params = {'process_targets':['graphite','lead'], 'save_location':\"/Users/kjkelly/Dropbox/GitHub/PETITE/pfpm_test\"}\n",
    "call_find_maxes(processing_params, processes_to_do)"
   ]
  },
  {
   "cell_type": "code",
   "execution_count": 4,
   "metadata": {},
   "outputs": [
    {
     "name": "stdout",
     "output_type": "stream",
     "text": [
      "Cross section keys:  dict_keys(['verbosity', 'initial_energy_list', 'save_location', 'run_find_maxes', 'A_T', 'Z_T', 'mT', 'm_e', 'alpha_FS', 'E_inc', 'mV', 'Eg_min', 'Ee_min', 'process'])\n",
      "Adaptive map: <vegas._vegas.AdaptiveMap object at 0x133830c00>\n"
     ]
    }
   ],
   "source": [
    "## Checking the output\n",
    "# load in the cross sections that were generated\n",
    "cross_sections = np.load(\"/Users/kjkelly/Dropbox/GitHub/PETITE/pfpm_test/Comp/Comp_0.p\", allow_pickle=True)\n",
    "print('Cross section keys: ', cross_sections[0].keys())\n",
    "print('Adaptive map:', cross_sections[1])\n",
    "# # load processed maps\n",
    "# sm_maps = np.load(\"/Users/pmachado/projects/PETITE/paddy_test/sm_maps.pkl\", allow_pickle=True)\n",
    "# print('sm_map shape: ', sm_maps)\n",
    "# print('sm_maps energies for Compton: ', sm_maps['Comp'][:,0], ' GeV')\n",
    "# # load processed xsecs\n",
    "# sm_xsecs = np.load(\"/Users/pmachado/projects/PETITE/paddy_test/sm_xsecs.pkl\", allow_pickle=True)\n",
    "# print('sm_xsecs: ', sm_xsecs)"
   ]
  },
  {
   "cell_type": "code",
   "execution_count": 5,
   "metadata": {},
   "outputs": [
    {
     "name": "stdout",
     "output_type": "stream",
     "text": [
      "file structure:  [{'verbosity': True, 'initial_energy_list': array([1.00000000e-02, 1.84784980e-02, 3.41454887e-02, 6.30957344e-02,\n",
      "        1.16591440e-01, 2.15443469e-01, 3.98107171e-01, 7.35642254e-01,\n",
      "        1.35935639e+00, 2.51188643e+00, 4.64158883e+00, 8.57695899e+00,\n",
      "        1.58489319e+01, 2.92864456e+01, 5.41169527e+01, 1.00000000e+02]), 'save_location': '/Users/kjkelly/Dropbox/GitHub/PETITE/pfpm_test', 'run_find_maxes': True, 'A_T': 1, 'Z_T': 1, 'mT': 1.0, 'm_e': 0.0005109989499999999, 'alpha_FS': 0.007297352573756914, 'E_inc': 0.018478497974222907, 'mV': 0.0, 'Eg_min': 0.001, 'Ee_min': 0.005, 'process': 'Comp'}\n",
      " <vegas._vegas.AdaptiveMap object at 0x1239a1800>]\n"
     ]
    }
   ],
   "source": [
    "# load /home/pedro/projects/PETITE/pfpm_test/Comp/Comp_AdaptiveMaps.npy\n",
    "adaptive_maps = np.load(\"/Users/kjkelly/Dropbox/GitHub/PETITE/pfpm_test/Comp/Comp_AdaptiveMaps.npy\", allow_pickle=True)\n",
    "print('file structure: ', adaptive_maps[1])"
   ]
  },
  {
   "cell_type": "code",
   "execution_count": 6,
   "metadata": {},
   "outputs": [
    {
     "name": "stdout",
     "output_type": "stream",
     "text": [
      "[0.01, {'neval': 300, 'max_F': {'graphite': 0.4716631601658567, 'lead': 0.4716631601658567}, 'adaptive_map': <vegas._vegas.AdaptiveMap object at 0x123bbda00>, 'Eg_min': 0.001, 'Ee_min': 0.005}]\n",
      "[0.018478497974222907, {'neval': 300, 'max_F': {'graphite': 0.30015137959571137, 'lead': 0.30015137959571137}, 'adaptive_map': <vegas._vegas.AdaptiveMap object at 0x123a9a800>, 'Eg_min': 0.001, 'Ee_min': 0.005}]\n"
     ]
    }
   ],
   "source": [
    "# load /home/pedro/projects/PETITE/pfpm_test/sm_maps.pkl\n",
    "sm_maps = np.load(\"/Users/kjkelly/Dropbox/GitHub/PETITE/pfpm_test/sm_maps.pkl\", allow_pickle=True)\n",
    "sm_xsec = np.load(\"/Users/kjkelly/Dropbox/GitHub/PETITE/pfpm_test/sm_xsec.pkl\", allow_pickle=True)\n",
    "print(sm_maps['Comp'][0])\n",
    "print(sm_maps['Comp'][1])"
   ]
  },
  {
   "cell_type": "code",
   "execution_count": 7,
   "metadata": {},
   "outputs": [
    {
     "data": {
      "text/plain": [
       "dict_keys(['Brem', 'PairProd', 'Comp', 'Ann', 'Moller', 'Bhabha'])"
      ]
     },
     "execution_count": 7,
     "metadata": {},
     "output_type": "execute_result"
    }
   ],
   "source": [
    "sm_maps.keys()"
   ]
  },
  {
   "cell_type": "code",
   "execution_count": 8,
   "metadata": {},
   "outputs": [
    {
     "data": {
      "image/png": "[encoded data removed]",
      "text/plain": [
       "<Figure size 640x480 with 1 Axes>"
      ]
     },
     "metadata": {},
     "output_type": "display_data"
    }
   ],
   "source": [
    "import matplotlib.pyplot as plt\n",
    "\n",
    "x0, y0 = np.transpose(sm_xsec['Brem']['graphite'])\n",
    "plt.plot(x0, y0)\n",
    "x0, y0 = np.transpose(sm_xsec['Brem']['lead'])\n",
    "plt.plot(x0, y0)\n",
    "\n",
    "plt.gca().set_xscale('log')\n",
    "plt.gca().set_yscale('log')\n"
   ]
  },
  {
   "cell_type": "code",
   "execution_count": null,
   "metadata": {},
   "outputs": [],
   "source": []
  }
 ],
 "metadata": {
  "kernelspec": {
   "display_name": "Python 3",
   "language": "python",
   "name": "python3"
  },
  "language_info": {
   "codemirror_mode": {
    "name": "ipython",
    "version": 3
   },
   "file_extension": ".py",
   "mimetype": "text/x-python",
   "name": "python",
   "nbconvert_exporter": "python",
   "pygments_lexer": "ipython3",
   "version": "3.8.16"
  },
  "orig_nbformat": 4
 },
 "nbformat": 4,
 "nbformat_minor": 2
}
