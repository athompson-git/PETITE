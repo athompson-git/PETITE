{
 "cells": [
  {
   "cell_type": "code",
   "execution_count": 1,
   "metadata": {},
   "outputs": [],
   "source": [
    "# import necessary functions\n",
    "from generate_integrators import *\n",
    "from find_maxes import *"
   ]
  },
  {
   "cell_type": "code",
   "execution_count": 2,
   "metadata": {},
   "outputs": [
    {
     "name": "stdout",
     "output_type": "stream",
     "text": [
      "Parameters:\n",
      "{'A_T': 12, 'Z_T': 6, 'mT': 12, 'mV': 0, 'm_e': 0.0005109989499999999, 'alpha_FS': 0.007297352573756914, 'verbosity': False, 'initial_energy_list': array([1.e-02, 1.e+02]), 'save_location': 'paddy_test', 'run_find_maxes': True, 'find_maxes_save_location': 'paddy_test/fm'}\n",
      "Doing process:  Comp\n",
      "Already generated integrator for this point\n",
      "\n",
      "Already generated integrator for this point\n",
      "\n",
      "make_integrators is complete, readme files created in ../paddy_test/Compfor convenience\n",
      "Now running find_maxes....please wait\n",
      "Parameters used in find_maxes:  {'A_T': 12, 'Z_T': 6, 'mT': 12, 'mV': 0, 'm_e': 0.0005109989499999999, 'alpha_FS': 0.007297352573756914, 'verbosity': False, 'initial_energy_list': array([1.e-02, 1.e+02]), 'save_location': 'paddy_test', 'run_find_maxes': True, 'find_maxes_save_location': 'paddy_test/fm', 'process': 'Comp', 'import_directory': 'paddy_test', 'neval': 300, 'n_trials': 100}\n",
      "Process:  ['Comp']\n",
      "files: ['Comp_readme.txt', '0.p', '1.p', 'readme.txt']\n",
      "Files to process:  ['0.p', '1.p']\n",
      "files: ['Comp_readme.txt', '0.p', '1.p', 'readme.txt']\n",
      "path:  (['0.p', '1.p'], 'readme.txt')\n",
      "Files to process\n",
      "Integrators for Comp\n",
      "\n",
      "Energy/GeV |  Filename\n",
      "\n",
      "    0.010  |    0.p\n",
      "  100.000  |    1.p\n",
      "Integrators made on 2023-06-30 16:33:48.174037\n",
      "Files to be processed:  0.p\n"
     ]
    },
    {
     "name": "stderr",
     "output_type": "stream",
     "text": [
      "  0%|          | 0/2 [00:00<?, ?it/s]\n"
     ]
    },
    {
     "ename": "IndexError",
     "evalue": "invalid index to scalar variable.",
     "output_type": "error",
     "traceback": [
      "\u001b[0;31m---------------------------------------------------------------------------\u001b[0m",
      "\u001b[0;31mIndexError\u001b[0m                                Traceback (most recent call last)",
      "Cell \u001b[0;32mIn[2], line 10\u001b[0m\n\u001b[1;32m      6\u001b[0m make_integrators(params_in, process)\n\u001b[1;32m      7\u001b[0m \u001b[39m# stitch together the integrators FIXME: this is not working\u001b[39;00m\n\u001b[1;32m      8\u001b[0m \u001b[39m# stitch_integrators(params_in['save_location'], process)\u001b[39;00m\n\u001b[1;32m      9\u001b[0m \u001b[39m# run find_maxes and generate cross sections and samples\u001b[39;00m\n\u001b[0;32m---> 10\u001b[0m call_find_maxes(params_in, process)\n",
      "File \u001b[0;32m~/projects/PETITE/utilities/generate_integrators.py:150\u001b[0m, in \u001b[0;36mcall_find_maxes\u001b[0;34m(params, process)\u001b[0m\n\u001b[1;32m    148\u001b[0m     find_maxes_params[\u001b[39m'\u001b[39m\u001b[39mn_trials\u001b[39m\u001b[39m'\u001b[39m] \u001b[39m=\u001b[39m \u001b[39m100\u001b[39m\n\u001b[1;32m    149\u001b[0m     \u001b[39mprint\u001b[39m(\u001b[39m'\u001b[39m\u001b[39mParameters used in find_maxes: \u001b[39m\u001b[39m'\u001b[39m, find_maxes_params)\n\u001b[0;32m--> 150\u001b[0m     find_maxes\u001b[39m.\u001b[39;49mmain(find_maxes_params)\n\u001b[1;32m    151\u001b[0m \u001b[39melse\u001b[39;00m:\n\u001b[1;32m    152\u001b[0m     \u001b[39mprint\u001b[39m(\u001b[39m'\u001b[39m\u001b[39mNot running find_maxes\u001b[39m\u001b[39m'\u001b[39m)\n",
      "File \u001b[0;32m~/projects/PETITE/utilities/find_maxes.py:147\u001b[0m, in \u001b[0;36mmain\u001b[0;34m(params)\u001b[0m\n\u001b[1;32m    145\u001b[0m \u001b[39mfor\u001b[39;00m process_file \u001b[39min\u001b[39;00m tqdm(process_file_array):\n\u001b[1;32m    146\u001b[0m     \u001b[39mfor\u001b[39;00m process \u001b[39min\u001b[39;00m params[\u001b[39m'\u001b[39m\u001b[39mprocess\u001b[39m\u001b[39m'\u001b[39m]:\n\u001b[0;32m--> 147\u001b[0m         \u001b[39mif\u001b[39;00m process_file[\u001b[39m0\u001b[39;49m][\u001b[39m'\u001b[39m\u001b[39mprocess\u001b[39m\u001b[39m'\u001b[39m] \u001b[39m==\u001b[39m process:\n\u001b[1;32m    148\u001b[0m             process_params \u001b[39m=\u001b[39m copy\u001b[39m.\u001b[39mdeepcopy(params)\n\u001b[1;32m    149\u001b[0m             process_params[\u001b[39m'\u001b[39m\u001b[39mprocess\u001b[39m\u001b[39m'\u001b[39m] \u001b[39m=\u001b[39m process\n",
      "\u001b[0;31mIndexError\u001b[0m: invalid index to scalar variable."
     ]
    }
   ],
   "source": [
    "initial_energy_list = np.logspace(np.log10(0.01), np.log10(100), 2)\n",
    "params_in = {'A_T':12,'Z_T':6,'mT':12, 'mV':0, 'm_e': m_electron, 'alpha_FS': alpha_em, 'verbosity': False, 'initial_energy_list': initial_energy_list, 'save_location':\"paddy_test\",\n",
    "             'run_find_maxes': True, 'find_maxes_save_location':\"paddy_test/fm\"}\n",
    "process = 'Comp'\n",
    "# make integrators for Compton scattering\n",
    "make_integrators(params_in, process)\n",
    "# stitch together the integrators FIXME: this is not working\n",
    "# stitch_integrators(params_in['save_location'], process)\n",
    "# run find_maxes and generate cross sections and samples\n",
    "call_find_maxes(params_in, process)"
   ]
  },
  {
   "cell_type": "code",
   "execution_count": null,
   "metadata": {},
   "outputs": [],
   "source": []
  }
 ],
 "metadata": {
  "kernelspec": {
   "display_name": "Python 3",
   "language": "python",
   "name": "python3"
  },
  "language_info": {
   "codemirror_mode": {
    "name": "ipython",
    "version": 3
   },
   "file_extension": ".py",
   "mimetype": "text/x-python",
   "name": "python",
   "nbconvert_exporter": "python",
   "pygments_lexer": "ipython3",
   "version": "3.8.16"
  },
  "orig_nbformat": 4
 },
 "nbformat": 4,
 "nbformat_minor": 2
}
