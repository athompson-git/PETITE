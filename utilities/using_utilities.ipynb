{
 "cells": [
  {
   "cell_type": "code",
   "execution_count": 1,
   "metadata": {},
   "outputs": [],
   "source": [
    "# import necessary functions\n",
    "from generate_integrators import *\n",
    "from find_maxes import *"
   ]
  },
  {
   "cell_type": "code",
   "execution_count": 2,
   "metadata": {},
   "outputs": [
    {
     "name": "stdout",
     "output_type": "stream",
     "text": [
      "Now running find_maxes....please wait\n",
      "Parameters used in find_maxes:  {'A_T': 12, 'Z_T': 6, 'mT': 12, 'mV': 0, 'm_e': 0.0005109989499999999, 'alpha_FS': 0.007297352573756914, 'verbosity': False, 'initial_energy_list': array([1.e-02, 1.e+02]), 'save_location': 'paddy_test', 'run_find_maxes': True, 'find_maxes_save_location': 'paddy_test/fm', 'process': 'Comp', 'import_directory': 'paddy_test', 'neval': 300, 'n_trials': 100}\n",
      "Process:  ['Comp']\n",
      "['sm_xsecs.pkl', 'Comp', 'sm_maps.pkl']\n"
     ]
    }
   ],
   "source": [
    "initial_energy_list = np.logspace(np.log10(0.01), np.log10(100), 2)\n",
    "params_in = {'A_T':12,'Z_T':6,'mT':12, 'mV':0, 'm_e': m_electron, 'alpha_FS': alpha_em, 'verbosity': False, 'initial_energy_list': initial_energy_list, 'save_location':\"paddy_test\",\n",
    "             'run_find_maxes': True, 'find_maxes_save_location':\"paddy_test/fm\"}\n",
    "process = 'Comp'\n",
    "# make_integrators(params_in, process)\n",
    "call_find_maxes(params_in, process)"
   ]
  },
  {
   "cell_type": "code",
   "execution_count": null,
   "metadata": {},
   "outputs": [],
   "source": []
  }
 ],
 "metadata": {
  "kernelspec": {
   "display_name": "Python 3",
   "language": "python",
   "name": "python3"
  },
  "language_info": {
   "codemirror_mode": {
    "name": "ipython",
    "version": 3
   },
   "file_extension": ".py",
   "mimetype": "text/x-python",
   "name": "python",
   "nbconvert_exporter": "python",
   "pygments_lexer": "ipython3",
   "version": "3.8.16"
  },
  "orig_nbformat": 4
 },
 "nbformat": 4,
 "nbformat_minor": 2
}
