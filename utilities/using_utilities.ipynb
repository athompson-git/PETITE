{
 "cells": [
  {
   "cell_type": "code",
   "execution_count": 1,
   "metadata": {},
   "outputs": [],
   "source": [
    "# import necessary functions\n",
    "from generate_integrators import *\n",
    "from find_maxes import *"
   ]
  },
  {
   "cell_type": "code",
   "execution_count": 4,
   "metadata": {},
   "outputs": [
    {
     "name": "stdout",
     "output_type": "stream",
     "text": [
      "Parameters:\n",
      "{'A_T': 12, 'Z_T': 6, 'mT': 12, 'mV': 0, 'm_e': 0.0005109989499999999, 'alpha_FS': 0.007297352573756914, 'verbosity': False, 'initial_energy_list': array([1.e-02, 1.e+02]), 'save_location': 'paddy_test', 'run_find_maxes': True, 'find_maxes_save_location': 'paddy_test/fm'}\n",
      "Doing process:  Comp\n",
      "Already generated integrator for this point\n",
      "\n",
      "Already generated integrator for this point\n",
      "\n",
      "make_integrators - done\n",
      "Now running Find_Maxes....please wait\n",
      "{'A_T': 12, 'Z_T': 6, 'mT': 12, 'mV': 0, 'm_e': 0.0005109989499999999, 'alpha_FS': 0.007297352573756914, 'verbosity': False, 'initial_energy_list': array([1.e-02, 1.e+02]), 'save_location': 'paddy_test/fm', 'run_find_maxes': True, 'find_maxes_save_location': 'paddy_test/fm', 'process': 'Comp', 'import_directory': 'paddy_test/Comp'}\n"
     ]
    },
    {
     "ename": "NameError",
     "evalue": "name 'dsigma_pairprod_dP_T' is not defined",
     "output_type": "error",
     "traceback": [
      "\u001b[0;31m---------------------------------------------------------------------------\u001b[0m",
      "\u001b[0;31mNameError\u001b[0m                                 Traceback (most recent call last)",
      "Cell \u001b[0;32mIn[4], line 6\u001b[0m\n\u001b[1;32m      4\u001b[0m process \u001b[39m=\u001b[39m \u001b[39m'\u001b[39m\u001b[39mComp\u001b[39m\u001b[39m'\u001b[39m\n\u001b[1;32m      5\u001b[0m make_integrators(params_in, process)\n\u001b[0;32m----> 6\u001b[0m call_find_maxes(params_in, process)\n",
      "File \u001b[0;32m~/Dropbox/Physics/Current_Projects/DarkShowers/PETITE/utilities/generate_integrators.py:131\u001b[0m, in \u001b[0;36mcall_find_maxes\u001b[0;34m(params, process)\u001b[0m\n\u001b[1;32m    129\u001b[0m     find_maxes_params[\u001b[39m'\u001b[39m\u001b[39msave_location\u001b[39m\u001b[39m'\u001b[39m] \u001b[39m=\u001b[39m params[\u001b[39m'\u001b[39m\u001b[39mfind_maxes_save_location\u001b[39m\u001b[39m'\u001b[39m]\n\u001b[1;32m    130\u001b[0m     \u001b[39mprint\u001b[39m(find_maxes_params)\n\u001b[0;32m--> 131\u001b[0m     find_maxes\u001b[39m.\u001b[39;49mmain(find_maxes_params)\n\u001b[1;32m    132\u001b[0m \u001b[39melse\u001b[39;00m:\n\u001b[1;32m    133\u001b[0m     \u001b[39mprint\u001b[39m(\u001b[39m'\u001b[39m\u001b[39mNot running find_maxes\u001b[39m\u001b[39m'\u001b[39m)\n",
      "File \u001b[0;32m~/Dropbox/Physics/Current_Projects/DarkShowers/PETITE/utilities/find_maxes.py:55\u001b[0m, in \u001b[0;36mmain\u001b[0;34m(params)\u001b[0m\n\u001b[1;32m     53\u001b[0m \u001b[39mdef\u001b[39;00m \u001b[39mmain\u001b[39m(params):\n\u001b[1;32m     54\u001b[0m     \u001b[39m#Dictionary of proceses with corresponding x-secs, form factors and Q**2 functions\u001b[39;00m\n\u001b[0;32m---> 55\u001b[0m     process_info \u001b[39m=\u001b[39m{\u001b[39m'\u001b[39m\u001b[39mPairProd\u001b[39m\u001b[39m'\u001b[39m : {\u001b[39m'\u001b[39m\u001b[39mdiff_xsection\u001b[39m\u001b[39m'\u001b[39m: dsigma_pairprod_dP_T,   \u001b[39m'\u001b[39m\u001b[39mform_factor\u001b[39m\u001b[39m'\u001b[39m: g2_elastic, \u001b[39m'\u001b[39m\u001b[39mQSq_func\u001b[39m\u001b[39m'\u001b[39m: pair_production_q_sq},\n\u001b[1;32m     56\u001b[0m                    \u001b[39m'\u001b[39m\u001b[39mComp\u001b[39m\u001b[39m'\u001b[39m     : {\u001b[39m'\u001b[39m\u001b[39mdiff_xsection\u001b[39m\u001b[39m'\u001b[39m: dsigma_compton_dCT,     \u001b[39m'\u001b[39m\u001b[39mform_factor\u001b[39m\u001b[39m'\u001b[39m: unity,      \u001b[39m'\u001b[39m\u001b[39mQSq_func\u001b[39m\u001b[39m'\u001b[39m: dummy},\n\u001b[1;32m     57\u001b[0m                     \u001b[39m'\u001b[39m\u001b[39mBrem\u001b[39m\u001b[39m'\u001b[39m     : {\u001b[39m'\u001b[39m\u001b[39mdiff_xsection\u001b[39m\u001b[39m'\u001b[39m: dsigma_brem_dP_T,       \u001b[39m'\u001b[39m\u001b[39mform_factor\u001b[39m\u001b[39m'\u001b[39m: g2_elastic, \u001b[39m'\u001b[39m\u001b[39mQSq_func\u001b[39m\u001b[39m'\u001b[39m: brem_q_sq},\n\u001b[1;32m     58\u001b[0m                     \u001b[39m'\u001b[39m\u001b[39mAnn\u001b[39m\u001b[39m'\u001b[39m      : {\u001b[39m'\u001b[39m\u001b[39mdiff_xsection\u001b[39m\u001b[39m'\u001b[39m: dsigma_annihilation_dCT,\u001b[39m'\u001b[39m\u001b[39mform_factor\u001b[39m\u001b[39m'\u001b[39m: unity,      \u001b[39m'\u001b[39m\u001b[39mQSq_func\u001b[39m\u001b[39m'\u001b[39m: dummy}}\n\u001b[1;32m     59\u001b[0m     \u001b[39m#Set up process to run\u001b[39;00m\n\u001b[1;32m     60\u001b[0m     path \u001b[39m=\u001b[39m \u001b[39m\"\u001b[39m\u001b[39m../\u001b[39m\u001b[39m\"\u001b[39m \u001b[39m+\u001b[39m params[\u001b[39m'\u001b[39m\u001b[39mimport_directory\u001b[39m\u001b[39m'\u001b[39m] \u001b[39m+\u001b[39m \u001b[39m\"\u001b[39m\u001b[39m/\u001b[39m\u001b[39m\"\u001b[39m\n",
      "\u001b[0;31mNameError\u001b[0m: name 'dsigma_pairprod_dP_T' is not defined"
     ]
    }
   ],
   "source": [
    "initial_energy_list = np.logspace(np.log10(0.01), np.log10(100), 2)\n",
    "params_in = {'A_T':12,'Z_T':6,'mT':12, 'mV':0, 'm_e': m_electron, 'alpha_FS': alpha_em, 'verbosity': False, 'initial_energy_list': initial_energy_list, 'save_location':\"paddy_test\",\n",
    "             'run_find_maxes': True, 'find_maxes_save_location':\"paddy_test/fm\"}\n",
    "process = 'Comp'\n",
    "make_integrators(params_in, process)\n",
    "call_find_maxes(params_in, process)"
   ]
  }
 ],
 "metadata": {
  "kernelspec": {
   "display_name": "Python 3",
   "language": "python",
   "name": "python3"
  },
  "language_info": {
   "codemirror_mode": {
    "name": "ipython",
    "version": 3
   },
   "file_extension": ".py",
   "mimetype": "text/x-python",
   "name": "python",
   "nbconvert_exporter": "python",
   "pygments_lexer": "ipython3",
   "version": "3.11.3"
  },
  "orig_nbformat": 4
 },
 "nbformat": 4,
 "nbformat_minor": 2
}
