{
 "cells": [
  {
   "cell_type": "code",
   "execution_count": 1,
   "metadata": {},
   "outputs": [],
   "source": [
    "# import necessary functions\n",
    "from generate_integrators import *\n",
    "from find_maxes import *"
   ]
  },
  {
   "cell_type": "code",
   "execution_count": 2,
   "metadata": {},
   "outputs": [
    {
     "name": "stdout",
     "output_type": "stream",
     "text": [
      "Parameters:\n",
      "{'A_T': 12, 'Z_T': 6, 'mT': 12, 'mV': 0, 'm_e': 0.0005109989499999999, 'alpha_FS': 0.007297352573756914, 'verbosity': False, 'initial_energy_list': array([1.e-02, 1.e+02]), 'save_location': 'paddy_test', 'run_find_maxes': True, 'find_maxes_save_location': 'paddy_test/fm'}\n",
      "Doing process:  Comp\n"
     ]
    },
    {
     "name": "stdout",
     "output_type": "stream",
     "text": [
      "Already generated integrator for this point\n",
      "\n",
      "Already generated integrator for this point\n",
      "\n",
      "make_integrators is complete, readme files created in ../paddy_test/Comp for convenience\n",
      "Stitched integrator saved to ../paddy_test/Comp/Comp_AdaptiveMaps.npy\n",
      "Now running find_maxes....please wait\n",
      "Parameters used in find_maxes:  {'A_T': 12, 'Z_T': 6, 'mT': 12, 'mV': 0, 'm_e': 0.0005109989499999999, 'alpha_FS': 0.007297352573756914, 'verbosity': False, 'initial_energy_list': array([1.e-02, 1.e+02]), 'save_location': 'paddy_test', 'run_find_maxes': True, 'find_maxes_save_location': 'paddy_test/fm', 'process': 'Comp', 'import_directory': 'paddy_test', 'neval': 300, 'n_trials': 100}\n",
      "Process:  ['Comp']\n",
      "files: ['Comp_readme.txt', '.DS_Store', '0.p', '1.p', 'Comp_AdaptiveMaps.npy']\n",
      "Files to process:  ['0.p', '1.p']\n",
      "File being processed:  0.p\n",
      "File being processed:  1.p\n",
      "Overwriting existing cross section for process Comp\n",
      "Overwriting existing samples for process Comp\n",
      "Saved cross sections to ../paddy_test/sm_xsecs.pkl\n",
      "Saved samples to ../paddy_test/sm_maps.pkl\n"
     ]
    }
   ],
   "source": [
    "initial_energy_list = np.logspace(np.log10(0.01), np.log10(100), 2)\n",
    "params_in = {'A_T':12,'Z_T':6,'mT':12, 'mV':0, 'm_e': m_electron, 'alpha_FS': alpha_em, 'verbosity': False, 'initial_energy_list': initial_energy_list, 'save_location':\"paddy_test\",\n",
    "             'run_find_maxes': True, 'find_maxes_save_location':\"paddy_test/fm\"}\n",
    "process = 'Comp'\n",
    "# make integrators for Compton scattering\n",
    "make_integrators(params_in, process)\n",
    "# stitch together the integrators FIXME: do we need to stitch them?\n",
    "dir_for_stitching = '../'+params_in['save_location']+'/Comp/'\n",
    "stitch_integrators(dir_for_stitching, dir_for_stitching+process+'_AdaptiveMaps.npy')\n",
    "# run find_maxes and generate cross sections and samples\n",
    "call_find_maxes(params_in, process)"
   ]
  },
  {
   "cell_type": "code",
   "execution_count": 3,
   "metadata": {},
   "outputs": [
    {
     "name": "stdout",
     "output_type": "stream",
     "text": [
      "Cross section keys:  dict_keys(['A_T', 'Z_T', 'mT', 'mV', 'm_e', 'alpha_FS', 'verbosity', 'initial_energy_list', 'save_location', 'run_find_maxes', 'find_maxes_save_location', 'E_inc', 'Eg_min', 'Ee_min', 'process'])\n",
      "Adaptive map: <vegas._vegas.AdaptiveMap object at 0x7fedc9864a00>\n"
     ]
    }
   ],
   "source": [
    "## Checking the output\n",
    "# load in the cross sections that were generated\n",
    "cross_sections = np.load(\"/Users/pmachado/projects/PETITE/paddy_test/Comp/0.p\", allow_pickle=True)\n",
    "print('Cross section keys: ', cross_sections[0].keys())\n",
    "print('Adaptive map:', cross_sections[1])\n",
    "# # load processed maps\n",
    "# sm_maps = np.load(\"/Users/pmachado/projects/PETITE/paddy_test/sm_maps.pkl\", allow_pickle=True)\n",
    "# print('sm_map shape: ', sm_maps)\n",
    "# print('sm_maps energies for Compton: ', sm_maps['Comp'][:,0], ' GeV')\n",
    "# # load processed xsecs\n",
    "# sm_xsecs = np.load(\"/Users/pmachado/projects/PETITE/paddy_test/sm_xsecs.pkl\", allow_pickle=True)\n",
    "# print('sm_xsecs: ', sm_xsecs)"
   ]
  },
  {
   "cell_type": "code",
   "execution_count": 5,
   "metadata": {},
   "outputs": [],
   "source": [
    "dict = {'111': 0, \"222\": 1}\n",
    "if '112' in dict:\n",
    "    print('yay')"
   ]
  }
 ],
 "metadata": {
  "kernelspec": {
   "display_name": "Python 3",
   "language": "python",
   "name": "python3"
  },
  "language_info": {
   "codemirror_mode": {
    "name": "ipython",
    "version": 3
   },
   "file_extension": ".py",
   "mimetype": "text/x-python",
   "name": "python",
   "nbconvert_exporter": "python",
   "pygments_lexer": "ipython3",
   "version": "3.8.16"
  },
  "orig_nbformat": 4
 },
 "nbformat": 4,
 "nbformat_minor": 2
}
