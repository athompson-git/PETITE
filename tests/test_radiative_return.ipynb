{
 "cells": [
  {
   "cell_type": "code",
   "execution_count": 1,
   "id": "9c753d0b",
   "metadata": {},
   "outputs": [],
   "source": [
    "import numpy as np\n",
    "import sys, os\n",
    "path = os.getcwd()\n",
    "path = os.path.join(path,\"../src/\")\n",
    "sys.path.insert(0,path)\n",
    "\n",
    "\n",
    "from all_processes import *\n",
    "from physical_constants import *\n",
    "\n",
    "from radiative_return import radiative_return_cross_section\n",
    "from kinematics import radiative_return_fourvecs, invariant_mass\n",
    "\n",
    "import vegas\n",
    "from scipy import integrate\n",
    "\n",
    "from copy import deepcopy\n",
    "from multiprocessing import Pool\n",
    "import pickle\n",
    "from functools import partial\n",
    "import argparse\n",
    "import datetime\n",
    "import tqdm\n",
    "\n",
    "def generate_unit_vector(theta, phi):\n",
    "    return np.array([np.cos(phi)*np.sin(theta), np.sin(phi)*np.sin(theta), np.cos(theta)])\n",
    "\n",
    "def tree_level_cross_section(s, mV):\n",
    "    eps = 1.\n",
    "    alpha = 1./137.035999084\n",
    "    mf = 0.51099895 * 1e-3\n",
    "    prefactor = np.power(4.*np.pi*alpha*eps,2)\n",
    "    sigma =  (np.sqrt(-4*np.power(mf,2) + s)*(2*np.power(mf,2)*np.power(np.power(mV,2) - s,2) - s*(np.power(mV,4) - np.power(mV,2)*s + np.power(s,2))) + \\\n",
    "     np.sqrt(s)*(-2*np.power(mf,2) + s)*(np.power(mV,4) + np.power(s,2))*np.arctanh(np.sqrt(1 - (4*np.power(mf,2))/s)))/ \\\n",
    "       (2.*np.pi*s*np.power(-4*np.power(mf,2) + s,2.5)*np.power(-np.power(mV,2) + s,1))\n",
    "    return sigma*prefactor#*3.89379e+08 # 1/GeV^2 -> pb"
   ]
  },
  {
   "cell_type": "markdown",
   "id": "c8498e87",
   "metadata": {},
   "source": [
    "# Test Integration of the Differential Cross Section and Compare to Tree-level"
   ]
  },
  {
   "cell_type": "code",
   "execution_count": 18,
   "id": "a16fa4b1",
   "metadata": {},
   "outputs": [
    {
     "data": {
      "text/plain": [
       "<function all_processes.dsigma_radiative_return_du(event_info, u)>"
      ]
     },
     "execution_count": 18,
     "metadata": {},
     "output_type": "execute_result"
    }
   ],
   "source": [
    "diff_xsection_options[\"RadRet\"]"
   ]
  },
  {
   "cell_type": "code",
   "execution_count": 10,
   "id": "9b04b34a",
   "metadata": {},
   "outputs": [],
   "source": [
    "diff_xsec_func = diff_xsection_options[\"RadRet\"] #dsigma_radiative_return_dx\n",
    "#diff_xsec_func = lambda event_info, x: 1/np.power(1.-x,0.9) if 1.- x > 0. else 0.\n",
    "event_info = {'E_inc': 4., 'mV': 0.05}\n",
    "igrange = integration_range(event_info, \"RadRet\")\n",
    "#integrand = vegas.Integrator(igrange)\n",
    "integrand = vegas.Integrator([[igrange[0][0],igrange[0][1]]])\n",
    "integrand(functools.partial(diff_xsec_func, event_info), nitn=10, neval=5000)\n",
    "res = integrand(functools.partial(diff_xsec_func, event_info), nitn=10, neval=5000,alpha=0.1)"
   ]
  },
  {
   "cell_type": "code",
   "execution_count": 11,
   "id": "b249c079",
   "metadata": {},
   "outputs": [
    {
     "data": {
      "text/plain": [
       "[[0.0, 0.9698309260745127]]"
      ]
     },
     "execution_count": 11,
     "metadata": {},
     "output_type": "execute_result"
    }
   ],
   "source": [
    "igrange"
   ]
  },
  {
   "cell_type": "code",
   "execution_count": 12,
   "id": "9cbbbebf",
   "metadata": {},
   "outputs": [
    {
     "data": {
      "image/png": "[encoded data removed]",
      "text/plain": [
       "<Figure size 432x288 with 1 Axes>"
      ]
     },
     "metadata": {
      "needs_background": "light"
     },
     "output_type": "display_data"
    }
   ],
   "source": [
    "integrand.map.show_grid()\n"
   ]
  },
  {
   "cell_type": "code",
   "execution_count": 18,
   "id": "24e9da0e",
   "metadata": {},
   "outputs": [
    {
     "data": {
      "text/plain": [
       "4.971150280241465"
      ]
     },
     "execution_count": 18,
     "metadata": {},
     "output_type": "execute_result"
    }
   ],
   "source": [
    "res[0].val"
   ]
  },
  {
   "cell_type": "code",
   "execution_count": 13,
   "id": "d94172a3",
   "metadata": {},
   "outputs": [
    {
     "data": {
      "text/plain": [
       "5.01357072060178"
      ]
     },
     "execution_count": 13,
     "metadata": {},
     "output_type": "execute_result"
    }
   ],
   "source": [
    "radiative_return_cross_section(2.*m_electron*(event_info['E_inc'] + m_electron), event_info['mV'])/3.89379e+08"
   ]
  },
  {
   "cell_type": "code",
   "execution_count": 11,
   "id": "4dfbf325",
   "metadata": {},
   "outputs": [
    {
     "data": {
      "text/plain": [
       "(4.971153094534614, 1.6577474874018784e-08)"
      ]
     },
     "execution_count": 11,
     "metadata": {},
     "output_type": "execute_result"
    }
   ],
   "source": [
    "integrate.quad(fff, igrange[0][0],igrange[0][1])"
   ]
  },
  {
   "cell_type": "code",
   "execution_count": 15,
   "id": "c6272a67",
   "metadata": {},
   "outputs": [
    {
     "data": {
      "text/plain": [
       "31.64246563474835"
      ]
     },
     "execution_count": 15,
     "metadata": {},
     "output_type": "execute_result"
    }
   ],
   "source": [
    "2*integrate.quad(fff, np.sqrt(igrange[0][0]),igrange[0][1])[0]"
   ]
  },
  {
   "cell_type": "code",
   "execution_count": 16,
   "id": "ccef0742",
   "metadata": {},
   "outputs": [],
   "source": [
    "import matplotlib.pyplot as plt\n",
    "%matplotlib inline"
   ]
  },
  {
   "cell_type": "code",
   "execution_count": 17,
   "id": "392a9a1c",
   "metadata": {},
   "outputs": [
    {
     "ename": "NameError",
     "evalue": "name 'fff' is not defined",
     "output_type": "error",
     "traceback": [
      "\u001b[0;31m---------------------------------------------------------------------------\u001b[0m",
      "\u001b[0;31mNameError\u001b[0m                                 Traceback (most recent call last)",
      "\u001b[0;32m/tmp/ipykernel_41161/2510400866.py\u001b[0m in \u001b[0;36m<module>\u001b[0;34m\u001b[0m\n\u001b[1;32m      1\u001b[0m \u001b[0mx_list\u001b[0m \u001b[0;34m=\u001b[0m \u001b[0mnp\u001b[0m\u001b[0;34m.\u001b[0m\u001b[0mlinspace\u001b[0m\u001b[0;34m(\u001b[0m\u001b[0migrange\u001b[0m\u001b[0;34m[\u001b[0m\u001b[0;36m0\u001b[0m\u001b[0;34m]\u001b[0m\u001b[0;34m[\u001b[0m\u001b[0;36m0\u001b[0m\u001b[0;34m]\u001b[0m\u001b[0;34m,\u001b[0m\u001b[0migrange\u001b[0m\u001b[0;34m[\u001b[0m\u001b[0;36m0\u001b[0m\u001b[0;34m]\u001b[0m\u001b[0;34m[\u001b[0m\u001b[0;36m1\u001b[0m\u001b[0;34m]\u001b[0m\u001b[0;34m,\u001b[0m\u001b[0;36m1000\u001b[0m\u001b[0;34m)\u001b[0m\u001b[0;34m\u001b[0m\u001b[0;34m\u001b[0m\u001b[0m\n\u001b[0;32m----> 2\u001b[0;31m \u001b[0mplt\u001b[0m\u001b[0;34m.\u001b[0m\u001b[0mplot\u001b[0m\u001b[0;34m(\u001b[0m\u001b[0mx_list\u001b[0m\u001b[0;34m,\u001b[0m \u001b[0;34m[\u001b[0m\u001b[0mfff\u001b[0m\u001b[0;34m(\u001b[0m\u001b[0mx\u001b[0m\u001b[0;34m)\u001b[0m \u001b[0;32mfor\u001b[0m \u001b[0mx\u001b[0m \u001b[0;32min\u001b[0m \u001b[0mx_list\u001b[0m\u001b[0;34m]\u001b[0m\u001b[0;34m)\u001b[0m\u001b[0;34m\u001b[0m\u001b[0;34m\u001b[0m\u001b[0m\n\u001b[0m",
      "\u001b[0;32m/tmp/ipykernel_41161/2510400866.py\u001b[0m in \u001b[0;36m<listcomp>\u001b[0;34m(.0)\u001b[0m\n\u001b[1;32m      1\u001b[0m \u001b[0mx_list\u001b[0m \u001b[0;34m=\u001b[0m \u001b[0mnp\u001b[0m\u001b[0;34m.\u001b[0m\u001b[0mlinspace\u001b[0m\u001b[0;34m(\u001b[0m\u001b[0migrange\u001b[0m\u001b[0;34m[\u001b[0m\u001b[0;36m0\u001b[0m\u001b[0;34m]\u001b[0m\u001b[0;34m[\u001b[0m\u001b[0;36m0\u001b[0m\u001b[0;34m]\u001b[0m\u001b[0;34m,\u001b[0m\u001b[0migrange\u001b[0m\u001b[0;34m[\u001b[0m\u001b[0;36m0\u001b[0m\u001b[0;34m]\u001b[0m\u001b[0;34m[\u001b[0m\u001b[0;36m1\u001b[0m\u001b[0;34m]\u001b[0m\u001b[0;34m,\u001b[0m\u001b[0;36m1000\u001b[0m\u001b[0;34m)\u001b[0m\u001b[0;34m\u001b[0m\u001b[0;34m\u001b[0m\u001b[0m\n\u001b[0;32m----> 2\u001b[0;31m \u001b[0mplt\u001b[0m\u001b[0;34m.\u001b[0m\u001b[0mplot\u001b[0m\u001b[0;34m(\u001b[0m\u001b[0mx_list\u001b[0m\u001b[0;34m,\u001b[0m \u001b[0;34m[\u001b[0m\u001b[0mfff\u001b[0m\u001b[0;34m(\u001b[0m\u001b[0mx\u001b[0m\u001b[0;34m)\u001b[0m \u001b[0;32mfor\u001b[0m \u001b[0mx\u001b[0m \u001b[0;32min\u001b[0m \u001b[0mx_list\u001b[0m\u001b[0;34m]\u001b[0m\u001b[0;34m)\u001b[0m\u001b[0;34m\u001b[0m\u001b[0;34m\u001b[0m\u001b[0m\n\u001b[0m",
      "\u001b[0;31mNameError\u001b[0m: name 'fff' is not defined"
     ]
    }
   ],
   "source": [
    "x_list = np.linspace(igrange[0][0],igrange[0][1],1000)\n",
    "plt.plot(x_list, [fff(x) for x in x_list])"
   ]
  },
  {
   "cell_type": "code",
   "execution_count": 32,
   "id": "a6ae0a95",
   "metadata": {},
   "outputs": [
    {
     "name": "stderr",
     "output_type": "stream",
     "text": [
      "100%|██████████████████████████████████████████████████████████████████████████████████████████████████████████████████████████████████████| 100/100 [01:49<00:00,  1.09s/it]\n"
     ]
    }
   ],
   "source": [
    "Einc_list = np.logspace(0,2,100)\n",
    "rr_xsec_list = []\n",
    "treelevel_xsec_list = []\n",
    "for Einc in tqdm.tqdm(Einc_list):\n",
    "    event_info = {'E_inc': Einc, 'mV': 0.1}\n",
    "    \n",
    "    igrange = integration_range(event_info, \"RadRet\")\n",
    "    \n",
    "    integrand = vegas.Integrator([[igrange[0][0],igrange[0][1]]])\n",
    "    res = integrand(functools.partial(diff_xsec_func, event_info), nitn=10, neval=10000)\n",
    "    if hasattr(res,'val'):\n",
    "        rr_xsec_list.append(res.val)\n",
    "    else:\n",
    "        rr_xsec_list.append(res[0].val)\n",
    "    \n",
    "    s = 2.*m_electron*(Einc + m_electron)\n",
    "    if s > event_info['mV']**2:\n",
    "        treelevel_xsec_list.append(tree_level_cross_section(s, event_info['mV']))\n",
    "    else:\n",
    "        treelevel_xsec_list.append(0.)"
   ]
  },
  {
   "cell_type": "code",
   "execution_count": 25,
   "id": "19b3ffab",
   "metadata": {},
   "outputs": [
    {
     "data": {
      "text/plain": [
       "0.0"
      ]
     },
     "execution_count": 25,
     "metadata": {},
     "output_type": "execute_result"
    }
   ],
   "source": [
    "res.val"
   ]
  },
  {
   "cell_type": "code",
   "execution_count": 30,
   "id": "76026e00",
   "metadata": {},
   "outputs": [],
   "source": [
    "import matplotlib.pyplot as plt\n",
    "%matplotlib inline"
   ]
  },
  {
   "cell_type": "code",
   "execution_count": 35,
   "id": "c69c1c8c",
   "metadata": {},
   "outputs": [
    {
     "data": {
      "image/png": "[encoded data removed]",
      "text/plain": [
       "<Figure size 432x288 with 1 Axes>"
      ]
     },
     "metadata": {
      "needs_background": "light"
     },
     "output_type": "display_data"
    }
   ],
   "source": [
    "\n",
    "plt.plot(Einc_list, rr_xsec_list)\n",
    "plt.plot(Einc_list, treelevel_xsec_list)\n",
    "plt.xscale('log')\n",
    "plt.yscale('log')"
   ]
  },
  {
   "cell_type": "code",
   "execution_count": 40,
   "id": "32daab4f",
   "metadata": {},
   "outputs": [
    {
     "data": {
      "image/png": "[encoded data removed]",
      "text/plain": [
       "<Figure size 432x288 with 1 Axes>"
      ]
     },
     "metadata": {
      "needs_background": "light"
     },
     "output_type": "display_data"
    }
   ],
   "source": [
    "\n",
    "plt.plot(Einc_list, np.array(rr_xsec_list)/(1e-10+np.array(treelevel_xsec_list)))\n",
    "\n",
    "plt.xscale('log')\n",
    "plt.yscale('log')"
   ]
  },
  {
   "cell_type": "code",
   "execution_count": 43,
   "id": "539534b3",
   "metadata": {},
   "outputs": [
    {
     "name": "stderr",
     "output_type": "stream",
     "text": [
      "100%|██████████████████████████████████████████████████████████████████████████████████████████████████████████████████████████████████████| 100/100 [03:42<00:00,  2.23s/it]\n"
     ]
    }
   ],
   "source": [
    "Einc_list = np.logspace(0,2,100)\n",
    "rr_xsec_list = []\n",
    "treelevel_xsec_list = []\n",
    "for Einc in tqdm.tqdm(Einc_list):\n",
    "    event_info = {'E_inc': Einc, 'mV': 0.01}\n",
    "    \n",
    "    igrange = integration_range(event_info, \"RadRet\")\n",
    "    \n",
    "    integrand = vegas.Integrator([[igrange[0][0],igrange[0][1]]])\n",
    "    res = integrand(functools.partial(diff_xsec_func, event_info), nitn=10, neval=10000)\n",
    "    if hasattr(res,'val'):\n",
    "        rr_xsec_list.append(res.val)\n",
    "    else:\n",
    "        rr_xsec_list.append(res[0].val)\n",
    "    \n",
    "    s = 2.*m_electron*(Einc + m_electron)\n",
    "    if s > event_info['mV']**2:\n",
    "        treelevel_xsec_list.append(tree_level_cross_section(s, event_info['mV']))\n",
    "    else:\n",
    "        treelevel_xsec_list.append(0.)"
   ]
  },
  {
   "cell_type": "code",
   "execution_count": 44,
   "id": "c31de035",
   "metadata": {},
   "outputs": [
    {
     "data": {
      "image/png": "[encoded data removed]",
      "text/plain": [
       "<Figure size 432x288 with 1 Axes>"
      ]
     },
     "metadata": {
      "needs_background": "light"
     },
     "output_type": "display_data"
    }
   ],
   "source": [
    "\n",
    "plt.plot(Einc_list, np.array(rr_xsec_list)/(1e-10+np.array(treelevel_xsec_list)))\n",
    "\n",
    "plt.xscale('log')\n",
    "plt.yscale('log')"
   ]
  },
  {
   "cell_type": "markdown",
   "id": "1e78ae30",
   "metadata": {},
   "source": [
    "# Test Sampling of the \"luminosity\" function"
   ]
  },
  {
   "cell_type": "code",
   "execution_count": 36,
   "id": "66dfabb2",
   "metadata": {},
   "outputs": [],
   "source": [
    "diff_xsec_func = diff_xsection_options[\"RadRet\"] #dsigma_radiative_return_dx\n",
    "#diff_xsec_func = lambda event_info, x: 1/np.power(1.-x,0.9) if 1.- x > 0. else 0.\n",
    "event_info = {'E_inc': 5., 'mV': 0.05}\n",
    "s = 2.*m_electron*(event_info['E_inc'] + m_electron)\n",
    "igrange = integration_range(event_info, \"RadRet\")\n",
    "#integrand = vegas.Integrator(igrange)\n",
    "integrand = vegas.Integrator([[igrange[0][0],igrange[0][1]]])\n",
    "integrand(functools.partial(diff_xsec_func, event_info), nitn=10, neval=10000)\n",
    "res = integrand(functools.partial(diff_xsec_func, event_info), nitn=10, neval=10000)"
   ]
  },
  {
   "cell_type": "code",
   "execution_count": 67,
   "id": "4ab6c22e",
   "metadata": {},
   "outputs": [],
   "source": [
    "fresh_integrand=vegas.Integrator(map=integrand.map, max_nhcube=1, neval=100000)\n",
    "# these code bits are copied from all_processes.py\n",
    "def get_points(distribution, npts):\n",
    "    \"\"\"If weights are too cumbersome, this function returns a properly-weighted sample from Dist\"\"\"\n",
    "    ret = []\n",
    "    MW = np.max(np.transpose(distribution)[-1])\n",
    "\n",
    "    tochoosefrom = [pis for pis in range(len(distribution))]\n",
    "    choicesgetter = rnd.choices(tochoosefrom, np.transpose(distribution)[-1], k=npts)\n",
    "    for cg in choicesgetter:\n",
    "        ret.append(distribution[cg][0:-1])\n",
    "\n",
    "    return ret\n",
    "\n",
    "integral, pts = 0.0, []\n",
    "for x, wgt in fresh_integrand.random_batch():\n",
    "    integral += wgt.dot(diff_xsec_func(event_info, x))\n",
    "\n",
    "NSamp = 1\n",
    "for kc in range(NSamp):\n",
    "    for x, wgt in fresh_integrand.random():\n",
    "        M0 = wgt*diff_xsec_func(event_info, x)\n",
    "        #print(list(x), \"\\t\", M0)\n",
    "        pts.append(np.concatenate([list(x), M0]))\n",
    "\n",
    "tr = np.array([integral, get_points(pts, 50000)], dtype=object)"
   ]
  },
  {
   "cell_type": "code",
   "execution_count": 62,
   "id": "d905adbe",
   "metadata": {},
   "outputs": [
    {
     "data": {
      "text/plain": [
       "<function all_processes.dsigma_radiative_return_du(event_info, u)>"
      ]
     },
     "execution_count": 62,
     "metadata": {},
     "output_type": "execute_result"
    }
   ],
   "source": [
    "diff_xsec_func"
   ]
  },
  {
   "cell_type": "code",
   "execution_count": 68,
   "id": "ad37cc60",
   "metadata": {},
   "outputs": [
    {
     "data": {
      "text/plain": [
       "(array([2.83848559]), RAvgArray([2.8384704(24)], dtype=object))"
      ]
     },
     "execution_count": 68,
     "metadata": {},
     "output_type": "execute_result"
    }
   ],
   "source": [
    "integral, res"
   ]
  },
  {
   "cell_type": "code",
   "execution_count": 75,
   "id": "0ffaff18",
   "metadata": {},
   "outputs": [
    {
     "data": {
      "text/plain": [
       "50000"
      ]
     },
     "execution_count": 75,
     "metadata": {},
     "output_type": "execute_result"
    }
   ],
   "source": [
    "len(np.array(tr[1])[:,0])"
   ]
  },
  {
   "cell_type": "code",
   "execution_count": 69,
   "id": "3f545863",
   "metadata": {},
   "outputs": [],
   "source": [
    "import matplotlib.pyplot as plt\n",
    "%matplotlib inline"
   ]
  },
  {
   "cell_type": "code",
   "execution_count": 87,
   "id": "4928d114",
   "metadata": {},
   "outputs": [
    {
     "data": {
      "text/plain": [
       "Text(0.5, 0, 'u')"
      ]
     },
     "execution_count": 87,
     "metadata": {},
     "output_type": "execute_result"
    },
    {
     "data": {
      "image/png": "[encoded data removed]",
      "text/plain": [
       "<Figure size 432x288 with 1 Axes>"
      ]
     },
     "metadata": {
      "needs_background": "light"
     },
     "output_type": "display_data"
    }
   ],
   "source": [
    "bins = np.logspace(-2,np.log10(igrange[0][1]),30)\n",
    "bin_centers = 0.5*(bins[1:]+bins[:-1])\n",
    "bin_diffs = bins[1:]-bins[:-1]\n",
    "plt.hist(np.array(tr[1])[:,0], bins=bins)\n",
    "plt.plot(bin_centers, \\\n",
    "         5e4*bin_diffs*np.array([dsigma_radiative_return_du(event_info, u)/integral[0] for u in bin_centers]))\n",
    "\n",
    "plt.yscale('log')\n",
    "plt.xscale('log')\n",
    "plt.xlabel('u')"
   ]
  },
  {
   "cell_type": "code",
   "execution_count": 120,
   "id": "5ab65fb1",
   "metadata": {},
   "outputs": [
    {
     "data": {
      "text/plain": [
       "Text(0.5, 0, 'u')"
      ]
     },
     "execution_count": 120,
     "metadata": {},
     "output_type": "execute_result"
    },
    {
     "data": {
      "image/png": "[encoded data removed]",
      "text/plain": [
       "<Figure size 432x288 with 1 Axes>"
      ]
     },
     "metadata": {
      "needs_background": "light"
     },
     "output_type": "display_data"
    }
   ],
   "source": [
    "bins = np.logspace(-2,np.log10(igrange[0][1]),20)\n",
    "\n",
    "a,b  = np.histogram(np.array(tr[1])[:,0], bins=bins)\n",
    "a_dens, b_dens, _ = plt.hist(np.array(tr[1])[:,0], bins=bins,density=True)\n",
    "u_list = np.logspace(-2,np.log10(igrange[0][1]),100)\n",
    "plt.plot(u_list, [dsigma_radiative_return_du(event_info, u)/integral for u in u_list])\n",
    "bin_centers = 0.5*(b_dens[1:]+b_dens[:-1])\n",
    "plt.errorbar(bin_centers, a_dens, yerr=1./np.sqrt(a))\n",
    "\n",
    "\n",
    "plt.ylim([0.5,2])\n",
    "plt.yscale('log')\n",
    "plt.xscale('log')\n",
    "plt.xlabel('u')"
   ]
  },
  {
   "cell_type": "markdown",
   "id": "0b6c0c81",
   "metadata": {},
   "source": [
    "# Test Kinematics Generation"
   ]
  },
  {
   "cell_type": "code",
   "execution_count": 5,
   "id": "fa073210",
   "metadata": {},
   "outputs": [
    {
     "name": "stdout",
     "output_type": "stream",
     "text": [
      "integration_range (u) =  [[0.0, 0.9755058184510245]]\n",
      "sqrt(s)= 0.07148784330117815\n",
      "beta =  0.04126177669734485\n",
      "x1_test =  0.9978341056106063\n",
      "x1, x2, x1*x2*s,  mV^2 =  0.9978341056106063 \t 0.490249629922114 \t 0.0025000000000000005 \t 0.0025000000000000005\n",
      "[4.98955073 0.         0.         4.9893002 ]\n",
      "sqrt(pV_lab^2) = 0.049999999999977264\n"
     ]
    }
   ],
   "source": [
    "E_inc_test = 5.\n",
    "mV_test = 0.05\n",
    "event_info = {'E_inc': E_inc_test, 'mV': mV_test}\n",
    "igrange = integration_range(event_info, \"RadRet\")\n",
    "print(\"integration_range (u) = \", igrange)\n",
    "u_test = np.random.uniform(igrange[0][0], igrange[0][1]) #(igrange[0][0]+igrange[0][1])/2\n",
    "# The u variable is related to the actual energy fraction by u=(1-x)^beta/2, where beta = \n",
    "s = 2.*m_electron*(E_inc_test + m_electron)\n",
    "print(\"sqrt(s)=\", np.sqrt(s))\n",
    "beta = (2.*alpha_em/np.pi) * (np.log(s/m_electron**2) - 1.)\n",
    "print(\"beta = \", beta)\n",
    "x1_test = 1. - np.power(u_test,2./beta)\n",
    "print(\"x1_test = \", x1_test)\n",
    "pe = np.array([E_inc_test, 0., 0., np.sqrt(E_inc_test**2 - m_electron**2)])\n",
    "\n",
    "\n",
    "pV_lab = radiative_return_fourvecs(pe, mV_test, x1_test)\n",
    "print(pV_lab)\n",
    "print(\"sqrt(pV_lab^2) =\", invariant_mass(pV_lab))"
   ]
  },
  {
   "cell_type": "code",
   "execution_count": 17,
   "id": "59755017",
   "metadata": {},
   "outputs": [
    {
     "name": "stdout",
     "output_type": "stream",
     "text": [
      "integration_range (u) =  [[0.0, 0.9732588115306741]]\n",
      "sqrt(s)= 0.3196878356144534\n",
      "beta =  0.05517841616442101\n",
      "x1_test =  0.9999999999948067\n",
      "Positron 4-momentum:  [100.           0.70619365   9.95833326  99.50041653]\n",
      "x1, x2, x1*x2*s,  mV^2 =  0.9999999999948067 \t 0.39138823672408934 \t 0.04000000000000001 \t 0.04000000000000001\n",
      "Vector 4-momentum =  [100.0003555    0.70619475   9.95834875  99.50057125]\n",
      "sqrt(pV_lab^2) = 0.20000000000673027\n"
     ]
    }
   ],
   "source": [
    "\n",
    "\n",
    "E_inc_test = 100.\n",
    "mV_test = 0.2\n",
    "event_info = {'E_inc': E_inc_test, 'mV': mV_test}\n",
    "igrange = integration_range(event_info, \"RadRet\")\n",
    "print(\"integration_range (u) = \", igrange)\n",
    "u_test = np.random.uniform(igrange[0][0], igrange[0][1]) #(igrange[0][0]+igrange[0][1])/2\n",
    "# The u variable is related to the actual energy fraction by u=(1-x)^beta/2, where beta = \n",
    "s = 2.*m_electron*(E_inc_test + m_electron)\n",
    "print(\"sqrt(s)=\", np.sqrt(s))\n",
    "beta = (2.*alpha_em/np.pi) * (np.log(s/m_electron**2) - 1.)\n",
    "print(\"beta = \", beta)\n",
    "x1_test = 1. - np.power(u_test,2./beta)\n",
    "print(\"x1_test = \", x1_test)\n",
    "\n",
    "nhat = generate_unit_vector(0.1, 1.5)\n",
    "pe = np.array([E_inc_test, 0., 0., 0])\\\n",
    "    +np.sqrt(E_inc_test**2 - m_electron**2)*np.array([0., nhat[0],nhat[1],nhat[2]])\n",
    "\n",
    "\n",
    "print(\"Positron 4-momentum: \", pe)\n",
    "pV_lab = radiative_return_fourvecs(pe, mV_test, x1_test)\n",
    "print(\"Vector 4-momentum = \", pV_lab)\n",
    "print(\"sqrt(pV_lab^2) =\", invariant_mass(pV_lab))"
   ]
  },
  {
   "cell_type": "code",
   "execution_count": null,
   "id": "44f94ca5",
   "metadata": {},
   "outputs": [],
   "source": []
  }
 ],
 "metadata": {
  "kernelspec": {
   "display_name": "Python 3 (ipykernel)",
   "language": "python",
   "name": "python3"
  },
  "language_info": {
   "codemirror_mode": {
    "name": "ipython",
    "version": 3
   },
   "file_extension": ".py",
   "mimetype": "text/x-python",
   "name": "python",
   "nbconvert_exporter": "python",
   "pygments_lexer": "ipython3",
   "version": "3.9.5"
  }
 },
 "nbformat": 4,
 "nbformat_minor": 5
}
