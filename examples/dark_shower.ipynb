{
 "cells": [
  {
   "attachments": {},
   "cell_type": "markdown",
   "metadata": {},
   "source": [
    "# PETITE BSM shower generation example\n",
    "\n",
    "PETITE is a simple, lightweight, toy Monte Carlo that generates realistic electromagnetic showers. \n",
    "\n",
    "Authors: Kevin J. Kelly (Texas A&M), Nikita Blinov (U. Victoria), Ryan Plestid (Caltech), Patrick J. Fox (Fermilab), and Pedro A.M. Machado (Fermilab)\n",
    "\n",
    "It includes explicit simulation of (we denote nuclei by their electric charge $Z$)\n",
    "\n",
    "* Bremsstrahlung  $e^\\pm Z \\rightarrow e^\\pm \\gamma Z$. \n",
    "* Pair production $\\gamma Z \\rightarrow e^+ e^- Z$. \n",
    "* Compton scattering $\\gamma e^- \\rightarrow  \\gamma e^-$\n",
    "* Pair-annihilation $e^+ e^- \\rightarrow \\gamma\\gamma$ \n",
    "\n",
    "and implicit simulation of \n",
    "\n",
    "* Multiple Coulomb scattering\n",
    "* Energy loss by ionization \n",
    "\n",
    "${\\bf Dependencies}$: numpy, vegas, pickle, cProfile, tqdm, scipy\n",
    "\n",
    "${\\bf Version~ requirements}$: numpy 1.24  ,  python3.xx with xx$\\geq$9.\n",
    "\n",
    "${\\bf Directory~structure}$: This notebook assumes that within a PETITE home directory there is folder containing dictionaries, and that within that folder the following files exist \n",
    "\n",
    "* $\\verb|<PETITE_home_dir>|$/$\\verb|<dictionary_dir>|$/Feb13_xSec_Dicts.pkl\n",
    "* $\\verb|<PETITE_home_dir>|$/$\\verb|<dictionary_dir>|$/Mar24_xSec_Dicts.pkl\n",
    "* $\\verb|<PETITE_home_dir>|$/$\\verb|<dictionary_dir>|$/Mar24_xSec_Dicts_neval.pkl\n",
    "\n",
    "You can check versions with the code below and adjust if necessary"
   ]
  },
  {
   "cell_type": "code",
   "execution_count": 1,
   "metadata": {},
   "outputs": [
    {
     "name": "stdout",
     "output_type": "stream",
     "text": [
      "Python version:  3.10.11\n",
      "Numpy version:  1.25.2\n",
      "PETITE home directory: /Users/kjkelly/Library/CloudStorage/Dropbox/GitHub/PETITE/\n"
     ]
    }
   ],
   "source": [
    "from platform import python_version\n",
    "print(\"Python version: \", python_version())\n",
    "\n",
    "import numpy\n",
    "print(\"Numpy version: \", numpy.__version__)\n",
    "\n",
    "import os\n",
    "current_path = os.getcwd()\n",
    "PETITE_home_dir= current_path.split('examples')[0]\n",
    "\n",
    "print(\"PETITE home directory:\", PETITE_home_dir)\n",
    "\n",
    "dictionary_dir = \"lightmasses_fine/\""
   ]
  },
  {
   "attachments": {},
   "cell_type": "markdown",
   "metadata": {},
   "source": [
    "### Load in dependencies and set font styles"
   ]
  },
  {
   "cell_type": "code",
   "execution_count": 2,
   "metadata": {},
   "outputs": [],
   "source": [
    "#from kjkutils import *\n",
    "from PETITE.dark_shower import *\n",
    "import pickle as pk\n",
    "from matplotlib import pyplot as plt\n",
    "from tqdm import tqdm\n",
    "import matplotlib\n",
    "\n",
    "from matplotlib.font_manager import FontProperties\n",
    "from matplotlib.ticker import FixedLocator, MaxNLocator\n",
    "import cProfile\n",
    "profile = cProfile.Profile()\n",
    "import pstats\n",
    "\n",
    "font0 = FontProperties()\n",
    "font = font0.copy()\n",
    "font.set_size(24)\n",
    "font.set_family('serif')\n",
    "labelfont=font0.copy()\n",
    "labelfont.set_size(20)\n",
    "labelfont.set_weight('bold')\n",
    "legfont=font0.copy()\n",
    "legfont.set_size(18)\n",
    "legfont.set_weight('bold')\n",
    "\n",
    "\n",
    "def set_size(w,h, ax=None):\n",
    "    \"\"\" w, h: width, height in inches \"\"\"\n",
    "    if not ax: ax=plt.gca()\n",
    "    l = ax.figure.subplotpars.left\n",
    "    r = ax.figure.subplotpars.right\n",
    "    t = ax.figure.subplotpars.top\n",
    "    b = ax.figure.subplotpars.bottom\n",
    "    figw = float(w)/(r-l)\n",
    "    figh = float(h)/(t-b)\n",
    "    ax.figure.set_size_inches(figw, figh)"
   ]
  },
  {
   "attachments": {},
   "cell_type": "markdown",
   "metadata": {},
   "source": [
    "####  Import two shower objects, one with a graphite target and one with lead. Both track down to minimum energies of 10 MeV\n",
    "\n",
    "The minimum energy in the shower dictates the run-time. As one attempts to simulate lower-threshold IR physics, the computational cost increases exponentially. The number of low energy particles proliferates and one encounters many compton scatters.  10 MeV allows for reasonable simulation speed. \n",
    "\n",
    "Pre-loaded materials are lead and graphite, but other materials can be included straightforwardly running other scripts in the PETITE utilities folder"
   ]
  },
  {
   "cell_type": "code",
   "execution_count": 3,
   "metadata": {},
   "outputs": [],
   "source": [
    "sGraphite = DarkShower(PETITE_home_dir+\"lightmasses_fine/\", \"graphite\", 0.030, 0.0323)"
   ]
  },
  {
   "cell_type": "code",
   "execution_count": 4,
   "metadata": {},
   "outputs": [
    {
     "name": "stdout",
     "output_type": "stream",
     "text": [
      "[0.003000000000000001, 0.0036009876736276714, 0.004322370741872809, 0.005188267920777629, 0.006227629610066035, 0.007475205820588828, 0.008972708005923404, 0.01077020364279683, 0.012927790186723739, 0.01551760436987898, 0.018626234020055036, 0.02235761303744086, 0.026836496319853947, 0.03221263081704946, 0.03866576216910467, 0.046411644320788356, 0.05570925303731685, 0.06686944449812761, 0.08026534846002908, 0.09634484347466486, 0.11564553125661849, 0.13881271085506888, 0.16662095357731505, 0.20000000000000004]\n",
      "0.03221263081704946\n",
      "0.03221263081704946\n"
     ]
    }
   ],
   "source": [
    "print(sGraphite._mV_list)\n",
    "print(sGraphite._mV)\n",
    "print(sGraphite._mV_estimator)"
   ]
  },
  {
   "cell_type": "code",
   "execution_count": 5,
   "metadata": {},
   "outputs": [
    {
     "data": {
      "text/plain": [
       "{'graphite': 0.005304193527379386,\n",
       " 'lead': 0.9402879259297763,\n",
       " 'iron': 0.09777737937204015}"
      ]
     },
     "execution_count": 5,
     "metadata": {},
     "output_type": "execute_result"
    }
   ],
   "source": [
    "sGraphite._loaded_dark_samples['DarkBrem'][10][1]['max_F']"
   ]
  },
  {
   "cell_type": "code",
   "execution_count": 6,
   "metadata": {},
   "outputs": [
    {
     "data": {
      "text/plain": [
       "[0.8637201573808002, -5.483577430786848, -6.655602777321394]"
      ]
     },
     "execution_count": 6,
     "metadata": {},
     "output_type": "execute_result"
    }
   ],
   "source": [
    "list(sGraphite.draw_dark_sample(20.0, 50, \"DarkBrem\"))"
   ]
  },
  {
   "cell_type": "code",
   "execution_count": 7,
   "metadata": {},
   "outputs": [],
   "source": [
    "p0 = pickle.load(open(PETITE_home_dir+\"lightmasses_fine/dark_xsec.pkl\", \"rb\"))[sGraphite._mV_estimator]['DarkBrem']['graphite']"
   ]
  },
  {
   "cell_type": "code",
   "execution_count": 8,
   "metadata": {},
   "outputs": [
    {
     "data": {
      "text/plain": [
       "Text(0, 0.5, '$\\\\sigma_{\\\\rm dark\\\\ brem.}\\\\ [\\\\mathrm{GeV}^{-2}]$')"
      ]
     },
     "execution_count": 8,
     "metadata": {},
     "output_type": "execute_result"
    },
    {
     "data": {
      "image/png": "[encoded data removed]",
      "text/plain": [
       "<Figure size 640x480 with 1 Axes>"
      ]
     },
     "metadata": {},
     "output_type": "display_data"
    }
   ],
   "source": [
    "sX, sY = np.transpose(p0)\n",
    "plt.plot(sX, sY, lw=2, color='dodgerblue')\n",
    "plt.gca().set_xscale('log')\n",
    "plt.gca().set_yscale('log')\n",
    "plt.gca().set_xlabel(r\"$E_{e^\\pm}$\")\n",
    "plt.gca().set_ylabel(r\"$\\sigma_{\\rm dark\\ brem.}\\ [\\mathrm{GeV}^{-2}]$\")"
   ]
  },
  {
   "cell_type": "code",
   "execution_count": 11,
   "metadata": {},
   "outputs": [
    {
     "name": "stderr",
     "output_type": "stream",
     "text": [
      "  0%|          | 0/100000 [00:03<?, ?it/s]\n"
     ]
    },
    {
     "ename": "Exception",
     "evalue": "('No Sample Found', 'DarkAnn', 1.0, 1)",
     "output_type": "error",
     "traceback": [
      "\u001b[0;31m---------------------------------------------------------------------------\u001b[0m",
      "\u001b[0;31mException\u001b[0m                                 Traceback (most recent call last)",
      "\u001b[1;32m/Users/kjkelly/Library/CloudStorage/Dropbox/GitHub/PETITE/examples/dark_shower.ipynb Cell 12\u001b[0m in \u001b[0;36m<cell line: 3>\u001b[0;34m()\u001b[0m\n\u001b[1;32m      <a href='vscode-notebook-cell:/Users/kjkelly/Library/CloudStorage/Dropbox/GitHub/PETITE/examples/dark_shower.ipynb#X14sZmlsZQ%3D%3D?line=1'>2</a>\u001b[0m xs \u001b[39m=\u001b[39m []\n\u001b[1;32m      <a href='vscode-notebook-cell:/Users/kjkelly/Library/CloudStorage/Dropbox/GitHub/PETITE/examples/dark_shower.ipynb#X14sZmlsZQ%3D%3D?line=2'>3</a>\u001b[0m \u001b[39mfor\u001b[39;00m k \u001b[39min\u001b[39;00m tqdm(\u001b[39mrange\u001b[39m(\u001b[39m100000\u001b[39m)):\n\u001b[0;32m----> <a href='vscode-notebook-cell:/Users/kjkelly/Library/CloudStorage/Dropbox/GitHub/PETITE/examples/dark_shower.ipynb#X14sZmlsZQ%3D%3D?line=3'>4</a>\u001b[0m     s0 \u001b[39m=\u001b[39m sGraphite\u001b[39m.\u001b[39;49mdraw_dark_sample(\u001b[39m1.0\u001b[39;49m, process\u001b[39m=\u001b[39;49m\u001b[39m\"\u001b[39;49m\u001b[39mDarkAnn\u001b[39;49m\u001b[39m\"\u001b[39;49m, VB\u001b[39m=\u001b[39;49m\u001b[39mTrue\u001b[39;49;00m)\n\u001b[1;32m      <a href='vscode-notebook-cell:/Users/kjkelly/Library/CloudStorage/Dropbox/GitHub/PETITE/examples/dark_shower.ipynb#X14sZmlsZQ%3D%3D?line=4'>5</a>\u001b[0m     xs\u001b[39m.\u001b[39mappend([s0[\u001b[39m0\u001b[39m], s0[\u001b[39m1\u001b[39m]])\n\u001b[1;32m      <a href='vscode-notebook-cell:/Users/kjkelly/Library/CloudStorage/Dropbox/GitHub/PETITE/examples/dark_shower.ipynb#X14sZmlsZQ%3D%3D?line=5'>6</a>\u001b[0m     ntrials\u001b[39m.\u001b[39mappend(s0[\u001b[39m-\u001b[39m\u001b[39m1\u001b[39m])\n",
      "File \u001b[0;32m~/Documents/miniforge3/envs/kjk/lib/python3.10/site-packages/PETITE/dark_shower.py:589\u001b[0m, in \u001b[0;36mDarkShower.draw_dark_sample\u001b[0;34m(self, Einc, LU_Key, process, VB)\u001b[0m\n\u001b[1;32m    587\u001b[0m             \u001b[39mbreak\u001b[39;00m\n\u001b[1;32m    588\u001b[0m \u001b[39mif\u001b[39;00m sample_found \u001b[39mis\u001b[39;00m \u001b[39mFalse\u001b[39;00m:\n\u001b[0;32m--> 589\u001b[0m     \u001b[39mraise\u001b[39;00m \u001b[39mException\u001b[39;00m(\u001b[39m\"\u001b[39m\u001b[39mNo Sample Found\u001b[39m\u001b[39m\"\u001b[39m, process, Einc, LU_Key)\n\u001b[1;32m    590\u001b[0m \u001b[39mif\u001b[39;00m VB:\n\u001b[1;32m    591\u001b[0m     \u001b[39mreturn\u001b[39;00m np\u001b[39m.\u001b[39mconcatenate([\u001b[39mlist\u001b[39m(x), [sampcount]])\n",
      "\u001b[0;31mException\u001b[0m: ('No Sample Found', 'DarkAnn', 1.0, 1)"
     ]
    }
   ],
   "source": [
    "ntrials = []\n",
    "xs = []\n",
    "for k in tqdm(range(100000)):\n",
    "    s0 = sGraphite.draw_dark_sample(1.0, process=\"DarkAnn\", VB=True)\n",
    "    xs.append([s0[0], s0[1]])\n",
    "    ntrials.append(s0[-1])"
   ]
  },
  {
   "cell_type": "code",
   "execution_count": 8,
   "metadata": {},
   "outputs": [
    {
     "data": {
      "text/plain": [
       "2.0"
      ]
     },
     "execution_count": 8,
     "metadata": {},
     "output_type": "execute_result"
    }
   ],
   "source": [
    "np.max(ntrials)"
   ]
  },
  {
   "cell_type": "code",
   "execution_count": 9,
   "metadata": {},
   "outputs": [
    {
     "data": {
      "image/png": "[encoded data removed]",
      "text/plain": [
       "<Figure size 640x480 with 1 Axes>"
      ]
     },
     "metadata": {},
     "output_type": "display_data"
    }
   ],
   "source": [
    "plt.hist(ntrials, bins=np.linspace(0, 200, 201), histtype='step', lw=2, color='dodgerblue')\n",
    "plt.gca().set_yscale('log')"
   ]
  },
  {
   "cell_type": "code",
   "execution_count": 11,
   "metadata": {},
   "outputs": [
    {
     "data": {
      "image/png": "[encoded data removed]",
      "text/plain": [
       "<Figure size 640x480 with 1 Axes>"
      ]
     },
     "metadata": {},
     "output_type": "display_data"
    }
   ],
   "source": [
    "plt.hist(np.transpose(xs)[0], bins=np.linspace(0, 1, 51), histtype='step', lw=2, color='dodgerblue')\n",
    "plt.gca().set_yscale('log')"
   ]
  },
  {
   "cell_type": "code",
   "execution_count": 12,
   "metadata": {},
   "outputs": [],
   "source": [
    "import numpy as np"
   ]
  },
  {
   "cell_type": "code",
   "execution_count": 14,
   "metadata": {},
   "outputs": [],
   "source": [
    "s_test = 2.0*0.000511*(0.000511 + 1.0)\n",
    "alpha_test = 1/137.0\n",
    "beta = (2.*alpha_test/np.pi)*(np.log(s_test/0.000511**2) - 1.)\n",
    "\n",
    "x_array = 1 - np.power(np.transpose(xs)[0], 2./beta)"
   ]
  },
  {
   "cell_type": "code",
   "execution_count": 15,
   "metadata": {},
   "outputs": [
    {
     "data": {
      "image/png": "[encoded data removed]",
      "text/plain": [
       "<Figure size 640x480 with 1 Axes>"
      ]
     },
     "metadata": {},
     "output_type": "display_data"
    }
   ],
   "source": [
    "plt.hist(x_array, bins=np.linspace(0, 1, 201), histtype='step', lw=2, color='dodgerblue')\n",
    "plt.gca().set_yscale('log')"
   ]
  },
  {
   "cell_type": "code",
   "execution_count": 13,
   "metadata": {},
   "outputs": [
    {
     "name": "stderr",
     "output_type": "stream",
     "text": [
      "/var/folders/8n/m3w03969119_28y6ndzhqp480000gp/T/ipykernel_22178/2871372156.py:2: UserWarning: Data has no positive values, and therefore cannot be log-scaled.\n",
      "  plt.gca().set_yscale('log')\n"
     ]
    },
    {
     "data": {
      "image/png": "[encoded data removed]",
      "text/plain": [
       "<Figure size 640x480 with 1 Axes>"
      ]
     },
     "metadata": {},
     "output_type": "display_data"
    }
   ],
   "source": [
    "plt.hist(np.transpose(xs)[1], bins=np.linspace(-15,0, 201), histtype='step', lw=2, color='dodgerblue')\n",
    "plt.gca().set_yscale('log')"
   ]
  },
  {
   "cell_type": "code",
   "execution_count": 13,
   "metadata": {},
   "outputs": [
    {
     "data": {
      "text/plain": [
       "0.03"
      ]
     },
     "execution_count": 13,
     "metadata": {},
     "output_type": "execute_result"
    }
   ],
   "source": [
    "sGraphite._mV_estimator"
   ]
  },
  {
   "cell_type": "code",
   "execution_count": 5,
   "metadata": {},
   "outputs": [
    {
     "data": {
      "text/plain": [
       "0.8801170336516327"
      ]
     },
     "execution_count": 5,
     "metadata": {},
     "output_type": "execute_result"
    }
   ],
   "source": [
    "(0.030**2 - 2*m_electron**2)/(2*m_electron)"
   ]
  },
  {
   "cell_type": "code",
   "execution_count": 10,
   "metadata": {},
   "outputs": [
    {
     "data": {
      "text/plain": [
       "[[0.04026578852131182, 0.0005626689762698138],\n",
       " [0.04357423606827969, 0.001401837933194776],\n",
       " [0.04715452295015201, 0.002753724639012437],\n",
       " [0.05102898490686491, 0.004748904765155152],\n",
       " [0.0552217928994371, 0.0073003667782822025],\n",
       " [0.059759103901321796, 0.010375259298627698],\n",
       " [0.06466922407956396, 0.01427055241558186],\n",
       " [0.069982785383774, 0.01827438185693094],\n",
       " [0.07573293664457398, 0.02327059616824074],\n",
       " [0.08195555037369041, 0.02821550645181562],\n",
       " [0.0886894465558234, 0.034648352163904335],\n",
       " [0.09597663482842478, 0.04064163600278438],\n",
       " [0.1038625765602319, 0.047399043362540354],\n",
       " [0.11239646846354302, 0.05398615753135241],\n",
       " [0.12163154950955912, 0.06322992472364876],\n",
       " [0.13162543306149335, 0.07556984165451859],\n",
       " [0.14244046629747215, 0.0799291853604224],\n",
       " [0.1541441191654994, 0.09079977831903434],\n",
       " [0.16680940529699284, 0.0959067055715609],\n",
       " [0.18051533750477525, 0.10842030091715284],\n",
       " [0.1953474207071606, 0.11741100896904809],\n",
       " [0.21139818535325794, 0.1287252941460282],\n",
       " [0.2287677646772855, 0.13571582949023578],\n",
       " [0.24756451938311455, 0.14945466340300287],\n",
       " [0.2679057136561594, 0.15992405031879575],\n",
       " [0.28991824671993555, 0.17953476844809954],\n",
       " [0.3137394445011269, 0.18730881527530793],\n",
       " [0.3395179163419907, 0.2002917371614336],\n",
       " [0.3674144821047292, 0.2101669936143521],\n",
       " [0.3976031754516007, 0.22723415580282874],\n",
       " [0.43027232955976474, 0.25069407793133613],\n",
       " [0.4656257520441326, 0.25414343229089564],\n",
       " [0.5038839964180166, 0.2715056154561817],\n",
       " [0.5452857380236282, 0.2814591224641482],\n",
       " [0.5900892630162154, 0.3127049414759476],\n",
       " [0.638574079690916, 0.31246270052688624],\n",
       " [0.6910426622046417, 0.33511634378792177],\n",
       " [0.7478223375712626, 0.343075556358479],\n",
       " [0.8092673277021749, 0.3590764294872172],\n",
       " [0.8757609592315907, 0.38894643597676615],\n",
       " [0.9477180549126165, 0.39874463646854286],\n",
       " [1.0255875215029273, 0.4204767898371813],\n",
       " [1.1098551502846485, 0.43078576239329586],\n",
       " [1.2010466476895838, 0.44966509089760714],\n",
       " [1.2997309149364413, 0.45820767379432564],\n",
       " [1.4065235971401895, 0.48804804807899527],\n",
       " [1.522090924034779, 0.4947285757404263],\n",
       " [1.6471538662697132, 0.5286682046005],\n",
       " [1.7824926332096518, 0.5455792180693851],\n",
       " [1.9289515402967305, 0.5725789271132932],\n",
       " [2.0874442763407997, 0.5848113094840022],\n",
       " [2.258959603597746, 0.5995602380243357],\n",
       " [2.444567526196029, 0.6352667199930524],\n",
       " [2.645425965393362, 0.645073106105114],\n",
       " [2.862787983307362, 0.6529955829785893],\n",
       " [3.0980096001856525, 0.6747392277673723],\n",
       " [3.352558253983709, 0.708168946923161],\n",
       " [3.6280219550258144, 0.7378124476714721],\n",
       " [3.9261191928607984, 0.7636351695631238],\n",
       " [4.248709657116794, 0.7750012708998363],\n",
       " [4.597805839237426, 0.7818084537251158],\n",
       " [4.975585587477262, 0.816497371499571],\n",
       " [5.384405693481269, 0.8358283731667069],\n",
       " [5.826816595208658, 0.8448459288123379],\n",
       " [6.3055782879257025, 0.8922868168952841],\n",
       " [6.823677542528901, 0.9093446374326734],\n",
       " [7.384346538615508, 0.9275735588063566],\n",
       " [7.991083028544475, 0.9624496453288385],\n",
       " [8.64767215828203, 0.9748363948396815],\n",
       " [9.358210081161838, 0.9846600669269187],\n",
       " [10.127129511875145, 1.023458466527134],\n",
       " [10.959227380110253, 1.028339976687224],\n",
       " [11.859694756359406, 1.0618832993493457],\n",
       " [12.834149236586402, 1.095879294772042],\n",
       " [13.888669987787639, 1.1023980629881178],\n",
       " [15.029835673079543, 1.136933038699754],\n",
       " [16.264765492909387, 1.1564839278286052],\n",
       " [17.60116359842625, 1.1893682661927925],\n",
       " [19.047367154086697, 1.1878966702041431],\n",
       " [20.61239834933526, 1.2402290505650335],\n",
       " [22.306020683836138, 1.2694059921668162],\n",
       " [24.138799877393776, 1.2693347444310068],\n",
       " [26.122169784550632, 1.306709752696887],\n",
       " [28.268503725072655, 1.3184709248911222],\n",
       " [30.59119167532025, 1.3499528181201672],\n",
       " [33.104723802065244, 1.3607476775015706],\n",
       " [35.82478085988298, 1.4220890208990202],\n",
       " [38.76833201606632, 1.4044379057487701],\n",
       " [41.95374071334549, 1.4453327723712408],\n",
       " [45.40087923084228, 1.452789853173081],\n",
       " [49.1312526579506, 1.4846709411677823],\n",
       " [53.16813305455875, 1.464768654652166],\n",
       " [57.536704634576715, 1.511394165231712],\n",
       " [62.26422087849997, 1.518045130842588],\n",
       " [67.38017455516288, 1.544118581792619],\n",
       " [72.91648171336759, 1.5628323880203823],\n",
       " [78.90768079122583, 1.591333823564304],\n",
       " [85.39114808536515, 1.6005970296231045],\n",
       " [92.4073309242103, 1.6384641271920486],\n",
       " [100.0, 1.6454656925474418]]"
      ]
     },
     "execution_count": 10,
     "metadata": {},
     "output_type": "execute_result"
    }
   ],
   "source": [
    "sGraphite.get_DarkBremXSec()"
   ]
  },
  {
   "cell_type": "code",
   "execution_count": 4,
   "metadata": {},
   "outputs": [
    {
     "data": {
      "text/plain": [
       "{11: {'DarkBrem': 0.04026578852131182},\n",
       " -11: {'DarkBrem': 0.04026578852131182, 'DarkAnn': 1.0148077058687917},\n",
       " 22: {'DarkComp': 1.0476360887694047},\n",
       " 111: {'TwoBody_BSMDecay': -1}}"
      ]
     },
     "execution_count": 4,
     "metadata": {},
     "output_type": "execute_result"
    }
   ],
   "source": [
    "sGraphite._minimum_calculable_dark_energy"
   ]
  },
  {
   "cell_type": "code",
   "execution_count": 12,
   "metadata": {},
   "outputs": [
    {
     "name": "stderr",
     "output_type": "stream",
     "text": [
      "100%|██████████| 1500/1500 [31:41<00:00,  1.27s/it]\n"
     ]
    }
   ],
   "source": [
    "Energies, Weights = {}, {}\n",
    "parent_pid_options = [11, -11, 22]\n",
    "for pr in dark_process_codes:\n",
    "    Energies[pr] = {}\n",
    "    Weights[pr] = {}\n",
    "    for pid in parent_pid_options:\n",
    "        Energies[pr][pid] = []\n",
    "        Weights[pr][pid] = []\n",
    "\n",
    "for kk in tqdm(range(1500)):\n",
    "    p0 = [10, 0, 0, 10]\n",
    "    r0 = [0, 0, 0]\n",
    "    pdict = {\"PID\":22}\n",
    "    part0 = Particle(p0, r0, pdict)\n",
    "    s0SM = sGraphite.generate_shower(part0)\n",
    "    s0BSM = sGraphite.generate_dark_shower(ExDir=list(s0SM));\n",
    "    for p0 in s0BSM[1]:   \n",
    "        genprocess = p0.get_ids()[\"generation_process\"]\n",
    "        parent_pid = p0.get_ids()[\"parent_PID\"]\n",
    "\n",
    "        Energies[genprocess][parent_pid].append(p0.get_p0()[0])\n",
    "        Weights[genprocess][parent_pid].append(p0.get_ids()[\"weight\"])"
   ]
  },
  {
   "cell_type": "code",
   "execution_count": 13,
   "metadata": {},
   "outputs": [
    {
     "data": {
      "text/plain": [
       "(419, 311)"
      ]
     },
     "execution_count": 13,
     "metadata": {},
     "output_type": "execute_result"
    }
   ],
   "source": [
    "len(s0SM), len(s0BSM[1])"
   ]
  },
  {
   "cell_type": "code",
   "execution_count": 14,
   "metadata": {},
   "outputs": [],
   "source": [
    "log_bins_0 = np.logspace(-2, 2, 41)\n",
    "def bin_width(energy, bins=log_bins_0):\n",
    "    index = np.abs(bins - energy).argmin()\n",
    "    return bins[index+1] - bins[index]"
   ]
  },
  {
   "cell_type": "code",
   "execution_count": 15,
   "metadata": {},
   "outputs": [
    {
     "data": {
      "text/plain": [
       "Text(0.5, 0, '$E_V\\\\ [\\\\mathrm{GeV}]$')"
      ]
     },
     "execution_count": 15,
     "metadata": {},
     "output_type": "execute_result"
    },
    {
     "data": {
      "image/png": "[encoded data removed]",
      "text/plain": [
       "<Figure size 640x480 with 1 Axes>"
      ]
     },
     "metadata": {},
     "output_type": "display_data"
    }
   ],
   "source": [
    "plt.hist(Energies['DarkBrem'][11], weights=Weights['DarkBrem'][11], bins=np.logspace(-2, 1, 41), histtype='step', lw=2, color='dodgerblue', label=r\"$e^-\\ \\mathrm{Brem.}$\")\n",
    "plt.hist(Energies['DarkBrem'][-11], weights=Weights['DarkBrem'][-11], bins=np.logspace(-2, 1, 41), histtype='step', lw=2, color='coral', label=r\"$e^+\\ \\mathrm{Brem.}$\")\n",
    "plt.hist(Energies['DarkComp'][22], weights=Weights['DarkComp'][22], bins=np.logspace(-2, 1, 41), histtype='step', lw=2, ls='--', color='dodgerblue', label=r\"$\\gamma e^- \\to V e^-$\")\n",
    "plt.hist(Energies['DarkAnn'][-11], weights=Weights['DarkAnn'][-11], bins=np.logspace(-2, 1, 41), histtype='step', lw=2, ls='-.', color='dodgerblue', label=r\"$e^+ e^- \\to \\gamma V$\")\n",
    "plt.legend(loc='best')\n",
    "plt.gca().set_xscale('log')\n",
    "plt.gca().set_yscale('log')\n",
    "plt.gca().set_xlabel(r\"$E_V\\ [\\mathrm{GeV}]$\")"
   ]
  },
  {
   "cell_type": "code",
   "execution_count": 11,
   "metadata": {},
   "outputs": [
    {
     "data": {
      "text/plain": [
       "<Figure size 640x480 with 0 Axes>"
      ]
     },
     "metadata": {},
     "output_type": "display_data"
    }
   ],
   "source": [
    "plt.savefig(\"/Users/kjkelly/Dropbox/DarkVFlux.pdf\", bbox_inches=\"tight\")"
   ]
  },
  {
   "cell_type": "code",
   "execution_count": 16,
   "metadata": {},
   "outputs": [
    {
     "data": {
      "image/png": "[encoded data removed]",
      "text/plain": [
       "<Figure size 640x480 with 1 Axes>"
      ]
     },
     "metadata": {},
     "output_type": "display_data"
    }
   ],
   "source": [
    "energyvec = np.logspace(-2.6, 2, 201)\n",
    "plt.plot(energyvec, [sGraphite.GetBSMWeights([22, ee], \"DarkComp\") for ee in energyvec], lw=2, color='dodgerblue')\n",
    "plt.plot(energyvec, [sGraphite.GetBSMWeights([11, ee], \"DarkBrem\") for ee in energyvec], lw=2, color='coral')\n",
    "plt.plot(energyvec, [sGraphite.GetBSMWeights([-11, ee], \"DarkBrem\") for ee in energyvec], lw=2, ls='--', color='coral')\n",
    "plt.plot(energyvec, [sGraphite.GetBSMWeights([-11, ee], \"DarkAnn\") for ee in energyvec], lw=2, ls='--', color='coral')\n",
    "plt.gca().set_xscale('log')\n",
    "plt.gca().set_yscale('log')"
   ]
  },
  {
   "cell_type": "code",
   "execution_count": 24,
   "metadata": {},
   "outputs": [
    {
     "data": {
      "text/plain": [
       "368"
      ]
     },
     "execution_count": 24,
     "metadata": {},
     "output_type": "execute_result"
    }
   ],
   "source": [
    "len(s0BSM[1])"
   ]
  },
  {
   "cell_type": "code",
   "execution_count": 25,
   "metadata": {},
   "outputs": [
    {
     "data": {
      "text/plain": [
       "array([], dtype=object)"
      ]
     },
     "execution_count": 25,
     "metadata": {},
     "output_type": "execute_result"
    }
   ],
   "source": [
    "s = np.array(s0BSM[1])\n",
    "s[np.where(np.array([p0.get_ids()[-2] for p0 in s0BSM[1]]) == 1)[0]]"
   ]
  }
 ],
 "metadata": {
  "kernelspec": {
   "display_name": "Python 3 (ipykernel)",
   "language": "python",
   "name": "python3"
  },
  "language_info": {
   "codemirror_mode": {
    "name": "ipython",
    "version": 3
   },
   "file_extension": ".py",
   "mimetype": "text/x-python",
   "name": "python",
   "nbconvert_exporter": "python",
   "pygments_lexer": "ipython3",
   "version": "3.10.11"
  }
 },
 "nbformat": 4,
 "nbformat_minor": 2
}
