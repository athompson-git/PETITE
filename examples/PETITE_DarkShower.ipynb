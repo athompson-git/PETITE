{
 "cells": [
  {
   "attachments": {},
   "cell_type": "markdown",
   "metadata": {},
   "source": [
    "# PETITE BSM shower generation example\n",
    "\n",
    "PETITE is a simple, lightweight, toy Monte Carlo that generates realistic electromagnetic showers. \n",
    "\n",
    "Authors: Kevin J. Kelly (Texas A&M), Nikita Blinov (U. Victoria), Ryan Plestid (Caltech), Patrick J. Fox (Fermilab), and Pedro A.M. Machado (Fermilab)\n",
    "\n",
    "It includes explicit simulation of (we denote nuclei by their electric charge $Z$)\n",
    "\n",
    "* Bremsstrahlung  $e^\\pm Z \\rightarrow e^\\pm \\gamma Z$. \n",
    "* Pair production $\\gamma Z \\rightarrow e^+ e^- Z$. \n",
    "* Compton scattering $\\gamma e^- \\rightarrow  \\gamma e^-$\n",
    "* Pair-annihilation $e^+ e^- \\rightarrow \\gamma\\gamma$ \n",
    "\n",
    "and implicit simulation of \n",
    "\n",
    "* Multiple Coulomb scattering\n",
    "* Energy loss by ionization \n",
    "\n",
    "${\\bf Dependencies}$: numpy, vegas, pickle, cProfile, tqdm, scipy\n",
    "\n",
    "${\\bf Version~ requirements}$: numpy 1.24  ,  python3.xx with xx$\\geq$9.\n",
    "\n",
    "${\\bf Directory~structure}$: This notebook assumes that within a PETITE home directory there is folder containing dictionaries, and that within that folder the following files exist \n",
    "\n",
    "* $\\verb|<PETITE_home_dir>|$/$\\verb|<dictionary_dir>|$/Feb13_xSec_Dicts.pkl\n",
    "* $\\verb|<PETITE_home_dir>|$/$\\verb|<dictionary_dir>|$/Mar24_xSec_Dicts.pkl\n",
    "* $\\verb|<PETITE_home_dir>|$/$\\verb|<dictionary_dir>|$/Mar24_xSec_Dicts_neval.pkl\n",
    "\n",
    "You can check versions with the code below and adjust if necessary"
   ]
  },
  {
   "cell_type": "code",
   "execution_count": 1,
   "metadata": {},
   "outputs": [
    {
     "name": "stdout",
     "output_type": "stream",
     "text": [
      "Python version:  3.10.6\n",
      "Numpy version:  1.24.2\n",
      "PETITE home directory: /Users/kjkelly/Documents/GitHub/PETITE/\n"
     ]
    }
   ],
   "source": [
    "from platform import python_version\n",
    "print(\"Python version: \", python_version())\n",
    "\n",
    "import numpy\n",
    "print(\"Numpy version: \", numpy.__version__)\n",
    "\n",
    "import os\n",
    "current_path = os.getcwd()\n",
    "PETITE_home_dir= current_path.split('examples')[0]\n",
    "\n",
    "print(\"PETITE home directory:\", PETITE_home_dir)\n",
    "\n",
    "dictionary_dir = \"RyanDicts/\""
   ]
  },
  {
   "cell_type": "markdown",
   "metadata": {},
   "source": [
    "### Load in dependencies and set font styles"
   ]
  },
  {
   "cell_type": "code",
   "execution_count": 2,
   "metadata": {},
   "outputs": [],
   "source": [
    "#from kjkutils import *\n",
    "from PETITE.ryan_dark_shower import *\n",
    "import pickle as pk\n",
    "from matplotlib import pyplot as plt\n",
    "from tqdm import tqdm\n",
    "import matplotlib\n",
    "\n",
    "from matplotlib.font_manager import FontProperties\n",
    "from matplotlib.ticker import FixedLocator, MaxNLocator\n",
    "import cProfile\n",
    "profile = cProfile.Profile()\n",
    "import pstats\n",
    "\n",
    "font0 = FontProperties()\n",
    "font = font0.copy()\n",
    "font.set_size(24)\n",
    "font.set_family('serif')\n",
    "labelfont=font0.copy()\n",
    "labelfont.set_size(20)\n",
    "labelfont.set_weight('bold')\n",
    "legfont=font0.copy()\n",
    "legfont.set_size(18)\n",
    "legfont.set_weight('bold')\n",
    "\n",
    "\n",
    "def set_size(w,h, ax=None):\n",
    "    \"\"\" w, h: width, height in inches \"\"\"\n",
    "    if not ax: ax=plt.gca()\n",
    "    l = ax.figure.subplotpars.left\n",
    "    r = ax.figure.subplotpars.right\n",
    "    t = ax.figure.subplotpars.top\n",
    "    b = ax.figure.subplotpars.bottom\n",
    "    figw = float(w)/(r-l)\n",
    "    figh = float(h)/(t-b)\n",
    "    ax.figure.set_size_inches(figw, figh)\n",
    "\n"
   ]
  },
  {
   "cell_type": "markdown",
   "metadata": {},
   "source": [
    "####  Import two shower objects, one with a graphite target and one with lead. Both track down to minimum energies of 10 MeV\n",
    "\n",
    "The minimum energy in the shower dictates the run-time. As one attempts to simulate lower-threshold IR physics, the computational cost increases exponentially. The number of low energy particles proliferates and one encounters many compton scatters.  10 MeV allows for reasonable simulation speed. \n",
    "\n",
    "Pre-loaded materials are lead and graphite, but other materials can be included straightforwardly running other scripts in the PETITE utilities folder"
   ]
  },
  {
   "cell_type": "code",
   "execution_count": 5,
   "metadata": {},
   "outputs": [
    {
     "ename": "TypeError",
     "evalue": "'float' object is not iterable",
     "output_type": "error",
     "traceback": [
      "\u001b[0;31m---------------------------------------------------------------------------\u001b[0m",
      "\u001b[0;31mTypeError\u001b[0m                                 Traceback (most recent call last)",
      "\u001b[1;32m/Users/kjkelly/Documents/GitHub/PETITE/examples/PETITE_DarkShower.ipynb Cell 6\u001b[0m in \u001b[0;36m<cell line: 1>\u001b[0;34m()\u001b[0m\n\u001b[0;32m----> <a href='vscode-notebook-cell:/Users/kjkelly/Documents/GitHub/PETITE/examples/PETITE_DarkShower.ipynb#W5sZmlsZQ%3D%3D?line=0'>1</a>\u001b[0m sGraphite \u001b[39m=\u001b[39m DarkShower(PETITE_home_dir\u001b[39m+\u001b[39;49mdictionary_dir, \u001b[39m\"\u001b[39;49m\u001b[39mgraphite\u001b[39;49m\u001b[39m\"\u001b[39;49m, \u001b[39m0.010\u001b[39;49m, \u001b[39m0.010\u001b[39;49m, mode\u001b[39m=\u001b[39;49m\u001b[39m'\u001b[39;49m\u001b[39mapprox\u001b[39;49m\u001b[39m'\u001b[39;49m)\n\u001b[1;32m      <a href='vscode-notebook-cell:/Users/kjkelly/Documents/GitHub/PETITE/examples/PETITE_DarkShower.ipynb#W5sZmlsZQ%3D%3D?line=1'>2</a>\u001b[0m sLead \u001b[39m=\u001b[39m DarkShower(PETITE_home_dir\u001b[39m+\u001b[39mdictionary_dir, \u001b[39m\"\u001b[39m\u001b[39mlead\u001b[39m\u001b[39m\"\u001b[39m, \u001b[39m0.010\u001b[39m, \u001b[39m0.010\u001b[39m, mode\u001b[39m=\u001b[39m\u001b[39m'\u001b[39m\u001b[39mapprox\u001b[39m\u001b[39m'\u001b[39m)\n",
      "File \u001b[0;32m~/Documents/miniforge3/envs/kjk/lib/python3.10/site-packages/PETITE/ryan_dark_shower.py:54\u001b[0m, in \u001b[0;36mDarkShower.__init__\u001b[0;34m(self, dict_dir, target_material, min_energy, mV_in_GeV, mode, maxF_fudge_global, max_n_integrators)\u001b[0m\n\u001b[1;32m     52\u001b[0m \u001b[39mself\u001b[39m\u001b[39m.\u001b[39mset_n_targets()\n\u001b[1;32m     53\u001b[0m \u001b[39mself\u001b[39m\u001b[39m.\u001b[39mset_mV_list(dict_dir)\n\u001b[0;32m---> 54\u001b[0m \u001b[39mself\u001b[39;49m\u001b[39m.\u001b[39;49mset_mV(mV_in_GeV, mode)\n\u001b[1;32m     56\u001b[0m \u001b[39mself\u001b[39m\u001b[39m.\u001b[39mset_dark_cross_sections()\n\u001b[1;32m     57\u001b[0m \u001b[39mself\u001b[39m\u001b[39m.\u001b[39mset_dark_NSigmas()\n",
      "File \u001b[0;32m~/Documents/miniforge3/envs/kjk/lib/python3.10/site-packages/PETITE/ryan_dark_shower.py:105\u001b[0m, in \u001b[0;36mDarkShower.set_mV\u001b[0;34m(self, value, mode)\u001b[0m\n\u001b[1;32m    103\u001b[0m \u001b[39melif\u001b[39;00m mode\u001b[39m==\u001b[39m\u001b[39m'\u001b[39m\u001b[39mapprox\u001b[39m\u001b[39m'\u001b[39m:\n\u001b[1;32m    104\u001b[0m     \u001b[39mself\u001b[39m\u001b[39m.\u001b[39m_mV\u001b[39m=\u001b[39m value\n\u001b[0;32m--> 105\u001b[0m     \u001b[39mself\u001b[39m\u001b[39m.\u001b[39m_mV_estimator \u001b[39m=\u001b[39m \u001b[39mself\u001b[39;49m\u001b[39m.\u001b[39;49mclosest_lesser_value(\u001b[39mself\u001b[39;49m\u001b[39m.\u001b[39;49m_mV_list, value)\n\u001b[1;32m    106\u001b[0m \u001b[39melse\u001b[39;00m:\n\u001b[1;32m    107\u001b[0m     \u001b[39mraise\u001b[39;00m \u001b[39mException\u001b[39;00m(\u001b[39m\"\u001b[39m\u001b[39mMode not valid. Chose exact or approx.\u001b[39m\u001b[39m\"\u001b[39m)\n",
      "File \u001b[0;32m~/Documents/miniforge3/envs/kjk/lib/python3.10/site-packages/PETITE/ryan_dark_shower.py:91\u001b[0m, in \u001b[0;36mDarkShower.closest_lesser_value\u001b[0;34m(self, input_list, input_value)\u001b[0m\n\u001b[1;32m     89\u001b[0m \u001b[39mdef\u001b[39;00m \u001b[39mclosest_lesser_value\u001b[39m(\u001b[39mself\u001b[39m, input_list, input_value):\n\u001b[1;32m     90\u001b[0m     arr \u001b[39m=\u001b[39m np\u001b[39m.\u001b[39masarray(input_list)\n\u001b[0;32m---> 91\u001b[0m     index \u001b[39m=\u001b[39m np\u001b[39m.\u001b[39margmin((np\u001b[39m.\u001b[39mabs(arr \u001b[39m-\u001b[39;49m input_value)))\n\u001b[1;32m     93\u001b[0m     \u001b[39mif\u001b[39;00m arr[index]\u001b[39m<\u001b[39minput_value:\n\u001b[1;32m     94\u001b[0m         \u001b[39mreturn\u001b[39;00m(arr[index])\n",
      "\u001b[0;31mTypeError\u001b[0m: 'float' object is not iterable"
     ]
    }
   ],
   "source": [
    "sGraphite = DarkShower(PETITE_home_dir+dictionary_dir, \"graphite\", 0.010, 0.010)\n",
    "sLead = DarkShower(PETITE_home_dir+dictionary_dir, \"lead\", 0.010, 0.010)"
   ]
  },
  {
   "cell_type": "markdown",
   "metadata": {},
   "source": [
    "Now we create a list of energies to be used in the simulation."
   ]
  },
  {
   "cell_type": "code",
   "execution_count": null,
   "metadata": {},
   "outputs": [],
   "source": [
    "EVec = np.logspace(np.log10(0.0015), np.log10(100.), 100)\n",
    "EVec[58], EVec[73]"
   ]
  },
  {
   "cell_type": "markdown",
   "metadata": {},
   "source": [
    "## Accept/reject in PETITE\n",
    "PETITE usese VEGAS intergrator objects pre-trained on a grid of incident particle energies. During a shower the nearest energy with ``good coverage'' is used to draw samples, and accept reject is performed with the diffential cross section at the true physical energy. \n",
    "\n",
    "As an illustration we set an incident electron energy at $E_{e} = 1 ~{\\rm GeV}$, and sample from several integrators trained at nearby energies for the bremsstrahlung process $e Z \\rightarrow e Z \\gamma$. "
   ]
  },
  {
   "cell_type": "code",
   "execution_count": null,
   "metadata": {},
   "outputs": [],
   "source": [
    "xs0 = []\n",
    "trials0 = []\n",
    "for k in range(int(1e5)):\n",
    "    s0 = sGraphite.draw_sample(1.00512, 59, 'Brem', VB=True)\n",
    "    xs0.append(s0[0])\n",
    "    trials0.append(s0[-1])\n",
    "\n",
    "xs1 = []\n",
    "trials1 = []\n",
    "for k in range(int(1e5)):\n",
    "    s0 = sGraphite.draw_sample(1.00512, 60, 'Brem', VB=True)\n",
    "    xs1.append(s0[0])\n",
    "    trials1.append(s0[-1])\n",
    "\n",
    "xs2 = []\n",
    "trials2 = []\n",
    "for k in range(int(1e5)):\n",
    "    s0 = sGraphite.draw_sample(1.00512, 61, 'Brem', VB=True)\n",
    "    xs2.append(s0[0])\n",
    "    trials2.append(s0[-1])\n",
    "\n",
    "xs3 = []\n",
    "trials3 = []\n",
    "for k in range(int(1e5)):\n",
    "    s0 = sGraphite.draw_sample(1.00512, 62, 'Brem', VB=True)\n",
    "    xs3.append(s0[0])\n",
    "    trials3.append(s0[-1])"
   ]
  },
  {
   "cell_type": "markdown",
   "metadata": {},
   "source": [
    "### Compare efficiency of sampling for different nearby energies"
   ]
  },
  {
   "cell_type": "code",
   "execution_count": null,
   "metadata": {},
   "outputs": [],
   "source": [
    "plt.hist(trials0, bins=np.linspace(0, 20, 21), histtype='step', lw=1)\n",
    "plt.hist(trials1, bins=np.linspace(0, 20, 21), histtype='step', lw=1)\n",
    "plt.hist(trials2, bins=np.linspace(0, 20, 21), histtype='step', lw=1)\n",
    "plt.hist(trials3, bins=np.linspace(0, 20, 21), histtype='step', lw=1)\n",
    "plt.gca().set_xlabel(r\"$N_{\\rm draw}$\")\n",
    "plt.gca().set_ylabel(r\"$\\mathrm{Occurrence}$\")\n",
    "plt.gca().set_yscale('log')"
   ]
  },
  {
   "cell_type": "markdown",
   "metadata": {},
   "source": [
    "### Check distributions to see if they are insensitive to choice of integrator object"
   ]
  },
  {
   "cell_type": "code",
   "execution_count": null,
   "metadata": {},
   "outputs": [],
   "source": [
    "plt.hist(xs0, bins=np.linspace(0, 1, 101), histtype='step', lw=1)\n",
    "plt.hist(xs1, bins=np.linspace(0, 1, 101), histtype='step', lw=1)\n",
    "plt.hist(xs2, bins=np.linspace(0, 1, 101), histtype='step', lw=1)\n",
    "plt.hist(xs3, bins=np.linspace(0, 1, 101), histtype='step', lw=1)\n",
    "plt.gca().set_xlabel(r\"$x_1\\ (E_{\\gamma}\\ \\rm{proxy})$\")\n",
    "plt.gca().set_ylabel(r\"$\\mathrm{Occurrence}$\")\n",
    "plt.gca().set_yscale('log')"
   ]
  },
  {
   "cell_type": "markdown",
   "metadata": {},
   "source": [
    "## Use of rotated coordinates"
   ]
  },
  {
   "cell_type": "markdown",
   "metadata": {},
   "source": [
    "PETITE uses small angle variables (see e.g. sections 92-94 of Landau and Lifshitz Vol 4). However low-momentum transfers occur along a correlated \"ridge\" in these variables. To improve performance we have rotated angles. \n",
    "\n",
    "We illustrate the difference in performance, and benchmark total cross sections computed using the VEGAS integrators below. "
   ]
  },
  {
   "cell_type": "code",
   "execution_count": null,
   "metadata": {},
   "outputs": [],
   "source": [
    "dicts_old = pk.load(open(PETITE_home_dir+dictionary_dir+\"Feb13_xSec_Dicts.pkl\", \"rb\"))\n",
    "dicts_new = pk.load(open(PETITE_home_dir+dictionary_dir+\"Mar24_xSec_Dicts.pkl\", \"rb\"))\n",
    "dicts_new_neval = pk.load(open(PETITE_home_dir+dictionary_dir+\"Mar24_xSec_Dicts_neval.pkl\", \"rb\"))"
   ]
  },
  {
   "cell_type": "markdown",
   "metadata": {},
   "source": [
    "### Pair production\n",
    "\n",
    "Cross sections are material dependent due to $Z^2$ scaling, but also due to atomic form factors (see e.g.\\ Tsai Rev. Mod. Phys. (1974). "
   ]
  },
  {
   "cell_type": "code",
   "execution_count": null,
   "metadata": {},
   "outputs": [],
   "source": [
    "plt.plot(np.transpose(dicts_old['PairProd']['graphite'])[0], np.transpose(dicts_old['PairProd']['graphite'])[1]/6**2, color='dodgerblue', ls='-', label=r\"$\\mathrm{Original,\\ graphite}$\")\n",
    "plt.plot(np.transpose(dicts_new['PairProd']['graphite'])[0], np.transpose(dicts_new['PairProd']['graphite'])[1]/6**2, color='dodgerblue', ls='--', label=r\"$\\mathrm{Rotated/dimensionless,\\ graphite}$\")\n",
    "plt.plot(np.transpose(dicts_new_neval['PairProd']['graphite'])[0], np.transpose(dicts_new_neval['PairProd']['graphite'])[1]/6**2, color='dodgerblue', ls='-.', label=r\"$\\mathrm{Rotated/dimensionless,\\ graphite,\\ }n_{\\rm eval}=300$\")\n",
    "plt.plot(np.transpose(dicts_old['PairProd']['lead'])[0], np.transpose(dicts_old['PairProd']['lead'])[1]/82**2, color='coral', ls='-', label=r\"$\\mathrm{Original,\\ lead}$\")\n",
    "plt.plot(np.transpose(dicts_new['PairProd']['lead'])[0], np.transpose(dicts_new['PairProd']['lead'])[1]/82**2, color='coral', ls='--', label=r\"$\\mathrm{Rotated/dimensionless,\\ lead}$\")\n",
    "plt.plot(np.transpose(dicts_new_neval['PairProd']['lead'])[0], np.transpose(dicts_new_neval['PairProd']['lead'])[1]/82**2, color='coral', ls='-.', label=r\"$\\mathrm{Rotated/dimensionless,\\ lead,\\ }n_{\\rm eval}=300$\")\n",
    "\n",
    "plt.legend(loc='best')\n",
    "\n",
    "plt.gca().set_xlabel(r\"$E_{\\gamma}\\ [\\mathrm{GeV}]$\")\n",
    "plt.gca().set_ylabel(r\"$\\sigma_{\\rm pair\\ prod.}/Z^2\\ [\\mathrm{GeV^{-2}}]$\")\n",
    "\n",
    "plt.gca().set_xscale('log')\n",
    "plt.gca().set_yscale('log')\n"
   ]
  },
  {
   "cell_type": "markdown",
   "metadata": {},
   "source": [
    "### Bremsstrahlung"
   ]
  },
  {
   "cell_type": "code",
   "execution_count": null,
   "metadata": {},
   "outputs": [],
   "source": [
    "plt.plot(np.transpose(dicts_old['Brem']['graphite'])[0], np.transpose(dicts_old['Brem']['graphite'])[1]/6**2, color='dodgerblue', ls='-', label=r\"$\\mathrm{Original,\\ graphite}$\")\n",
    "plt.plot(np.transpose(dicts_new['Brem']['graphite'])[0], np.transpose(dicts_new['Brem']['graphite'])[1]/6**2, color='dodgerblue', ls='--', label=r\"$\\mathrm{Rotated/dimensionless,\\ graphite}$\")\n",
    "plt.plot(np.transpose(dicts_new_neval['Brem']['graphite'])[0], np.transpose(dicts_new_neval['Brem']['graphite'])[1]/6**2, color='dodgerblue', ls='-.', label=r\"$\\mathrm{Rotated/dimensionless,\\ graphite,\\ }n_{\\rm eval}=300$\")\n",
    "plt.plot(np.transpose(dicts_old['Brem']['lead'])[0], np.transpose(dicts_old['Brem']['lead'])[1]/82**2, color='coral', ls='-', label=r\"$\\mathrm{Original,\\ lead}$\")\n",
    "plt.plot(np.transpose(dicts_new['Brem']['lead'])[0], np.transpose(dicts_new['Brem']['lead'])[1]/82**2, color='coral', ls='--', label=r\"$\\mathrm{Rotated/dimensionless,\\ lead}$\")\n",
    "plt.plot(np.transpose(dicts_new_neval['Brem']['lead'])[0], np.transpose(dicts_new_neval['Brem']['lead'])[1]/82**2, color='coral', ls='-.', label=r\"$\\mathrm{Rotated/dimensionless,\\ lead,\\ }n_{\\rm eval}=300$\")\n",
    "\n",
    "plt.legend(loc='best')\n",
    "\n",
    "plt.gca().set_xlabel(r\"$E_{e}\\ [\\mathrm{GeV}]$\")\n",
    "plt.gca().set_ylabel(r\"$\\sigma_{\\rm brem.}/Z^2\\ [\\mathrm{GeV^{-2}}]$\")\n",
    "\n",
    "plt.gca().set_xscale('log')\n",
    "plt.gca().set_yscale('log')\n"
   ]
  },
  {
   "cell_type": "markdown",
   "metadata": {},
   "source": [
    "## Shower production with PETITE\n",
    "\n",
    "The primary purpose of PETITE is to produce realistic electromagnetic showers with a lightweight, reasonably fast, python-native code base. We illustrate its performance below. \n",
    "\n",
    "We will shoot a 10 GeV particle incident on either lead or graphite. Particles are specified by their PDG codes (see e.g. https://pdg.lbl.gov/2007/reviews/montecarlorpp.pdf) \n",
    "\n",
    "\n",
    "* ${\\rm PDG}(e^\\pm)=\\pm11$ \n",
    "* ${\\rm PDG}(\\gamma)~~=+22$ \n"
   ]
  },
  {
   "cell_type": "code",
   "execution_count": null,
   "metadata": {},
   "outputs": [],
   "source": [
    "E0 = 10.\n",
    "p0 = Particle(11, E0, 0., 0., np.sqrt(E0**2 - 0.000511**2), 0, 0, 0, 1, 0, 0, 0, -1, 1.)\n",
    "p0G = Particle(22, E0, 0, 0, E0, 0, 0, 0, 1, 0, 0, 0, -1, 1.)"
   ]
  },
  {
   "cell_type": "markdown",
   "metadata": {},
   "source": [
    "Check shower timing"
   ]
  },
  {
   "cell_type": "code",
   "execution_count": null,
   "metadata": {},
   "outputs": [],
   "source": [
    "def slowShower():\n",
    "    s0 = sGraphite.generate_shower(11, p0.get_p0(), 22, VB=True)\n",
    "    return"
   ]
  },
  {
   "cell_type": "markdown",
   "metadata": {},
   "source": [
    "We use the package cProfile to return useful information on the runtime. This is helpful if one would like to change $E_{\\rm min}$ which can slow down the code. The output below is helpful in diagnosing bottlenecks etc."
   ]
  },
  {
   "cell_type": "code",
   "execution_count": null,
   "metadata": {},
   "outputs": [],
   "source": [
    "profileSS = cProfile.Profile()\n",
    "profileSS.runcall(slowShower)\n",
    "psSS = pstats.Stats(profileSS)\n",
    "psSS.print_stats()"
   ]
  },
  {
   "cell_type": "markdown",
   "metadata": {},
   "source": [
    "### Generate showes for graphite and lead\n",
    "\n",
    "The following code generates a shower initiated by a 10 GeV electron.  To see how functions work you may call their docstrings"
   ]
  },
  {
   "cell_type": "code",
   "execution_count": null,
   "metadata": {},
   "outputs": [],
   "source": [
    "print(sGraphite.generate_shower.__doc__)"
   ]
  },
  {
   "cell_type": "markdown",
   "metadata": {},
   "source": [
    "####  You supply a \"parent\" for the initial electron. PETITE thinks of each particle as a successive daughter of its ancestors. We supply a parent particle as a photon, but this does not influence the generation of the shower "
   ]
  },
  {
   "cell_type": "code",
   "execution_count": null,
   "metadata": {},
   "outputs": [],
   "source": [
    "SMS = sGraphite.generate_shower(11, p0.get_p0(), 22, VB=True)\n",
    "SMSLead = sLead.generate_shower(11, p0.get_p0(), 22, VB=True)"
   ]
  },
  {
   "cell_type": "markdown",
   "metadata": {},
   "source": [
    "### Get all the photons, electrons, and positrons in the shower\n",
    "\n",
    "We take the array from graphite SMS, and we find all the particles that match the relevant PID"
   ]
  },
  {
   "cell_type": "code",
   "execution_count": null,
   "metadata": {},
   "outputs": [],
   "source": [
    "SMSPhotons = np.array(SMS)[np.where([ps.get_ids()[0] == 22 for ps in SMS])[0]]\n",
    "SMSPhotonsLead = np.array(SMSLead)[np.where([ps.get_ids()[0] == 22 for ps in SMSLead])[0]]\n",
    "SMSElectrons = np.array(SMS)[np.where([ps.get_ids()[0] == 11 for ps in SMS])[0]]\n",
    "SMSPositrons = np.array(SMS)[np.where([ps.get_ids()[0] == -11 for ps in SMS])[0]]"
   ]
  },
  {
   "cell_type": "code",
   "execution_count": null,
   "metadata": {},
   "outputs": [],
   "source": [
    "PhotonEs = np.array([s.get_p0()[0] for s in SMSPhotons])\n",
    "PhotonEsLead = np.array([s.get_p0()[0] for s in SMSPhotonsLead])"
   ]
  },
  {
   "cell_type": "markdown",
   "metadata": {},
   "source": [
    "### Plot the integrated distribution of photons in a shower with respect to their energy"
   ]
  },
  {
   "cell_type": "code",
   "execution_count": null,
   "metadata": {},
   "outputs": [],
   "source": [
    "b0 = np.logspace(-3, 1, 41)\n",
    "\n",
    "plt.hist(PhotonEs, bins=b0, histtype='step', lw=3, color='C6', density=True, ls='-', label=r\"$\\mathrm{SM,\\ Graphite}$\")\n",
    "plt.hist(PhotonEsLead, bins=b0, histtype='step', lw=3, color='C6', density=True, ls='--', label=r\"$\\mathrm{SM,\\ Lead}$\")\n",
    "\n",
    "plt.gca().legend(loc=1, fontsize=16)\n",
    "plt.gca().set_xscale('log')\n",
    "plt.gca().set_yscale('log')\n",
    "plt.gca().set_xlabel(r\"$E_\\gamma\\ [\\mathrm{GeV}]$\", fontsize=24)\n",
    "plt.gca().set_ylabel(r\"$\\mathrm{photons/bin}$\", fontsize=24)\n",
    "#plt.gca().axis([1e-3,100,1e-11,1e-3])\n",
    "[l.set_size(16) for l in plt.gca().get_xticklabels()]\n",
    "[l.set_size(16) for l in plt.gca().get_yticklabels()]\n",
    "\n",
    "set_size(5.0, 3.0)\n"
   ]
  },
  {
   "cell_type": "markdown",
   "metadata": {},
   "source": [
    "## Event displays\n",
    "\n",
    "PETITE can be used to produce event displays for electromagnetic showers. The relevant loop of code (beyond plotting aesthetics) is highlighted below.  \n",
    "\n",
    "Each event in the shower contains information on its location of \"production\" $\\mathbf{r}_0$ and its location of \"destruction\" $\\mathbf{r}_f$. Here, production and destruction only refer to being tracked in the simulation. For example, an atomic electron that is ionized by compton scattering with energy above $10~{\\rm MeV}$ is \"produced\", and a $12~{\\rm MeV}$ electron that looses $4 ~{\\rm MeV}$ of energy falls below the $10~{\\rm MeV}$ threshold of the simulation and is \"destroyed\". "
   ]
  },
  {
   "cell_type": "code",
   "execution_count": null,
   "metadata": {},
   "outputs": [],
   "source": [
    "print(\"The location of production for particle 12:\", SMS[12].get_r0())\n",
    "print(\"The location of destruction for particle 12:\", SMS[12].get_rf())\n"
   ]
  },
  {
   "cell_type": "markdown",
   "metadata": {},
   "source": [
    "### We can use these function to make event displays\n",
    "\n",
    "The particles in SMS are sorted by their PID, and plotted as either squiggly green lines (photons), straight red lines (electrons) or straight blue lines (positrons). "
   ]
  },
  {
   "cell_type": "code",
   "execution_count": null,
   "metadata": {},
   "outputs": [],
   "source": [
    "figwid = 6.0*2.0\n",
    "fighei = 6.0*0.5\n",
    "lside = 3.0\n",
    "rside = 3.5\n",
    "wwspace = 1.25\n",
    "\n",
    "ncol = 1\n",
    "nrow = 2\n",
    "\n",
    "wid = lside + ncol*figwid + (ncol-1)*wwspace + rside\n",
    "\n",
    "bot = 3.77\n",
    "top = 3.5\n",
    "hhspace = 0.25\n",
    "\n",
    "hei = bot + nrow*fighei + (nrow-1)*hhspace + top\n",
    "\n",
    "lfactor = lside/wid\n",
    "rfactor = rside/wid\n",
    "bfactor = bot/hei\n",
    "tfactor = top/hei\n",
    "wfactor = wwspace/figwid\n",
    "hfactor = hhspace/fighei\n",
    "\n",
    "matplotlib.rcParams['axes.linewidth'] = 2.0\n",
    "fig, axes = plt.subplots(nrow, ncol, figsize=(wid, hei), facecolor='1.0');\n",
    "fig.subplots_adjust(left = lfactor, bottom=bfactor, right=(1.0-rfactor), top=(1.0-tfactor), wspace=wfactor, hspace=hfactor);\n",
    "\n",
    "xmin, xmax, ymin, ymax = -0.02, 1, -0.04, 0.04\n",
    "#xmin, xmax, ymin, ymax = -1.0, 5.0, -0.4, 0.4\n",
    "\n",
    "ax = axes[0]\n",
    "ax.axis([xmin, xmax, ymin, ymax])\n",
    "ax.plot([xmin, xmin, xmax, xmax, xmin], [ymin, ymax, ymax, ymin, ymin], ls='-', color='k', lw=4, zorder=50)\n",
    "#ax.set_xlabel(r'$z\\ [\\mathrm{m}]$', fontproperties=font)        \n",
    "ax.set_ylabel(r'$x\\ [\\mathrm{m}]$', fontproperties=font)        \n",
    "\n",
    "ax.tick_params(direction='in', zorder=30, length=20, width=2)\n",
    "ax.tick_params(direction='in', which='minor', zorder=30, length=15, width=1.5)\n",
    "[l.set_position((0.5, -0.015)) for l in ax.get_xticklabels()]\n",
    "[l.set_size((0)) for l in ax.get_xticklabels()]\n",
    "[l.set_size((labelfont.get_size())) for l in ax.get_yticklabels()]\n",
    "\n",
    "for ki0 in SMS:\n",
    "    ki = np.concatenate([ki0.get_r0(), ki0.get_rf()])\n",
    "    if ki0.get_ids()[0] == 22:\n",
    "        with matplotlib.rc_context({'path.sketch': (5, 15, 1)}):\n",
    "            ax.plot([ki[2], ki[5]], [ki[0], ki[3]], lw=1, ls='-', color='g', alpha=0.5)\n",
    "    if ki0.get_ids()[0] == 11:\n",
    "        ax.plot([ki[2], ki[5]], [ki[0], ki[3]], lw=1, ls='-', color='r', alpha=0.5)\n",
    "    if ki0.get_ids()[0] == -11:\n",
    "        ax.plot([ki[2], ki[5]], [ki[0], ki[3]], lw=1, ls='-', color='b', alpha=0.5)\n",
    "\n",
    "ax = axes[1]\n",
    "ax.axis([xmin, xmax, ymin, ymax])\n",
    "ax.plot([xmin, xmin, xmax, xmax, xmin], [ymin, ymax, ymax, ymin, ymin], ls='-', color='k', lw=4, zorder=50)\n",
    "ax.set_xlabel(r'$z\\ [\\mathrm{m}]$', fontproperties=font)        \n",
    "ax.set_ylabel(r'$y\\ [\\mathrm{m}]$', fontproperties=font)        \n",
    "\n",
    "ax.tick_params(direction='in', zorder=30, length=20, width=2)\n",
    "ax.tick_params(direction='in', which='minor', zorder=30, length=15, width=1.5)\n",
    "[l.set_position((0.5, -0.015)) for l in ax.get_xticklabels()]\n",
    "[l.set_size((labelfont.get_size())) for l in ax.get_xticklabels()]\n",
    "[l.set_size((labelfont.get_size())) for l in ax.get_yticklabels()]\n",
    "\n",
    "for ki0 in SMS:\n",
    "    ki = np.concatenate([ki0.get_r0(), ki0.get_rf()])\n",
    "    if ki0.get_ids()[0] == 22:\n",
    "        with matplotlib.rc_context({'path.sketch': (5, 15, 1)}):\n",
    "            ax.plot([ki[2], ki[5]], [ki[1], ki[4]], lw=1, ls='-', color='g', alpha=0.5)\n",
    "    if ki0.get_ids()[0] == 11:\n",
    "        ax.plot([ki[2], ki[5]], [ki[1], ki[4]], lw=1, ls='-', color='r', alpha=0.5)\n",
    "    if ki0.get_ids()[0] == -11:\n",
    "        ax.plot([ki[2], ki[5]], [ki[1], ki[4]], lw=1, ls='-', color='b', alpha=0.5)\n",
    "\n"
   ]
  },
  {
   "cell_type": "markdown",
   "metadata": {},
   "source": [
    "### Comparison of lead vs graphite"
   ]
  },
  {
   "cell_type": "code",
   "execution_count": null,
   "metadata": {},
   "outputs": [],
   "source": [
    "figwid = 6.0*2.0\n",
    "fighei = 6.0*0.5\n",
    "lside = 3.0\n",
    "rside = 3.5\n",
    "wwspace = 1.25\n",
    "\n",
    "ncol = 2\n",
    "nrow = 2\n",
    "\n",
    "wid = lside + ncol*figwid + (ncol-1)*wwspace + rside\n",
    "\n",
    "bot = 3.77\n",
    "top = 3.5\n",
    "hhspace = 0.25\n",
    "\n",
    "hei = bot + nrow*fighei + (nrow-1)*hhspace + top\n",
    "\n",
    "lfactor = lside/wid\n",
    "rfactor = rside/wid\n",
    "bfactor = bot/hei\n",
    "tfactor = top/hei\n",
    "wfactor = wwspace/figwid\n",
    "hfactor = hhspace/fighei\n",
    "\n",
    "matplotlib.rcParams['axes.linewidth'] = 2.0\n",
    "fig, axes = plt.subplots(nrow, ncol, figsize=(wid, hei), facecolor='1.0');\n",
    "fig.subplots_adjust(left = lfactor, bottom=bfactor, right=(1.0-rfactor), top=(1.0-tfactor), wspace=wfactor, hspace=hfactor);\n",
    "\n",
    "xmin, xmax, ymin, ymax = -0.02, 2, -0.05, 0.05\n",
    "#xmin, xmax, ymin, ymax = -1.0, 5.0, -0.4, 0.4\n",
    "\n",
    "ax = axes[0][0]\n",
    "ax.axis([xmin, xmax, ymin, ymax])\n",
    "ax.plot([xmin, xmin, xmax, xmax, xmin], [ymin, ymax, ymax, ymin, ymin], ls='-', color='k', lw=4, zorder=50)\n",
    "#ax.set_xlabel(r'$z\\ [\\mathrm{m}]$', fontproperties=font)        \n",
    "ax.set_ylabel(r'$x\\ [\\mathrm{m}]$', fontproperties=font)        \n",
    "ax.set_title(r\"$\\mathrm{Graphite}$\", fontproperties=font)\n",
    "\n",
    "ax.tick_params(direction='in', zorder=30, length=20, width=2)\n",
    "ax.tick_params(direction='in', which='minor', zorder=30, length=15, width=1.5)\n",
    "[l.set_position((0.5, -0.015)) for l in ax.get_xticklabels()]\n",
    "[l.set_size((0)) for l in ax.get_xticklabels()]\n",
    "[l.set_size((labelfont.get_size())) for l in ax.get_yticklabels()]\n",
    "\n",
    "for ki0 in SMS:\n",
    "    ki = np.concatenate([ki0.get_r0(), ki0.get_rf()])\n",
    "    if ki0.get_ids()[0] == 22:\n",
    "        with matplotlib.rc_context({'path.sketch': (5, 15, 1)}):\n",
    "            ax.plot([ki[2], ki[5]], [ki[0], ki[3]], lw=1, ls='-', color='mediumseagreen', alpha=0.5)\n",
    "    if ki0.get_ids()[0] == 11:\n",
    "        ax.plot([ki[2], ki[5]], [ki[0], ki[3]], lw=1, ls='-', color='coral', alpha=0.5)\n",
    "    if ki0.get_ids()[0] == -11:\n",
    "        ax.plot([ki[2], ki[5]], [ki[0], ki[3]], lw=1, ls='-', color='dodgerblue', alpha=0.5)\n",
    "\n",
    "ax = axes[1][0]\n",
    "ax.axis([xmin, xmax, ymin, ymax])\n",
    "ax.plot([xmin, xmin, xmax, xmax, xmin], [ymin, ymax, ymax, ymin, ymin], ls='-', color='k', lw=4, zorder=50)\n",
    "ax.set_xlabel(r'$z\\ [\\mathrm{m}]$', fontproperties=font)        \n",
    "ax.set_ylabel(r'$y\\ [\\mathrm{m}]$', fontproperties=font)        \n",
    "\n",
    "ax.tick_params(direction='in', zorder=30, length=20, width=2)\n",
    "ax.tick_params(direction='in', which='minor', zorder=30, length=15, width=1.5)\n",
    "[l.set_position((0.5, -0.015)) for l in ax.get_xticklabels()]\n",
    "[l.set_size((labelfont.get_size())) for l in ax.get_xticklabels()]\n",
    "[l.set_size((labelfont.get_size())) for l in ax.get_yticklabels()]\n",
    "\n",
    "for ki0 in SMS:\n",
    "    ki = np.concatenate([ki0.get_r0(), ki0.get_rf()])\n",
    "    if ki0.get_ids()[0] == 22:\n",
    "        with matplotlib.rc_context({'path.sketch': (5, 15, 1)}):\n",
    "            ax.plot([ki[2], ki[5]], [ki[1], ki[4]], lw=1, ls='-', color='mediumseagreen', alpha=0.5)\n",
    "    if ki0.get_ids()[0] == 11:\n",
    "        ax.plot([ki[2], ki[5]], [ki[1], ki[4]], lw=1, ls='-', color='coral', alpha=0.5)\n",
    "    if ki0.get_ids()[0] == -11:\n",
    "        ax.plot([ki[2], ki[5]], [ki[1], ki[4]], lw=1, ls='-', color='dodgerblue', alpha=0.5)\n",
    "\n",
    "\n",
    "xmin, xmax, ymin, ymax = -0.02, 0.2, -0.05, 0.05\n",
    "\n",
    "\n",
    "ax = axes[0][1]\n",
    "ax.axis([xmin, xmax, ymin, ymax])\n",
    "ax.plot([xmin, xmin, xmax, xmax, xmin], [ymin, ymax, ymax, ymin, ymin], ls='-', color='k', lw=4, zorder=50)\n",
    "#ax.set_xlabel(r'$z\\ [\\mathrm{m}]$', fontproperties=font)        \n",
    "ax.set_ylabel(r'$x\\ [\\mathrm{m}]$', fontproperties=font)        \n",
    "ax.set_title(r\"$\\mathrm{Lead}$\", fontproperties=font)\n",
    "\n",
    "ax.tick_params(direction='in', zorder=30, length=20, width=2)\n",
    "ax.tick_params(direction='in', which='minor', zorder=30, length=15, width=1.5)\n",
    "[l.set_position((0.5, -0.015)) for l in ax.get_xticklabels()]\n",
    "[l.set_size((0)) for l in ax.get_xticklabels()]\n",
    "[l.set_size((labelfont.get_size())) for l in ax.get_yticklabels()]\n",
    "\n",
    "for ki0 in SMSLead:\n",
    "    ki = np.concatenate([ki0.get_r0(), ki0.get_rf()])\n",
    "    if ki0.get_ids()[0] == 22:\n",
    "        with matplotlib.rc_context({'path.sketch': (5, 15, 1)}):\n",
    "            ax.plot([ki[2], ki[5]], [ki[0], ki[3]], lw=1, ls='-', color='mediumseagreen', alpha=0.5)\n",
    "    if ki0.get_ids()[0] == 11:\n",
    "        ax.plot([ki[2], ki[5]], [ki[0], ki[3]], lw=1, ls='-', color='coral', alpha=0.5)\n",
    "    if ki0.get_ids()[0] == -11:\n",
    "        ax.plot([ki[2], ki[5]], [ki[0], ki[3]], lw=1, ls='-', color='dodgerblue', alpha=0.5)\n",
    "\n",
    "ax = axes[1][1]\n",
    "ax.axis([xmin, xmax, ymin, ymax])\n",
    "ax.plot([xmin, xmin, xmax, xmax, xmin], [ymin, ymax, ymax, ymin, ymin], ls='-', color='k', lw=4, zorder=50)\n",
    "ax.set_xlabel(r'$z\\ [\\mathrm{m}]$', fontproperties=font)        \n",
    "ax.set_ylabel(r'$y\\ [\\mathrm{m}]$', fontproperties=font)        \n",
    "\n",
    "ax.tick_params(direction='in', zorder=30, length=20, width=2)\n",
    "ax.tick_params(direction='in', which='minor', zorder=30, length=15, width=1.5)\n",
    "[l.set_position((0.5, -0.015)) for l in ax.get_xticklabels()]\n",
    "[l.set_size((labelfont.get_size())) for l in ax.get_xticklabels()]\n",
    "[l.set_size((labelfont.get_size())) for l in ax.get_yticklabels()]\n",
    "\n",
    "for ki0 in SMSLead:\n",
    "    ki = np.concatenate([ki0.get_r0(), ki0.get_rf()])\n",
    "    if ki0.get_ids()[0] == 22:\n",
    "        with matplotlib.rc_context({'path.sketch': (5, 15, 1)}):\n",
    "            ax.plot([ki[2], ki[5]], [ki[1], ki[4]], lw=1, ls='-', color='mediumseagreen', alpha=0.5)\n",
    "    if ki0.get_ids()[0] == 11:\n",
    "        ax.plot([ki[2], ki[5]], [ki[1], ki[4]], lw=1, ls='-', color='coral', alpha=0.5)\n",
    "    if ki0.get_ids()[0] == -11:\n",
    "        ax.plot([ki[2], ki[5]], [ki[1], ki[4]], lw=1, ls='-', color='dodgerblue', alpha=0.5)\n",
    "\n",
    "for ax in axes[0]:\n",
    "    ax.plot([0, 2.2, 2.2, 0, 0], [0.008, 0.008, -0.008, -0.008, 0.008], lw=1, color='k', ls='-', alpha=0.5)\n",
    "for ax in axes[1]:\n",
    "    ax.plot([0, 2.2, 2.2, 0, 0], [0.008, 0.008, -0.008, -0.008, 0.008], lw=1, color='k', ls='-', alpha=0.5)\n"
   ]
  },
  {
   "cell_type": "markdown",
   "metadata": {},
   "source": [
    "## Tests and validations\n",
    "\n",
    "Generate some ensembles of brem./pair production samples, with 10 GeV particles injected and check basic properties of distributions"
   ]
  },
  {
   "cell_type": "code",
   "execution_count": null,
   "metadata": {},
   "outputs": [],
   "source": [
    "nSamp = 200000\n",
    "s0 = np.array([sGraphite.electron_brem_sample(p0, VB=True) for i in range(nSamp)])\n",
    "s0G = np.array([sGraphite.pairprod_sample(p0G, VB=True) for i in range(nSamp)])"
   ]
  },
  {
   "cell_type": "code",
   "execution_count": null,
   "metadata": {},
   "outputs": [],
   "source": [
    "Es = np.array([s[1].get_p0()[0] for s in s0])\n",
    "EsE = np.array([s[0].get_p0()[0] for s in s0])\n",
    "\n",
    "EsG = np.array([s[1].get_p0()[0] for s in s0G])\n",
    "EsGP = np.array([s[0].get_p0()[0] for s in s0G])"
   ]
  },
  {
   "cell_type": "markdown",
   "metadata": {},
   "source": [
    "### Photon and electron distribution from first scatter\n",
    "\n",
    "We expect a flat photon distribution in log-space "
   ]
  },
  {
   "cell_type": "code",
   "execution_count": null,
   "metadata": {},
   "outputs": [],
   "source": [
    "b0 = np.logspace(-3, 1, 41)\n",
    "\n",
    "dens = False\n",
    "plt.hist(Es, bins=b0, histtype='step', lw=3, color='C6', density=dens, ls='-', label=r\"$\\mathrm{SM,\\ Ryan\\ Approach}$\")\n",
    "plt.hist(EsE, bins=b0, histtype='step', lw=3, color='C6', density=dens, ls='--')\n",
    "\n",
    "#plt.gca().legend(loc='best', fontsize=16, framealpha=1.0)\n",
    "plt.gca().set_xscale('log')\n",
    "plt.gca().set_yscale('log')\n",
    "plt.gca().set_xlabel(r\"$E_\\gamma\\ \\mathrm{or}\\ E_{e^-}\\ [\\mathrm{GeV}]$\", fontsize=24)\n",
    "plt.gca().set_ylabel(r\"$\\mathrm{photons/bin}$\", fontsize=24)\n",
    "#plt.gca().axis([1e-3,100,1e-11,1e-3])\n",
    "[l.set_size(16) for l in plt.gca().get_xticklabels()]\n",
    "[l.set_size(16) for l in plt.gca().get_yticklabels()]\n",
    "\n",
    "set_size(8.0, 5.0)\n"
   ]
  },
  {
   "cell_type": "markdown",
   "metadata": {},
   "source": [
    "### Look at angular distributions of outgoing particles from bremsstrahlung/pair production in terms of their $p_T/p_z$"
   ]
  },
  {
   "cell_type": "code",
   "execution_count": null,
   "metadata": {},
   "outputs": [],
   "source": [
    "pTpz = np.array([(s[1].get_p0()[3]/np.sqrt(s[1].get_p0()[1]**2 + s[1].get_p0()[2]**2))**(-1) for s in s0])\n",
    "pTpzE = np.array([(s[0].get_p0()[3]/np.sqrt(s[0].get_p0()[1]**2 + s[0].get_p0()[2]**2))**(-1) for s in s0])\n",
    "\n",
    "pTpzG = np.array([(s[1].get_p0()[3]/np.sqrt(s[1].get_p0()[1]**2 + s[1].get_p0()[2]**2))**(-1) for s in s0G])\n",
    "pTpzGP = np.array([(s[0].get_p0()[3]/np.sqrt(s[0].get_p0()[1]**2 + s[0].get_p0()[2]**2))**(-1) for s in s0G])"
   ]
  },
  {
   "cell_type": "code",
   "execution_count": null,
   "metadata": {},
   "outputs": [],
   "source": [
    "b0 = np.logspace(-10, 2, 41)\n",
    "\n",
    "dens = True\n",
    "plt.hist(pTpz, bins=b0, histtype='step', lw=3, color='C6', density=dens, ls='-', label=r\"$e^{+},\\ \\rm{brem.}$\")\n",
    "plt.hist(pTpzE, bins=b0, histtype='step', lw=3, color='C6', density=dens, ls='--', label=r\"$e^{-},\\ \\rm{brem.}$\")\n",
    "\n",
    "plt.hist(pTpzG, bins=b0, histtype='step', lw=3, color='C4', density=dens, ls='-', label=r\"$e^{-},\\ \\rm{pair\\ prod.}$\")\n",
    "plt.hist(pTpzGP, bins=b0, histtype='step', lw=3, color='C4', density=dens, ls='--', label=r\"$e^{+},\\ \\rm{pair\\ prod.}$\")\n",
    "\n",
    "plt.gca().legend(loc='best', fontsize=16, framealpha=1.0)\n",
    "plt.gca().set_xscale('log')\n",
    "plt.gca().set_yscale('log')\n",
    "plt.gca().set_xlabel(r\"$p_T/p_z$\", fontsize=24)\n",
    "plt.gca().set_ylabel(r\"$\\mathrm{photons/bin}$\", fontsize=24)\n",
    "#plt.gca().axis([1e-3,100,1e-11,1e-3])\n",
    "[l.set_size(16) for l in plt.gca().get_xticklabels()]\n",
    "[l.set_size(16) for l in plt.gca().get_yticklabels()]\n",
    "\n",
    "set_size(8.0, 5.0)\n"
   ]
  },
  {
   "cell_type": "markdown",
   "metadata": {},
   "source": [
    "## Outgoing electron/positron energies coming from pair production: should be identical"
   ]
  },
  {
   "cell_type": "code",
   "execution_count": null,
   "metadata": {},
   "outputs": [],
   "source": [
    "b0 = np.logspace(-4, 2, 41)\n",
    "\n",
    "dens=False \n",
    "\n",
    "plt.hist(EsG, bins=b0, histtype='step', lw=3, color='C6', density=dens, ls='-')\n",
    "plt.hist(EsGP, bins=b0, histtype='step', lw=3, color='C6', density=dens, ls='--')\n",
    "\n",
    "#plt.gca().legend(loc=2, fontsize=16)\n",
    "plt.gca().set_xscale('log')\n",
    "plt.gca().set_yscale('log')\n",
    "plt.gca().set_xlabel(r\"$E_{e^\\pm}\\ [\\mathrm{GeV}]$\", fontsize=24)\n",
    "plt.gca().set_ylabel(r\"$\\mathrm{photons/bin}$\", fontsize=24)\n",
    "#plt.gca().axis([1e-3,100,1e-11,1e-3])\n",
    "[l.set_size(16) for l in plt.gca().get_xticklabels()]\n",
    "[l.set_size(16) for l in plt.gca().get_yticklabels()]\n",
    "\n",
    "set_size(8.0, 5.0)\n"
   ]
  },
  {
   "cell_type": "markdown",
   "metadata": {},
   "source": [
    "### Event-by-event ratio of $E_{e^-}/E_{e^+}$: should be symmetric about 1."
   ]
  },
  {
   "cell_type": "code",
   "execution_count": null,
   "metadata": {},
   "outputs": [],
   "source": [
    "b0 = np.logspace(-4, 4, 61)\n",
    "\n",
    "plt.hist(EsG/EsGP, bins=b0, histtype='step', lw=3, color='C6', density=False, ls='-', label=r\"$\\mathrm{SM,\\ Ryan\\ Approach}$\")\n",
    "\n",
    "#plt.gca().legend(loc=1, fontsize=16)\n",
    "plt.gca().set_xscale('log')\n",
    "plt.gca().set_yscale('log')\n",
    "plt.gca().set_xlabel(r\"$E_{e^-}/E_{e^+}$\", fontsize=24)\n",
    "plt.gca().set_ylabel(r\"$\\mathrm{simulations}$\", fontsize=24)\n",
    "#plt.gca().axis([1e-3,100,1e-11,1e-3])\n",
    "[l.set_size(16) for l in plt.gca().get_xticklabels()]\n",
    "[l.set_size(16) for l in plt.gca().get_yticklabels()]\n",
    "plt.gca().axvline(1.0, color='k', lw=1, ls='--')\n",
    "\n",
    "set_size(8.0, 5.0)\n"
   ]
  },
  {
   "cell_type": "markdown",
   "metadata": {},
   "source": [
    "### Asymmetry of the distribution. \n",
    "\n",
    "A basic test is distributions should be symmetric under  $e^+\\leftrightarrow e^-$. We expect deviations due to statistical flucutations, on the order of $1/\\sqrt{N}$ where $N$ is the size of the sample."
   ]
  },
  {
   "cell_type": "code",
   "execution_count": null,
   "metadata": {},
   "outputs": [],
   "source": [
    "print(\"Asyymetry\", (len(np.where(EsG > E0/2)[0]) - len(np.where(EsG < E0/2)[0]))/len(EsG) ) \n",
    "print(\"Statistical Error:\" , 1/np.sqrt(len(EsG)) )\n"
   ]
  },
  {
   "cell_type": "code",
   "execution_count": null,
   "metadata": {},
   "outputs": [],
   "source": []
  }
 ],
 "metadata": {
  "kernelspec": {
   "display_name": "Python 3 (ipykernel)",
   "language": "python",
   "name": "python3"
  },
  "language_info": {
   "codemirror_mode": {
    "name": "ipython",
    "version": 3
   },
   "file_extension": ".py",
   "mimetype": "text/x-python",
   "name": "python",
   "nbconvert_exporter": "python",
   "pygments_lexer": "ipython3",
   "version": "3.10.6"
  }
 },
 "nbformat": 4,
 "nbformat_minor": 2
}
