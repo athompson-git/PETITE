{
 "cells": [
  {
   "attachments": {},
   "cell_type": "markdown",
   "metadata": {},
   "source": [
    "# PETITE BSM shower generation example\n",
    "\n",
    "PETITE is a simple, lightweight, toy Monte Carlo that generates realistic electromagnetic showers. \n",
    "\n",
    "Authors: Kevin J. Kelly (Texas A&M), Nikita Blinov (U. Victoria), Ryan Plestid (Caltech), Patrick J. Fox (Fermilab), and Pedro A.M. Machado (Fermilab)\n",
    "\n",
    "It includes explicit simulation of (we denote nuclei by their electric charge $Z$)\n",
    "\n",
    "* Bremsstrahlung  $e^\\pm Z \\rightarrow e^\\pm \\gamma Z$. \n",
    "* Pair production $\\gamma Z \\rightarrow e^+ e^- Z$. \n",
    "* Compton scattering $\\gamma e^- \\rightarrow  \\gamma e^-$\n",
    "* Pair-annihilation $e^+ e^- \\rightarrow \\gamma\\gamma$ \n",
    "\n",
    "and implicit simulation of \n",
    "\n",
    "* Multiple Coulomb scattering\n",
    "* Energy loss by ionization \n",
    "\n",
    "${\\bf Dependencies}$: numpy, vegas, pickle, cProfile, tqdm, scipy\n",
    "\n",
    "${\\bf Version~ requirements}$: numpy 1.24  ,  python3.xx with xx$\\geq$9.\n",
    "\n",
    "${\\bf Directory~structure}$: This notebook assumes that within a PETITE home directory there is folder containing dictionaries, and that within that folder the following files exist \n",
    "\n",
    "* $\\verb|<PETITE_home_dir>|$/$\\verb|<dictionary_dir>|$/Feb13_xSec_Dicts.pkl\n",
    "* $\\verb|<PETITE_home_dir>|$/$\\verb|<dictionary_dir>|$/Mar24_xSec_Dicts.pkl\n",
    "* $\\verb|<PETITE_home_dir>|$/$\\verb|<dictionary_dir>|$/Mar24_xSec_Dicts_neval.pkl\n",
    "\n",
    "You can check versions with the code below and adjust if necessary"
   ]
  },
  {
   "cell_type": "code",
   "execution_count": 17,
   "metadata": {},
   "outputs": [
    {
     "name": "stdout",
     "output_type": "stream",
     "text": [
      "Python version:  3.10.6\n",
      "Numpy version:  1.24.3\n",
      "PETITE home directory: /Users/kjkelly/Documents/GitHub/PETITE/\n"
     ]
    }
   ],
   "source": [
    "from platform import python_version\n",
    "print(\"Python version: \", python_version())\n",
    "\n",
    "import numpy\n",
    "print(\"Numpy version: \", numpy.__version__)\n",
    "\n",
    "import os\n",
    "current_path = os.getcwd()\n",
    "PETITE_home_dir= current_path.split('examples')[0]\n",
    "\n",
    "print(\"PETITE home directory:\", PETITE_home_dir)\n",
    "\n",
    "dictionary_dir = \"RyanDicts/\""
   ]
  },
  {
   "cell_type": "markdown",
   "metadata": {},
   "source": [
    "### Load in dependencies and set font styles"
   ]
  },
  {
   "cell_type": "code",
   "execution_count": 18,
   "metadata": {},
   "outputs": [],
   "source": [
    "#from kjkutils import *\n",
    "from PETITE.ryan_dark_shower import *\n",
    "import pickle as pk\n",
    "from matplotlib import pyplot as plt\n",
    "from tqdm import tqdm\n",
    "import matplotlib\n",
    "\n",
    "from matplotlib.font_manager import FontProperties\n",
    "from matplotlib.ticker import FixedLocator, MaxNLocator\n",
    "import cProfile\n",
    "profile = cProfile.Profile()\n",
    "import pstats\n",
    "\n",
    "font0 = FontProperties()\n",
    "font = font0.copy()\n",
    "font.set_size(24)\n",
    "font.set_family('serif')\n",
    "labelfont=font0.copy()\n",
    "labelfont.set_size(20)\n",
    "labelfont.set_weight('bold')\n",
    "legfont=font0.copy()\n",
    "legfont.set_size(18)\n",
    "legfont.set_weight('bold')\n",
    "\n",
    "\n",
    "def set_size(w,h, ax=None):\n",
    "    \"\"\" w, h: width, height in inches \"\"\"\n",
    "    if not ax: ax=plt.gca()\n",
    "    l = ax.figure.subplotpars.left\n",
    "    r = ax.figure.subplotpars.right\n",
    "    t = ax.figure.subplotpars.top\n",
    "    b = ax.figure.subplotpars.bottom\n",
    "    figw = float(w)/(r-l)\n",
    "    figh = float(h)/(t-b)\n",
    "    ax.figure.set_size_inches(figw, figh)\n",
    "\n"
   ]
  },
  {
   "cell_type": "markdown",
   "metadata": {},
   "source": [
    "####  Import two shower objects, one with a graphite target and one with lead. Both track down to minimum energies of 10 MeV\n",
    "\n",
    "The minimum energy in the shower dictates the run-time. As one attempts to simulate lower-threshold IR physics, the computational cost increases exponentially. The number of low energy particles proliferates and one encounters many compton scatters.  10 MeV allows for reasonable simulation speed. \n",
    "\n",
    "Pre-loaded materials are lead and graphite, but other materials can be included straightforwardly running other scripts in the PETITE utilities folder"
   ]
  },
  {
   "cell_type": "code",
   "execution_count": 40,
   "metadata": {},
   "outputs": [],
   "source": [
    "sGraphite = DarkShower(PETITE_home_dir+dictionary_dir, \"graphite\", 0.030, 0.030)"
   ]
  },
  {
   "cell_type": "code",
   "execution_count": 42,
   "metadata": {},
   "outputs": [
    {
     "name": "stdout",
     "output_type": "stream",
     "text": [
      "[0.003, 0.01, 0.03, 0.1, 0.3, 1.0]\n",
      "0.03\n",
      "0.03\n"
     ]
    }
   ],
   "source": [
    "print(sGraphite._mV_list)\n",
    "print(sGraphite._mV)\n",
    "print(sGraphite._mV_estimator)"
   ]
  },
  {
   "cell_type": "code",
   "execution_count": 43,
   "metadata": {},
   "outputs": [
    {
     "data": {
      "text/plain": [
       "{'graphite': 0.016382356047172152, 'lead': 2.993815796824934}"
      ]
     },
     "execution_count": 43,
     "metadata": {},
     "output_type": "execute_result"
    }
   ],
   "source": [
    "sGraphite._loaded_dark_samples['ExactBrem'][10][1]['max_F']"
   ]
  },
  {
   "cell_type": "code",
   "execution_count": 44,
   "metadata": {},
   "outputs": [
    {
     "data": {
      "text/plain": [
       "[0.9119241654255507, -7.2758942899960815, -7.631473465454999]"
      ]
     },
     "execution_count": 44,
     "metadata": {},
     "output_type": "execute_result"
    }
   ],
   "source": [
    "list(sGraphite.draw_dark_sample(20.0, 50, \"ExactBrem\"))"
   ]
  },
  {
   "cell_type": "code",
   "execution_count": 46,
   "metadata": {},
   "outputs": [],
   "source": [
    "p0 = pickle.load(open(PETITE_home_dir+dictionary_dir+\"dark_xSec_Dicts.pkl\", \"rb\"))[sGraphite._mV_estimator]['ExactBrem']['graphite']"
   ]
  },
  {
   "cell_type": "code",
   "execution_count": 47,
   "metadata": {},
   "outputs": [
    {
     "data": {
      "text/plain": [
       "0.07213499466808924"
      ]
     },
     "execution_count": 47,
     "metadata": {},
     "output_type": "execute_result"
    }
   ],
   "source": [
    "sGraphite.GetBSMWeights(-11, 1.0)"
   ]
  },
  {
   "cell_type": "code",
   "execution_count": 48,
   "metadata": {},
   "outputs": [],
   "source": [
    "s0SM = sGraphite.generate_shower(22, [10, 0, 0, 10], 22)"
   ]
  },
  {
   "cell_type": "code",
   "execution_count": 49,
   "metadata": {},
   "outputs": [
    {
     "data": {
      "text/plain": [
       "Text(0, 0.5, '$\\\\sigma_{\\\\rm dark\\\\ brem.}\\\\ [\\\\mathrm{GeV}^{-2}]$')"
      ]
     },
     "execution_count": 49,
     "metadata": {},
     "output_type": "execute_result"
    },
    {
     "data": {
      "image/png": "[encoded data removed]",
      "text/plain": [
       "<Figure size 640x480 with 1 Axes>"
      ]
     },
     "metadata": {},
     "output_type": "display_data"
    }
   ],
   "source": [
    "sX, sY = np.transpose(p0)\n",
    "plt.plot(sX, sY, lw=2, color='dodgerblue')\n",
    "plt.gca().set_xscale('log')\n",
    "plt.gca().set_yscale('log')\n",
    "plt.gca().set_xlabel(r\"$E_{e^\\pm}$\")\n",
    "plt.gca().set_ylabel(r\"$\\sigma_{\\rm dark\\ brem.}\\ [\\mathrm{GeV}^{-2}]$\")"
   ]
  },
  {
   "cell_type": "code",
   "execution_count": null,
   "metadata": {},
   "outputs": [],
   "source": []
  },
  {
   "cell_type": "code",
   "execution_count": 50,
   "metadata": {},
   "outputs": [
    {
     "data": {
      "text/plain": [
       "10.46231780468189"
      ]
     },
     "execution_count": 50,
     "metadata": {},
     "output_type": "execute_result"
    }
   ],
   "source": [
    "sX[70]"
   ]
  },
  {
   "cell_type": "code",
   "execution_count": 52,
   "metadata": {},
   "outputs": [
    {
     "name": "stderr",
     "output_type": "stream",
     "text": [
      "100%|██████████| 100000/100000 [01:33<00:00, 1070.46it/s]\n"
     ]
    }
   ],
   "source": [
    "ntrials = []\n",
    "xs = []\n",
    "for k in tqdm(range(100000)):\n",
    "    s0 = sGraphite.draw_dark_sample(4.55, 70, \"ExactBrem\", VB=True)\n",
    "    xs.append([s0[0], s0[1]])\n",
    "    ntrials.append(s0[-1])"
   ]
  },
  {
   "cell_type": "code",
   "execution_count": 53,
   "metadata": {},
   "outputs": [
    {
     "data": {
      "text/plain": [
       "612.0"
      ]
     },
     "execution_count": 53,
     "metadata": {},
     "output_type": "execute_result"
    }
   ],
   "source": [
    "np.max(ntrials)"
   ]
  },
  {
   "cell_type": "code",
   "execution_count": 54,
   "metadata": {},
   "outputs": [
    {
     "data": {
      "image/png": "[encoded data removed]",
      "text/plain": [
       "<Figure size 640x480 with 1 Axes>"
      ]
     },
     "metadata": {},
     "output_type": "display_data"
    }
   ],
   "source": [
    "plt.hist(ntrials, bins=np.linspace(0, 200, 201), histtype='step', lw=2, color='dodgerblue')\n",
    "plt.gca().set_yscale('log')"
   ]
  },
  {
   "cell_type": "code",
   "execution_count": 55,
   "metadata": {},
   "outputs": [
    {
     "data": {
      "image/png": "[encoded data removed]",
      "text/plain": [
       "<Figure size 640x480 with 1 Axes>"
      ]
     },
     "metadata": {},
     "output_type": "display_data"
    }
   ],
   "source": [
    "plt.hist(np.transpose(xs)[0], bins=np.linspace(0, 1, 201), histtype='step', lw=2, color='dodgerblue')\n",
    "plt.gca().set_yscale('log')"
   ]
  },
  {
   "cell_type": "code",
   "execution_count": 56,
   "metadata": {},
   "outputs": [
    {
     "data": {
      "image/png": "[encoded data removed]",
      "text/plain": [
       "<Figure size 640x480 with 1 Axes>"
      ]
     },
     "metadata": {},
     "output_type": "display_data"
    }
   ],
   "source": [
    "plt.hist(np.transpose(xs)[1], bins=np.linspace(-15,0, 201), histtype='step', lw=2, color='dodgerblue')\n",
    "plt.gca().set_yscale('log')"
   ]
  },
  {
   "cell_type": "code",
   "execution_count": 57,
   "metadata": {},
   "outputs": [],
   "source": [
    "s0Positrons = np.array(s0SM)[np.where(np.array([s0.get_ids()[0] for s0 in s0SM]) == -11)[0]]"
   ]
  },
  {
   "cell_type": "code",
   "execution_count": 58,
   "metadata": {},
   "outputs": [
    {
     "data": {
      "text/plain": [
       "<PETITE.particle.Particle at 0x16c15ebc0>"
      ]
     },
     "execution_count": 58,
     "metadata": {},
     "output_type": "execute_result"
    }
   ],
   "source": [
    "s0Positrons[0]"
   ]
  },
  {
   "cell_type": "code",
   "execution_count": 59,
   "metadata": {},
   "outputs": [
    {
     "data": {
      "text/plain": [
       "0.03"
      ]
     },
     "execution_count": 59,
     "metadata": {},
     "output_type": "execute_result"
    }
   ],
   "source": [
    "sGraphite._mV_estimator"
   ]
  },
  {
   "cell_type": "code",
   "execution_count": 77,
   "metadata": {},
   "outputs": [
    {
     "name": "stderr",
     "output_type": "stream",
     "text": [
      "100%|██████████| 100/100 [01:58<00:00,  1.18s/it]\n"
     ]
    }
   ],
   "source": [
    "Energies, Weights = {}, {}\n",
    "for pr in process_code.keys():\n",
    "    Energies[pr] = []\n",
    "    Weights[pr] = []\n",
    "for kk in tqdm(range(100)):\n",
    "    s0SM = sGraphite.generate_shower(22, [10, 0, 0, 10], 22)\n",
    "    s0BSM = sGraphite.generate_dark_shower(ExDir=list(s0SM));\n",
    "    for p0 in s0BSM[1]:\n",
    "        genprocess = p0.get_ids()[-2]\n",
    "        for pr in process_code.keys():\n",
    "            if genprocess == process_code[pr]:\n",
    "                Energies[pr].append(p0.get_p0()[0])\n",
    "                Weights[pr].append(p0.get_ids()[-1])"
   ]
  },
  {
   "cell_type": "code",
   "execution_count": 75,
   "metadata": {},
   "outputs": [
    {
     "data": {
      "text/plain": [
       "(534, 293)"
      ]
     },
     "execution_count": 75,
     "metadata": {},
     "output_type": "execute_result"
    }
   ],
   "source": [
    "len(s0SM), len(s0BSM[1])"
   ]
  },
  {
   "cell_type": "code",
   "execution_count": 78,
   "metadata": {},
   "outputs": [
    {
     "data": {
      "text/plain": [
       "Text(0.5, 0, '$E_V\\\\ [\\\\mathrm{GeV}]$')"
      ]
     },
     "execution_count": 78,
     "metadata": {},
     "output_type": "execute_result"
    },
    {
     "data": {
      "image/png": "[encoded data removed]",
      "text/plain": [
       "<Figure size 640x480 with 1 Axes>"
      ]
     },
     "metadata": {},
     "output_type": "display_data"
    }
   ],
   "source": [
    "plt.hist(Energies['ExactBrem'], weights=Weights['ExactBrem'], bins=np.logspace(-2, 1, 41), histtype='step', lw=2, color='dodgerblue', label=r\"$e^\\pm\\ \\mathrm{Brem.}$\")\n",
    "plt.hist(Energies['Comp'], weights=Weights['Comp'], bins=np.logspace(-2, 1, 41), histtype='step', lw=2, ls='--', color='dodgerblue', label=r\"$\\gamma e^- \\to V e^-$\")\n",
    "plt.hist(Energies['Ann'], weights=Weights['Ann'], bins=np.logspace(-2, 1, 41), histtype='step', lw=2, ls='-.', color='dodgerblue', label=r\"$e^+ e^- \\to \\gamma V$\")\n",
    "plt.legend(loc='best')\n",
    "plt.gca().set_xscale('log')\n",
    "plt.gca().set_yscale('log')\n",
    "plt.gca().set_xlabel(r\"$E_V\\ [\\mathrm{GeV}]$\")"
   ]
  },
  {
   "cell_type": "code",
   "execution_count": 76,
   "metadata": {},
   "outputs": [
    {
     "data": {
      "image/png": "[encoded data removed]",
      "text/plain": [
       "<Figure size 640x480 with 1 Axes>"
      ]
     },
     "metadata": {},
     "output_type": "display_data"
    }
   ],
   "source": [
    "energyvec = np.logspace(-2.6, 2, 201)\n",
    "plt.plot(energyvec, [sGraphite.GetBSMWeights(22, ee) for ee in energyvec], lw=2, color='dodgerblue')\n",
    "plt.plot(energyvec, [sGraphite.GetBSMWeights(11, ee) for ee in energyvec], lw=2, color='coral')\n",
    "plt.plot(energyvec, [sGraphite.GetBSMWeights(-11, ee) for ee in energyvec], lw=2, ls='--', color='coral')\n",
    "plt.gca().set_xscale('log')\n",
    "plt.gca().set_yscale('log')"
   ]
  },
  {
   "cell_type": "code",
   "execution_count": 63,
   "metadata": {},
   "outputs": [
    {
     "data": {
      "image/png": "[encoded data removed]",
      "text/plain": [
       "<Figure size 640x480 with 1 Axes>"
      ]
     },
     "metadata": {},
     "output_type": "display_data"
    }
   ],
   "source": [
    "energyvec = np.logspace(-2., 2, 101)\n",
    "plt.plot(energyvec, [sGraphite.GetPositronDarkBF(ee) for ee in energyvec], lw=2, color='coral')\n",
    "plt.gca().set_xscale('log')\n",
    "plt.gca().set_yscale('log')"
   ]
  },
  {
   "cell_type": "code",
   "execution_count": 24,
   "metadata": {},
   "outputs": [
    {
     "data": {
      "text/plain": [
       "1038"
      ]
     },
     "execution_count": 24,
     "metadata": {},
     "output_type": "execute_result"
    }
   ],
   "source": [
    "len(s0BSM[1])"
   ]
  },
  {
   "cell_type": "code",
   "execution_count": 25,
   "metadata": {},
   "outputs": [
    {
     "data": {
      "text/plain": [
       "array([<PETITE.particle.Particle object at 0x17fa004f0>,\n",
       "       <PETITE.particle.Particle object at 0x2a720ed40>,\n",
       "       <PETITE.particle.Particle object at 0x2a720d900>,\n",
       "       <PETITE.particle.Particle object at 0x2a720d7b0>,\n",
       "       <PETITE.particle.Particle object at 0x2a720dba0>,\n",
       "       <PETITE.particle.Particle object at 0x2a720d390>,\n",
       "       <PETITE.particle.Particle object at 0x2a720eda0>,\n",
       "       <PETITE.particle.Particle object at 0x2a720e410>,\n",
       "       <PETITE.particle.Particle object at 0x2a720dc90>,\n",
       "       <PETITE.particle.Particle object at 0x2a720feb0>,\n",
       "       <PETITE.particle.Particle object at 0x2a720fb20>,\n",
       "       <PETITE.particle.Particle object at 0x2a72802b0>,\n",
       "       <PETITE.particle.Particle object at 0x2a7280550>,\n",
       "       <PETITE.particle.Particle object at 0x2a72816f0>,\n",
       "       <PETITE.particle.Particle object at 0x2a7283130>,\n",
       "       <PETITE.particle.Particle object at 0x2a7283010>,\n",
       "       <PETITE.particle.Particle object at 0x2a7283280>,\n",
       "       <PETITE.particle.Particle object at 0x2a7281cf0>,\n",
       "       <PETITE.particle.Particle object at 0x2a72839d0>,\n",
       "       <PETITE.particle.Particle object at 0x2a7283730>,\n",
       "       <PETITE.particle.Particle object at 0x2a7281ea0>,\n",
       "       <PETITE.particle.Particle object at 0x2a7283a60>,\n",
       "       <PETITE.particle.Particle object at 0x2a7282f20>,\n",
       "       <PETITE.particle.Particle object at 0x2a7282dd0>,\n",
       "       <PETITE.particle.Particle object at 0x2a7283940>,\n",
       "       <PETITE.particle.Particle object at 0x2a7282ce0>,\n",
       "       <PETITE.particle.Particle object at 0x2a7280a90>,\n",
       "       <PETITE.particle.Particle object at 0x2a7282a70>,\n",
       "       <PETITE.particle.Particle object at 0x2a7282230>,\n",
       "       <PETITE.particle.Particle object at 0x2a72825c0>,\n",
       "       <PETITE.particle.Particle object at 0x2a7283700>,\n",
       "       <PETITE.particle.Particle object at 0x2a7282a40>,\n",
       "       <PETITE.particle.Particle object at 0x2a7283550>,\n",
       "       <PETITE.particle.Particle object at 0x2a7282c50>,\n",
       "       <PETITE.particle.Particle object at 0x2a72837f0>,\n",
       "       <PETITE.particle.Particle object at 0x2a7282f80>,\n",
       "       <PETITE.particle.Particle object at 0x2a7280a30>,\n",
       "       <PETITE.particle.Particle object at 0x2a72835b0>,\n",
       "       <PETITE.particle.Particle object at 0x2a7282b30>,\n",
       "       <PETITE.particle.Particle object at 0x2a72838e0>,\n",
       "       <PETITE.particle.Particle object at 0x2a72838b0>,\n",
       "       <PETITE.particle.Particle object at 0x2a7283040>,\n",
       "       <PETITE.particle.Particle object at 0x2a7281270>,\n",
       "       <PETITE.particle.Particle object at 0x2a7282380>,\n",
       "       <PETITE.particle.Particle object at 0x2a7281c60>,\n",
       "       <PETITE.particle.Particle object at 0x2a7282b60>,\n",
       "       <PETITE.particle.Particle object at 0x2a7282200>,\n",
       "       <PETITE.particle.Particle object at 0x2a7280f70>,\n",
       "       <PETITE.particle.Particle object at 0x2a72820b0>,\n",
       "       <PETITE.particle.Particle object at 0x2a7281480>,\n",
       "       <PETITE.particle.Particle object at 0x2a7281660>,\n",
       "       <PETITE.particle.Particle object at 0x2a7282620>,\n",
       "       <PETITE.particle.Particle object at 0x2a7280790>,\n",
       "       <PETITE.particle.Particle object at 0x2a7281090>,\n",
       "       <PETITE.particle.Particle object at 0x2a72817b0>,\n",
       "       <PETITE.particle.Particle object at 0x2a72823e0>,\n",
       "       <PETITE.particle.Particle object at 0x2a7280f10>,\n",
       "       <PETITE.particle.Particle object at 0x2a7280d90>,\n",
       "       <PETITE.particle.Particle object at 0x2a7280b20>,\n",
       "       <PETITE.particle.Particle object at 0x2a7282410>,\n",
       "       <PETITE.particle.Particle object at 0x2a7282710>,\n",
       "       <PETITE.particle.Particle object at 0x2a7280970>,\n",
       "       <PETITE.particle.Particle object at 0x2a7282470>,\n",
       "       <PETITE.particle.Particle object at 0x2a7281120>,\n",
       "       <PETITE.particle.Particle object at 0x2a72809d0>,\n",
       "       <PETITE.particle.Particle object at 0x2a7281510>,\n",
       "       <PETITE.particle.Particle object at 0x2a7282770>,\n",
       "       <PETITE.particle.Particle object at 0x2a7283460>,\n",
       "       <PETITE.particle.Particle object at 0x2a7281ba0>,\n",
       "       <PETITE.particle.Particle object at 0x2a72815a0>,\n",
       "       <PETITE.particle.Particle object at 0x2a72812a0>,\n",
       "       <PETITE.particle.Particle object at 0x2a7283b50>,\n",
       "       <PETITE.particle.Particle object at 0x2a7283c10>,\n",
       "       <PETITE.particle.Particle object at 0x2a7283d00>,\n",
       "       <PETITE.particle.Particle object at 0x2a7283e20>,\n",
       "       <PETITE.particle.Particle object at 0x2a7283fa0>,\n",
       "       <PETITE.particle.Particle object at 0x17ff7c040>,\n",
       "       <PETITE.particle.Particle object at 0x17ff7c070>,\n",
       "       <PETITE.particle.Particle object at 0x17ff7c130>,\n",
       "       <PETITE.particle.Particle object at 0x17ff7c160>,\n",
       "       <PETITE.particle.Particle object at 0x2a7282c80>,\n",
       "       <PETITE.particle.Particle object at 0x17ff7c2e0>,\n",
       "       <PETITE.particle.Particle object at 0x17ff7c310>,\n",
       "       <PETITE.particle.Particle object at 0x17ff7c370>,\n",
       "       <PETITE.particle.Particle object at 0x17ff7c400>,\n",
       "       <PETITE.particle.Particle object at 0x17ff7c4f0>,\n",
       "       <PETITE.particle.Particle object at 0x17ff7c5b0>,\n",
       "       <PETITE.particle.Particle object at 0x17ff7c670>,\n",
       "       <PETITE.particle.Particle object at 0x17ff7c730>,\n",
       "       <PETITE.particle.Particle object at 0x17ff7c940>,\n",
       "       <PETITE.particle.Particle object at 0x17ff7c9a0>,\n",
       "       <PETITE.particle.Particle object at 0x17ff7ca00>,\n",
       "       <PETITE.particle.Particle object at 0x17ff7ca90>,\n",
       "       <PETITE.particle.Particle object at 0x17ff7caf0>,\n",
       "       <PETITE.particle.Particle object at 0x17ff7cbe0>,\n",
       "       <PETITE.particle.Particle object at 0x17ff7cca0>,\n",
       "       <PETITE.particle.Particle object at 0x17ff7cd90>,\n",
       "       <PETITE.particle.Particle object at 0x17ff7cdf0>,\n",
       "       <PETITE.particle.Particle object at 0x17ff7cfa0>,\n",
       "       <PETITE.particle.Particle object at 0x17ff7d000>,\n",
       "       <PETITE.particle.Particle object at 0x17ff7d090>,\n",
       "       <PETITE.particle.Particle object at 0x17ff7d180>,\n",
       "       <PETITE.particle.Particle object at 0x17ff7d1b0>,\n",
       "       <PETITE.particle.Particle object at 0x17ff7d270>,\n",
       "       <PETITE.particle.Particle object at 0x17ff7d330>,\n",
       "       <PETITE.particle.Particle object at 0x2a7281990>,\n",
       "       <PETITE.particle.Particle object at 0x17ff7d3f0>,\n",
       "       <PETITE.particle.Particle object at 0x17ff7d570>,\n",
       "       <PETITE.particle.Particle object at 0x17ff7c7f0>,\n",
       "       <PETITE.particle.Particle object at 0x17ff7d720>,\n",
       "       <PETITE.particle.Particle object at 0x17ff7d7e0>,\n",
       "       <PETITE.particle.Particle object at 0x17ff7d870>,\n",
       "       <PETITE.particle.Particle object at 0x17ff7d930>,\n",
       "       <PETITE.particle.Particle object at 0x17ff7d990>,\n",
       "       <PETITE.particle.Particle object at 0x17ff7dab0>,\n",
       "       <PETITE.particle.Particle object at 0x17ff7dc00>,\n",
       "       <PETITE.particle.Particle object at 0x17ff7dc60>,\n",
       "       <PETITE.particle.Particle object at 0x17ff7dcf0>,\n",
       "       <PETITE.particle.Particle object at 0x2a7283cd0>,\n",
       "       <PETITE.particle.Particle object at 0x17ff7d420>,\n",
       "       <PETITE.particle.Particle object at 0x17ff7df30>,\n",
       "       <PETITE.particle.Particle object at 0x17ff7e140>,\n",
       "       <PETITE.particle.Particle object at 0x17ff7e200>,\n",
       "       <PETITE.particle.Particle object at 0x17ff7e2f0>,\n",
       "       <PETITE.particle.Particle object at 0x17ff7e3b0>,\n",
       "       <PETITE.particle.Particle object at 0x17ff7e470>,\n",
       "       <PETITE.particle.Particle object at 0x17ff7e590>,\n",
       "       <PETITE.particle.Particle object at 0x17ff7e620>,\n",
       "       <PETITE.particle.Particle object at 0x2a7283ca0>,\n",
       "       <PETITE.particle.Particle object at 0x17ff7e830>,\n",
       "       <PETITE.particle.Particle object at 0x17ff7e8c0>,\n",
       "       <PETITE.particle.Particle object at 0x17ff7ea70>,\n",
       "       <PETITE.particle.Particle object at 0x17ff7eb30>,\n",
       "       <PETITE.particle.Particle object at 0x17ff7eb60>,\n",
       "       <PETITE.particle.Particle object at 0x17ff7ed70>,\n",
       "       <PETITE.particle.Particle object at 0x17ff7edd0>,\n",
       "       <PETITE.particle.Particle object at 0x17ff7eef0>,\n",
       "       <PETITE.particle.Particle object at 0x17ff7ef20>,\n",
       "       <PETITE.particle.Particle object at 0x2a7281bd0>,\n",
       "       <PETITE.particle.Particle object at 0x17ff7efe0>,\n",
       "       <PETITE.particle.Particle object at 0x17ff7f1c0>,\n",
       "       <PETITE.particle.Particle object at 0x17ff7f2e0>,\n",
       "       <PETITE.particle.Particle object at 0x17ff7f460>,\n",
       "       <PETITE.particle.Particle object at 0x17ff7f4c0>,\n",
       "       <PETITE.particle.Particle object at 0x17ff7d390>,\n",
       "       <PETITE.particle.Particle object at 0x17ff7f610>,\n",
       "       <PETITE.particle.Particle object at 0x17ff7f670>,\n",
       "       <PETITE.particle.Particle object at 0x17ff7f760>,\n",
       "       <PETITE.particle.Particle object at 0x17ff7f6a0>,\n",
       "       <PETITE.particle.Particle object at 0x17ff7f970>,\n",
       "       <PETITE.particle.Particle object at 0x17ff7faf0>,\n",
       "       <PETITE.particle.Particle object at 0x17ff7fb50>,\n",
       "       <PETITE.particle.Particle object at 0x17ff7fca0>,\n",
       "       <PETITE.particle.Particle object at 0x17ff7fd00>,\n",
       "       <PETITE.particle.Particle object at 0x17ff7fdc0>,\n",
       "       <PETITE.particle.Particle object at 0x17ff7feb0>,\n",
       "       <PETITE.particle.Particle object at 0x17ff7ff40>,\n",
       "       <PETITE.particle.Particle object at 0x17ff7ffd0>,\n",
       "       <PETITE.particle.Particle object at 0x17ff88040>,\n",
       "       <PETITE.particle.Particle object at 0x17ff88130>,\n",
       "       <PETITE.particle.Particle object at 0x17ff88250>,\n",
       "       <PETITE.particle.Particle object at 0x17ff885b0>,\n",
       "       <PETITE.particle.Particle object at 0x17ff88730>,\n",
       "       <PETITE.particle.Particle object at 0x17ff88760>,\n",
       "       <PETITE.particle.Particle object at 0x17ff88880>,\n",
       "       <PETITE.particle.Particle object at 0x17ff88a30>,\n",
       "       <PETITE.particle.Particle object at 0x17ff88b80>,\n",
       "       <PETITE.particle.Particle object at 0x17ff88b50>,\n",
       "       <PETITE.particle.Particle object at 0x17ff88c70>,\n",
       "       <PETITE.particle.Particle object at 0x17ff88ca0>,\n",
       "       <PETITE.particle.Particle object at 0x17ff88d90>,\n",
       "       <PETITE.particle.Particle object at 0x17ff88f40>,\n",
       "       <PETITE.particle.Particle object at 0x17ff88f70>,\n",
       "       <PETITE.particle.Particle object at 0x17ff89060>,\n",
       "       <PETITE.particle.Particle object at 0x17ff890f0>,\n",
       "       <PETITE.particle.Particle object at 0x17ff891e0>,\n",
       "       <PETITE.particle.Particle object at 0x17ff89240>,\n",
       "       <PETITE.particle.Particle object at 0x17ff893f0>,\n",
       "       <PETITE.particle.Particle object at 0x17ff88b20>,\n",
       "       <PETITE.particle.Particle object at 0x17ff88370>,\n",
       "       <PETITE.particle.Particle object at 0x17ff89480>,\n",
       "       <PETITE.particle.Particle object at 0x17ff88430>,\n",
       "       <PETITE.particle.Particle object at 0x17ff89570>,\n",
       "       <PETITE.particle.Particle object at 0x17ff895d0>,\n",
       "       <PETITE.particle.Particle object at 0x17ff89750>,\n",
       "       <PETITE.particle.Particle object at 0x17ff897b0>,\n",
       "       <PETITE.particle.Particle object at 0x17ff89870>,\n",
       "       <PETITE.particle.Particle object at 0x17ff899f0>,\n",
       "       <PETITE.particle.Particle object at 0x17ff89a50>,\n",
       "       <PETITE.particle.Particle object at 0x17ff89ba0>,\n",
       "       <PETITE.particle.Particle object at 0x17ff89d20>,\n",
       "       <PETITE.particle.Particle object at 0x17ff89e40>,\n",
       "       <PETITE.particle.Particle object at 0x17ff89ea0>,\n",
       "       <PETITE.particle.Particle object at 0x17ff8a080>,\n",
       "       <PETITE.particle.Particle object at 0x17ff8a2c0>,\n",
       "       <PETITE.particle.Particle object at 0x17ff8a380>,\n",
       "       <PETITE.particle.Particle object at 0x17ff8a410>,\n",
       "       <PETITE.particle.Particle object at 0x17ff8a5f0>,\n",
       "       <PETITE.particle.Particle object at 0x17ff8a680>,\n",
       "       <PETITE.particle.Particle object at 0x17ff8a800>,\n",
       "       <PETITE.particle.Particle object at 0x17ff8a830>,\n",
       "       <PETITE.particle.Particle object at 0x17ff8a8f0>,\n",
       "       <PETITE.particle.Particle object at 0x17ff8aa70>,\n",
       "       <PETITE.particle.Particle object at 0x17ff8ac20>,\n",
       "       <PETITE.particle.Particle object at 0x17ff8ab90>,\n",
       "       <PETITE.particle.Particle object at 0x17ff8ae00>,\n",
       "       <PETITE.particle.Particle object at 0x17ff8af50>,\n",
       "       <PETITE.particle.Particle object at 0x17ff8b280>,\n",
       "       <PETITE.particle.Particle object at 0x17ff8b2e0>,\n",
       "       <PETITE.particle.Particle object at 0x17ff8b5e0>,\n",
       "       <PETITE.particle.Particle object at 0x17ff8b640>,\n",
       "       <PETITE.particle.Particle object at 0x17ff8b730>,\n",
       "       <PETITE.particle.Particle object at 0x17ff8b760>,\n",
       "       <PETITE.particle.Particle object at 0x17ff8b880>,\n",
       "       <PETITE.particle.Particle object at 0x17ff8b9d0>,\n",
       "       <PETITE.particle.Particle object at 0x17ff8b4c0>,\n",
       "       <PETITE.particle.Particle object at 0x17ff8b550>,\n",
       "       <PETITE.particle.Particle object at 0x17ff8be20>,\n",
       "       <PETITE.particle.Particle object at 0x17ff8be50>,\n",
       "       <PETITE.particle.Particle object at 0x17ff8bee0>,\n",
       "       <PETITE.particle.Particle object at 0x17ff8bf40>,\n",
       "       <PETITE.particle.Particle object at 0x17ff60070>,\n",
       "       <PETITE.particle.Particle object at 0x17ff600a0>,\n",
       "       <PETITE.particle.Particle object at 0x17ff60130>,\n",
       "       <PETITE.particle.Particle object at 0x17ff601f0>,\n",
       "       <PETITE.particle.Particle object at 0x17ff602b0>,\n",
       "       <PETITE.particle.Particle object at 0x17ff603a0>,\n",
       "       <PETITE.particle.Particle object at 0x17ff606d0>,\n",
       "       <PETITE.particle.Particle object at 0x17ff60730>,\n",
       "       <PETITE.particle.Particle object at 0x17ff607f0>,\n",
       "       <PETITE.particle.Particle object at 0x17ff8bd30>,\n",
       "       <PETITE.particle.Particle object at 0x17ff609a0>,\n",
       "       <PETITE.particle.Particle object at 0x17ff60940>,\n",
       "       <PETITE.particle.Particle object at 0x17ff60ac0>,\n",
       "       <PETITE.particle.Particle object at 0x17ff60bb0>,\n",
       "       <PETITE.particle.Particle object at 0x17ff60c40>], dtype=object)"
      ]
     },
     "execution_count": 25,
     "metadata": {},
     "output_type": "execute_result"
    }
   ],
   "source": [
    "s = np.array(s0BSM[1])\n",
    "s[np.where(np.array([p0.get_ids()[-2] for p0 in s0BSM[1]]) == 1)[0]]"
   ]
  },
  {
   "cell_type": "code",
   "execution_count": 11,
   "metadata": {},
   "outputs": [
    {
     "data": {
      "text/plain": [
       "(array([], dtype=int64),)"
      ]
     },
     "execution_count": 11,
     "metadata": {},
     "output_type": "execute_result"
    }
   ],
   "source": [
    "np.where(np.array([p0.get_ids()[0] == 22 for p0 in s0BSM[1]]))"
   ]
  },
  {
   "cell_type": "markdown",
   "metadata": {},
   "source": [
    "Now we create a list of energies to be used in the simulation."
   ]
  },
  {
   "cell_type": "code",
   "execution_count": null,
   "metadata": {},
   "outputs": [],
   "source": [
    "EVec = np.logspace(np.log10(0.0015), np.log10(100.), 100)\n",
    "EVec[58], EVec[73]"
   ]
  }
 ],
 "metadata": {
  "kernelspec": {
   "display_name": "Python 3 (ipykernel)",
   "language": "python",
   "name": "python3"
  },
  "language_info": {
   "codemirror_mode": {
    "name": "ipython",
    "version": 3
   },
   "file_extension": ".py",
   "mimetype": "text/x-python",
   "name": "python",
   "nbconvert_exporter": "python",
   "pygments_lexer": "ipython3",
   "version": "3.10.6"
  }
 },
 "nbformat": 4,
 "nbformat_minor": 2
}
