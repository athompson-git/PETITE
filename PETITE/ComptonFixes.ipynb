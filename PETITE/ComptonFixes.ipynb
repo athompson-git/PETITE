{
 "cells": [
  {
   "cell_type": "code",
   "execution_count": 1,
   "metadata": {},
   "outputs": [],
   "source": [
    "%matplotlib inline\n",
    "import matplotlib\n",
    "from matplotlib.font_manager import FontProperties\n",
    "matplotlib.rcParams['text.latex.preamble'] = r'\\usepackage{amsmath} \\usepackage{amssymb}'\n",
    "from matplotlib import rc\n",
    "rc('text', usetex=True)\n",
    "\n",
    "from tqdm import tqdm\n",
    "\n",
    "from PETITE.AllProcesses import *\n",
    "\n",
    "import matplotlib.pyplot as plt\n",
    "import numpy as np\n",
    "from matplotlib.font_manager import FontProperties\n",
    "from matplotlib.ticker import FixedLocator\n",
    "\n",
    "font0 = FontProperties()\n",
    "font = font0.copy()\n",
    "font.set_size(24)\n",
    "font.set_family('serif')\n",
    "labelfont=font0.copy()\n",
    "labelfont.set_size(20)\n",
    "labelfont.set_weight('bold')\n",
    "legfontBig=font0.copy()\n",
    "legfontBig.set_size(18)\n",
    "legfontBig.set_weight('bold')\n",
    "\n",
    "def set_size(w,h, ax=None):\n",
    "    \"\"\" w, h: width, height in inches \"\"\"\n",
    "    if not ax: ax=plt.gca()\n",
    "    l = ax.figure.subplotpars.left\n",
    "    r = ax.figure.subplotpars.right\n",
    "    t = ax.figure.subplotpars.top\n",
    "    b = ax.figure.subplotpars.bottom\n",
    "    figw = float(w)/(r-l)\n",
    "    figh = float(h)/(t-b)\n",
    "    ax.figure.set_size_inches(figw, figh)"
   ]
  },
  {
   "cell_type": "code",
   "execution_count": 2,
   "metadata": {},
   "outputs": [],
   "source": [
    "Eg0 = 0.5\n",
    "me0 = 0.000511\n",
    "al0 = 1/137.0\n",
    "mV0 = 0.0\n",
    "EvtInfo={'E_inc': Eg0, 'm_e': me0, 'Z_T': 1.0, 'alpha_FS': al0, 'm_V': mV0}"
   ]
  },
  {
   "cell_type": "code",
   "execution_count": 7,
   "metadata": {},
   "outputs": [
    {
     "name": "stdout",
     "output_type": "stream",
     "text": [
      "Integrator Settings:\n",
      "    1000 (approx) integrand evaluations in each of 10 iterations\n",
      "    number of:  strata/axis = [125]\n",
      "                increments/axis = [125]\n",
      "                h-cubes = 125  evaluations/h-cube = 2 (min)\n",
      "                h-cubes/batch = 1000\n",
      "    minimize_mem = False\n",
      "    adapt_to_errors = False\n",
      "    damping parameters: alpha = 0.5  beta= 0.75\n",
      "    limits: h-cubes < 1e+09  evaluations/h-cube < 1e+06\n",
      "    accuracy: relative = 0  absolute accuracy = 0\n",
      "\n",
      "    axis 0 covers (-1.0, 1.0)\n",
      "\n"
     ]
    }
   ],
   "source": [
    "igrange = [[-1., 1.]]\n",
    "integrand = vg.Integrator(igrange)\n",
    "print(integrand.settings())"
   ]
  },
  {
   "cell_type": "code",
   "execution_count": 8,
   "metadata": {},
   "outputs": [],
   "source": [
    "integrand(functools.partial(dSCompton_dCT, EvtInfo), nitn=100, nstrat=[30])\n",
    "result = integrand(functools.partial(dSCompton_dCT, EvtInfo), nitn=100, nstrat=[30])"
   ]
  },
  {
   "cell_type": "code",
   "execution_count": 9,
   "metadata": {},
   "outputs": [
    {
     "name": "stdout",
     "output_type": "stream",
     "text": [
      "itn   integral        wgt average     chi2/dof        Q\n",
      "-------------------------------------------------------\n",
      "  1   5.309(25)       5.309(25)           0.00     1.00\n",
      "  2   5.277(23)       5.292(17)           0.86     0.35\n",
      "  3   5.321(23)       5.302(14)           0.96     0.38\n",
      "  4   5.306(26)       5.303(12)           0.65     0.58\n",
      "  5   5.299(23)       5.302(11)           0.49     0.74\n",
      "  6   5.281(23)       5.2984(97)          0.54     0.75\n",
      "  7   5.292(23)       5.2974(89)          0.46     0.84\n",
      "  8   5.274(24)       5.2946(83)          0.51     0.83\n",
      "  9   5.282(23)       5.2932(78)          0.48     0.87\n",
      " 10   5.309(22)       5.2949(74)          0.48     0.89\n",
      " 11   5.267(26)       5.2928(71)          0.54     0.87\n",
      " 12   5.272(24)       5.2912(68)          0.55     0.87\n",
      " 13   5.284(23)       5.2906(65)          0.51     0.91\n",
      " 14   5.298(23)       5.2912(63)          0.48     0.94\n",
      " 15   5.255(23)       5.2886(60)          0.61     0.86\n",
      " 16   5.286(24)       5.2885(59)          0.57     0.90\n",
      " 17   5.335(24)       5.2910(57)          0.75     0.74\n",
      " 18   5.278(24)       5.2903(55)          0.73     0.78\n",
      " 19   5.311(24)       5.2913(54)          0.72     0.79\n",
      " 20   5.295(24)       5.2915(53)          0.69     0.84\n",
      " 21   5.232(23)       5.2886(51)          0.97     0.50\n",
      " 22   5.304(23)       5.2893(50)          0.94     0.54\n",
      " 23   5.288(24)       5.2892(49)          0.90     0.60\n",
      " 24   5.316(23)       5.2904(48)          0.91     0.58\n",
      " 25   5.295(25)       5.2905(47)          0.88     0.64\n",
      " 26   5.311(25)       5.2912(46)          0.87     0.65\n",
      " 27   5.334(25)       5.2927(46)          0.94     0.55\n",
      " 28   5.326(24)       5.2938(45)          0.98     0.50\n",
      " 29   5.255(23)       5.2924(44)          1.04     0.40\n",
      " 30   5.239(22)       5.2904(43)          1.20     0.21\n",
      " 31   5.289(24)       5.2904(42)          1.16     0.25\n",
      " 32   5.310(24)       5.2910(42)          1.14     0.27\n",
      " 33   5.307(25)       5.2914(41)          1.12     0.30\n",
      " 34   5.233(23)       5.2896(40)          1.27     0.14\n",
      " 35   5.289(24)       5.2896(40)          1.23     0.16\n",
      " 36   5.320(23)       5.2905(39)          1.25     0.15\n",
      " 37   5.275(24)       5.2901(39)          1.23     0.17\n",
      " 38   5.321(24)       5.2909(38)          1.24     0.15\n",
      " 39   5.238(23)       5.2895(38)          1.34     0.08\n",
      " 40   5.335(25)       5.2905(37)          1.39     0.05\n",
      " 41   5.319(24)       5.2912(37)          1.39     0.05\n",
      " 42   5.303(25)       5.2914(37)          1.36     0.06\n",
      " 43   5.303(24)       5.2917(36)          1.34     0.07\n",
      " 44   5.293(23)       5.2917(36)          1.31     0.09\n",
      " 45   5.311(24)       5.2922(35)          1.29     0.09\n",
      " 46   5.285(23)       5.2920(35)          1.27     0.11\n",
      " 47   5.326(25)       5.2926(35)          1.28     0.10\n",
      " 48   5.303(23)       5.2929(34)          1.25     0.11\n",
      " 49   5.285(24)       5.2927(34)          1.23     0.13\n",
      " 50   5.331(24)       5.2934(33)          1.26     0.11\n",
      " 51   5.280(23)       5.2932(33)          1.24     0.12\n",
      " 52   5.301(24)       5.2933(33)          1.22     0.14\n",
      " 53   5.277(25)       5.2930(33)          1.20     0.15\n",
      " 54   5.269(25)       5.2926(32)          1.20     0.16\n",
      " 55   5.288(24)       5.2926(32)          1.17     0.18\n",
      " 56   5.308(24)       5.2928(32)          1.16     0.19\n",
      " 57   5.302(23)       5.2930(31)          1.14     0.22\n",
      " 58   5.271(23)       5.2926(31)          1.14     0.22\n",
      " 59   5.315(25)       5.2929(31)          1.13     0.23\n",
      " 60   5.287(25)       5.2928(31)          1.11     0.26\n",
      " 61   5.308(27)       5.2930(30)          1.10     0.28\n",
      " 62   5.279(24)       5.2928(30)          1.09     0.30\n",
      " 63   5.271(24)       5.2925(30)          1.08     0.30\n",
      " 64   5.313(25)       5.2927(30)          1.08     0.32\n",
      " 65   5.250(24)       5.2921(30)          1.11     0.26\n",
      " 66   5.303(24)       5.2922(29)          1.10     0.28\n",
      " 67   5.294(24)       5.2923(29)          1.08     0.31\n",
      " 68   5.274(22)       5.2920(29)          1.07     0.32\n",
      " 69   5.299(23)       5.2921(29)          1.06     0.35\n",
      " 70   5.322(24)       5.2925(28)          1.06     0.33\n",
      " 71   5.290(24)       5.2925(28)          1.05     0.36\n",
      " 72   5.319(24)       5.2928(28)          1.05     0.36\n",
      " 73   5.255(23)       5.2923(28)          1.08     0.31\n",
      " 74   5.286(24)       5.2922(28)          1.06     0.34\n",
      " 75   5.320(24)       5.2925(27)          1.07     0.33\n",
      " 76   5.285(25)       5.2924(27)          1.05     0.35\n",
      " 77   5.297(23)       5.2925(27)          1.04     0.38\n",
      " 78   5.302(23)       5.2926(27)          1.03     0.41\n",
      " 79   5.280(25)       5.2925(27)          1.02     0.43\n",
      " 80   5.285(23)       5.2924(27)          1.01     0.46\n",
      " 81   5.317(24)       5.2927(26)          1.01     0.46\n",
      " 82   5.287(25)       5.2926(26)          1.00     0.49\n",
      " 83   5.303(23)       5.2928(26)          0.99     0.52\n",
      " 84   5.278(25)       5.2926(26)          0.98     0.54\n",
      " 85   5.324(23)       5.2930(26)          0.99     0.51\n",
      " 86   5.335(24)       5.2935(26)          1.01     0.45\n",
      " 87   5.305(23)       5.2936(25)          1.00     0.47\n",
      " 88   5.293(24)       5.2936(25)          0.99     0.50\n",
      " 89   5.256(23)       5.2932(25)          1.01     0.46\n",
      " 90   5.268(23)       5.2928(25)          1.01     0.45\n",
      " 91   5.292(25)       5.2928(25)          1.00     0.48\n",
      " 92   5.275(24)       5.2927(25)          1.00     0.49\n",
      " 93   5.305(24)       5.2928(25)          0.99     0.51\n",
      " 94   5.271(25)       5.2926(25)          0.98     0.52\n",
      " 95   5.300(25)       5.2927(24)          0.98     0.55\n",
      " 96   5.302(23)       5.2928(24)          0.97     0.57\n",
      " 97   5.272(23)       5.2925(24)          0.97     0.58\n",
      " 98   5.311(25)       5.2927(24)          0.96     0.59\n",
      " 99   5.293(22)       5.2927(24)          0.95     0.62\n",
      "100   5.306(25)       5.2928(24)          0.94     0.64\n",
      "\n"
     ]
    }
   ],
   "source": [
    "print(result.summary())"
   ]
  },
  {
   "cell_type": "code",
   "execution_count": 10,
   "metadata": {},
   "outputs": [],
   "source": [
    "pickler = Compton_S([Eg0, me0, mV0, al0], VB=True, mode='Pickle')"
   ]
  },
  {
   "cell_type": "code",
   "execution_count": 11,
   "metadata": {},
   "outputs": [
    {
     "name": "stdout",
     "output_type": "stream",
     "text": [
      "Integrator Settings:\n",
      "    2400 (approx) integrand evaluations in each of 5000 iterations\n",
      "    number of:  strata/axis = [300]\n",
      "                increments/axis = [300]\n",
      "                h-cubes = 300  evaluations/h-cube = 2 (min)\n",
      "                h-cubes/batch = 1000\n",
      "    minimize_mem = False\n",
      "    adapt_to_errors = False\n",
      "    damping parameters: alpha = 0.5  beta= 0.75\n",
      "    limits: h-cubes < 1e+09  evaluations/h-cube < 1e+06\n",
      "    accuracy: relative = 0  absolute accuracy = 0\n",
      "\n",
      "    axis 0 covers (-1.0, 1.0)\n",
      "\n"
     ]
    }
   ],
   "source": [
    "print(pickler.settings())"
   ]
  },
  {
   "cell_type": "code",
   "execution_count": 12,
   "metadata": {},
   "outputs": [
    {
     "name": "stderr",
     "output_type": "stream",
     "text": [
      "2261it [00:00, 110833.08it/s]\n"
     ]
    }
   ],
   "source": [
    "AllEvts = []\n",
    "for x, wgt in tqdm(pickler.random()):\n",
    "    AllEvts.append([x[0], dSCompton_dCT(EvtInfo, x)*wgt])\n",
    "AllEvts = np.array(AllEvts)"
   ]
  },
  {
   "cell_type": "code",
   "execution_count": 13,
   "metadata": {},
   "outputs": [
    {
     "name": "stderr",
     "output_type": "stream",
     "text": [
      "300it [00:00, 92277.15it/s]\n"
     ]
    }
   ],
   "source": [
    "pickler.set(max_nhcube=1, neval=300)\n",
    "AllEvts2 = []\n",
    "for x, wgt in tqdm(pickler.random()):\n",
    "    AllEvts2.append([x[0], dSCompton_dCT(EvtInfo, x)*wgt])\n",
    "AllEvts2 = np.array(AllEvts2)"
   ]
  },
  {
   "cell_type": "code",
   "execution_count": 14,
   "metadata": {},
   "outputs": [
    {
     "data": {
      "image/png": "[encoded data removed]",
      "text/plain": [
       "<Figure size 1032.26x649.351 with 1 Axes>"
      ]
     },
     "metadata": {},
     "output_type": "display_data"
    }
   ],
   "source": [
    "b0 = np.linspace(-1,1, 41)\n",
    "dens = True\n",
    "\n",
    "plt.hist(np.transpose(AllEvts)[0], weights=np.transpose(AllEvts)[-1], bins=b0, histtype='step', lw=3, color='C6', density=dens, ls='-')\n",
    "plt.hist(np.transpose(AllEvts2)[0], weights=np.transpose(AllEvts2)[-1], bins=b0, histtype='step', lw=3, color='C6', density=dens, ls='--')\n",
    "\n",
    "plt.gca().set_yscale('log')\n",
    "plt.gca().set_xlabel(r\"$\\cos\\theta$\", fontsize=24)\n",
    "plt.gca().set_ylabel(r\"$\\mathrm{photons/bin}$\", fontsize=24)\n",
    "[l.set_size(16) for l in plt.gca().get_xticklabels()]\n",
    "[l.set_size(16) for l in plt.gca().get_yticklabels()]\n",
    "\n",
    "set_size(8.0, 5.0)\n"
   ]
  },
  {
   "cell_type": "code",
   "execution_count": null,
   "metadata": {},
   "outputs": [],
   "source": []
  }
 ],
 "metadata": {
  "kernelspec": {
   "display_name": "kjk",
   "language": "python",
   "name": "python3"
  },
  "language_info": {
   "codemirror_mode": {
    "name": "ipython",
    "version": 3
   },
   "file_extension": ".py",
   "mimetype": "text/x-python",
   "name": "python",
   "nbconvert_exporter": "python",
   "pygments_lexer": "ipython3",
   "version": "3.10.6"
  },
  "orig_nbformat": 4,
  "vscode": {
   "interpreter": {
    "hash": "dc9f97d0a873609d34121d0fcf4883047dbfbfb1ca92b262ed553a7e9462aba7"
   }
  }
 },
 "nbformat": 4,
 "nbformat_minor": 2
}
